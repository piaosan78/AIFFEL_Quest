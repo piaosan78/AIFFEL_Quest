{
  "nbformat": 4,
  "nbformat_minor": 0,
  "metadata": {
    "colab": {
      "provenance": [],
      "mount_file_id": "1X6U_uvaxFnK018YbgCzschIkc-T_qsDa",
      "authorship_tag": "ABX9TyMr1RVQ5QOot1IVnSFe/aZu",
      "include_colab_link": true
    },
    "kernelspec": {
      "name": "python3",
      "display_name": "Python 3"
    },
    "language_info": {
      "name": "python"
    }
  },
  "cells": [
    {
      "cell_type": "markdown",
      "metadata": {
        "id": "view-in-github",
        "colab_type": "text"
      },
      "source": [
        "<a href=\"https://colab.research.google.com/github/piaosan78/AIFFEL_Quest/blob/master/Main_Quest_01/MQ03.ipynb\" target=\"_parent\"><img src=\"https://colab.research.google.com/assets/colab-badge.svg\" alt=\"Open In Colab\"/></a>"
      ]
    },
    {
      "cell_type": "code",
      "source": [
        "import tensorflow as tf\n",
        "import numpy as np\n",
        "\n",
        "print(tf.__version__)\n",
        "print(np.__version__)"
      ],
      "metadata": {
        "colab": {
          "base_uri": "https://localhost:8080/"
        },
        "id": "zwOifDIpmASn",
        "outputId": "cbd58913-3846-4ec3-d7cb-0c9ef16115d4"
      },
      "execution_count": 1,
      "outputs": [
        {
          "output_type": "stream",
          "name": "stdout",
          "text": [
            "2.12.0\n",
            "1.22.4\n"
          ]
        }
      ]
    },
    {
      "cell_type": "code",
      "source": [
        "from PIL import Image\n",
        "import glob\n",
        "import os\n",
        "\n",
        "print(\"PIL 라이브러리 import 완료!\")"
      ],
      "metadata": {
        "colab": {
          "base_uri": "https://localhost:8080/"
        },
        "id": "o1SYQf1QTjrI",
        "outputId": "9b73b72a-90e6-4fe9-bc26-f5089e6053b7"
      },
      "execution_count": 2,
      "outputs": [
        {
          "output_type": "stream",
          "name": "stdout",
          "text": [
            "PIL 라이브러리 import 완료!\n"
          ]
        }
      ]
    },
    {
      "cell_type": "code",
      "source": [
        "from PIL import Image\n",
        "import os, glob\n",
        "\n",
        "def resize_images(img_path):\n",
        "    images=glob.glob(img_path + \"/*.jpg\")\n",
        "\n",
        "    print(len(images), \" images to be resized.\")\n",
        "\n",
        "    # 파일마다 모두 28x28 사이즈로 바꾸어 저장합니다.\n",
        "    target_size=(28,28)\n",
        "    for img in images:\n",
        "        old_img=Image.open(img)\n",
        "        new_img=old_img.resize(target_size,Image.ANTIALIAS)\n",
        "        new_img.save(img, \"JPEG\")\n",
        "\n",
        "    print(len(images), \" images resized.\")\n",
        "\n",
        "# 가위 이미지가 저장된 디렉토리 아래의 모든 jpg 파일을 읽어들여서\n",
        "image_dir_path = \"/content/drive/MyDrive/scissors\"\n",
        "resize_images(image_dir_path)\n",
        "\n",
        "print(\"가위 이미지 resize 완료!\")\n",
        "\n",
        "\n",
        "def resize_images(img_path):\n",
        "    images=glob.glob(img_path + \"/*.jpg\")\n",
        "\n",
        "    print(len(images), \" images to be resized.\")\n",
        "\n",
        "    # 파일마다 모두 28x28 사이즈로 바꾸어 저장합니다.\n",
        "    target_size=(28,28)\n",
        "    for img in images:\n",
        "        old_img=Image.open(img)\n",
        "        new_img=old_img.resize(target_size,Image.ANTIALIAS)\n",
        "        new_img.save(img, \"JPEG\")\n",
        "\n",
        "    print(len(images), \" images resized.\")\n",
        "\n",
        "# 보 이미지가 저장된 디렉토리 아래의 모든 jpg 파일을 읽어들여서\n",
        "image_dir_path = \"/content/drive/MyDrive/paper\"\n",
        "resize_images(image_dir_path)\n",
        "\n",
        "print(\"보 이미지 resize 완료!\")\n",
        "\n",
        "\n",
        "def resize_images(img_path):\n",
        "    images=glob.glob(img_path + \"/*.jpg\")\n",
        "\n",
        "    print(len(images), \" images to be resized.\")\n",
        "\n",
        "    # 파일마다 모두 28x28 사이즈로 바꾸어 저장합니다.\n",
        "    target_size=(28,28)\n",
        "    for img in images:\n",
        "        old_img=Image.open(img)\n",
        "        new_img=old_img.resize(target_size,Image.ANTIALIAS)\n",
        "        new_img.save(img, \"JPEG\")\n",
        "\n",
        "    print(len(images), \" images resized.\")\n",
        "\n",
        "# 바위 이미지가 저장된 디렉토리 아래의 모든 jpg 파일을 읽어들여서\n",
        "image_dir_path = \"/content/drive/MyDrive/rock\"\n",
        "resize_images(image_dir_path)\n",
        "\n",
        "print(\"바위 이미지 resize 완료!\")"
      ],
      "metadata": {
        "colab": {
          "base_uri": "https://localhost:8080/"
        },
        "id": "6QL0fJodauIA",
        "outputId": "6e7678f0-304c-492b-dee3-7982796ffdf1"
      },
      "execution_count": 3,
      "outputs": [
        {
          "output_type": "stream",
          "name": "stdout",
          "text": [
            "1000  images to be resized.\n",
            "1000  images resized.\n",
            "가위 이미지 resize 완료!\n",
            "1000  images to be resized.\n",
            "1000  images resized.\n",
            "보 이미지 resize 완료!\n",
            "1000  images to be resized.\n",
            "1000  images resized.\n",
            "바위 이미지 resize 완료!\n"
          ]
        }
      ]
    },
    {
      "cell_type": "code",
      "source": [
        "import numpy as np\n",
        "import glob\n",
        "from PIL import Image\n",
        "import matplotlib.pyplot as plt\n",
        "import os\n",
        "\n",
        "def load_data(img_path, number_of_data=3000):\n",
        "    img_size=28\n",
        "    color=3\n",
        "    imgs=np.zeros(number_of_data*img_size*img_size*color,dtype=np.int32).reshape(number_of_data,img_size,img_size,color)\n",
        "    labels=np.zeros(number_of_data,dtype=np.int32)\n",
        "\n",
        "    idx=0\n",
        "    for file in glob.iglob(img_path+'/scissor/*.jpg'):\n",
        "        if idx >= number_of_data:\n",
        "            break\n",
        "        img = np.array(Image.open(file),dtype=np.int32)\n",
        "        imgs[idx,:,:,:]=img\n",
        "        labels[idx]=0\n",
        "        idx=idx+1\n",
        "\n",
        "    for file in glob.iglob(img_path+'/rock/*.jpg'):\n",
        "        if idx >= number_of_data:\n",
        "            break\n",
        "        img = np.array(Image.open(file),dtype=np.int32)\n",
        "        imgs[idx,:,:,:]=img\n",
        "        labels[idx]=1\n",
        "        idx=idx+1\n",
        "\n",
        "    for file in glob.iglob(img_path+'/paper/*.jpg'):\n",
        "        if idx >= number_of_data:\n",
        "            break\n",
        "        img = np.array(Image.open(file),dtype=np.int32)\n",
        "        imgs[idx,:,:,:]=img\n",
        "        labels[idx]=2\n",
        "        idx=idx+1\n",
        "\n",
        "    print(\"학습데이터(x_train)의 이미지 개수는\", idx,\"입니다.\")\n",
        "    return imgs[:idx], labels[:idx]\n"
      ],
      "metadata": {
        "id": "0Y9IPwoUpVsl"
      },
      "execution_count": 13,
      "outputs": []
    },
    {
      "cell_type": "code",
      "source": [
        "image_dir_path = \"/content/drive/MyDrive\"  # 이미지 경로를 적절히 수정해야 합니다.\n",
        "(x_train, y_train) = load_data(image_dir_path)\n",
        "x_train_norm = x_train/255.0   # 입력은 0~1 사이의 값으로 정규화\n",
        "\n",
        "plt.imshow(x_train_norm[0])\n",
        "print('라벨: ', y_train[0])"
      ],
      "metadata": {
        "colab": {
          "base_uri": "https://localhost:8080/",
          "height": 465
        },
        "id": "w_74n_yggxNV",
        "outputId": "6ca5e2eb-8ffa-4dae-d357-28e6c63d6cbb"
      },
      "execution_count": 14,
      "outputs": [
        {
          "output_type": "stream",
          "name": "stdout",
          "text": [
            "학습데이터(x_train)의 이미지 개수는 2000 입니다.\n",
            "라벨:  1\n"
          ]
        },
        {
          "output_type": "display_data",
          "data": {
            "text/plain": [
              "<Figure size 640x480 with 1 Axes>"
            ],
            "image/png": "[encoded data removed]"
          },
          "metadata": {}
        }
      ]
    },
    {
      "cell_type": "code",
      "source": [
        "print(x_train.shape)\n",
        "print('최소값:',np.min(x_train), ' 최대값:',np.max(x_train))"
      ],
      "metadata": {
        "colab": {
          "base_uri": "https://localhost:8080/"
        },
        "id": "EEN9mmKxBByj",
        "outputId": "0c0123d0-15c8-4276-f1bc-472b27aa694e"
      },
      "execution_count": 15,
      "outputs": [
        {
          "output_type": "stream",
          "name": "stdout",
          "text": [
            "(2000, 28, 28, 3)\n",
            "최소값: 0  최대값: 255\n"
          ]
        }
      ]
    },
    {
      "cell_type": "code",
      "source": [
        "import tensorflow as tf\n",
        "from tensorflow import keras\n",
        "import numpy as np"
      ],
      "metadata": {
        "id": "BGDOUmypkBto"
      },
      "execution_count": 16,
      "outputs": []
    },
    {
      "cell_type": "code",
      "source": [
        "# 바꿔 볼 수 있는 하이퍼파라미터들\n",
        "n_channel_1=32\n",
        "n_channel_2=32\n",
        "n_dense=32\n",
        "n_train_epoch=10\n",
        "\n",
        "model=keras.models.Sequential()\n",
        "model.add(keras.layers.Conv2D(n_channel_1, (3,3), activation='relu', padding = \"valid\", input_shape=(28,28,3)))\n",
        "model.add(keras.layers.MaxPool2D(2,2))\n",
        "model.add(keras.layers.Conv2D(n_channel_2, (3,3), activation='relu'))\n",
        "model.add(keras.layers.MaxPooling2D((2,2)))\n",
        "model.add(keras.layers.Flatten())\n",
        "model.add(keras.layers.Dense(n_dense, activation='relu'))\n",
        "model.add(keras.layers.Dense(10, activation='softmax'))\n",
        "\n",
        "model.summary()"
      ],
      "metadata": {
        "colab": {
          "base_uri": "https://localhost:8080/"
        },
        "id": "BV1MbsqKo-C_",
        "outputId": "bf1df89e-2dfb-4cb9-84ca-8342261cd521"
      },
      "execution_count": 17,
      "outputs": [
        {
          "output_type": "stream",
          "name": "stdout",
          "text": [
            "Model: \"sequential_1\"\n",
            "_________________________________________________________________\n",
            " Layer (type)                Output Shape              Param #   \n",
            "=================================================================\n",
            " conv2d_2 (Conv2D)           (None, 26, 26, 32)        896       \n",
            "                                                                 \n",
            " max_pooling2d_2 (MaxPooling  (None, 13, 13, 32)       0         \n",
            " 2D)                                                             \n",
            "                                                                 \n",
            " conv2d_3 (Conv2D)           (None, 11, 11, 32)        9248      \n",
            "                                                                 \n",
            " max_pooling2d_3 (MaxPooling  (None, 5, 5, 32)         0         \n",
            " 2D)                                                             \n",
            "                                                                 \n",
            " flatten_1 (Flatten)         (None, 800)               0         \n",
            "                                                                 \n",
            " dense_2 (Dense)             (None, 32)                25632     \n",
            "                                                                 \n",
            " dense_3 (Dense)             (None, 10)                330       \n",
            "                                                                 \n",
            "=================================================================\n",
            "Total params: 36,106\n",
            "Trainable params: 36,106\n",
            "Non-trainable params: 0\n",
            "_________________________________________________________________\n"
          ]
        }
      ]
    },
    {
      "cell_type": "code",
      "source": [
        "from PIL import Image\n",
        "import os, glob\n",
        "\n",
        "def resize_images(img_path):\n",
        "    images=glob.glob(img_path + \"/*.jpg\")\n",
        "\n",
        "    print(len(images), \" images to be resized.\")\n",
        "\n",
        "    # 파일마다 모두 28x28 사이즈로 바꾸어 저장합니다.\n",
        "    target_size=(28,28)\n",
        "    for img in images:\n",
        "        old_img=Image.open(img)\n",
        "        new_img=old_img.resize(target_size,Image.ANTIALIAS)\n",
        "        new_img.save(img, \"JPEG\")\n",
        "\n",
        "    print(len(images), \" images resized.\")\n",
        "\n",
        "# 가위 이미지가 저장된 디렉토리 아래의 모든 jpg 파일을 읽어들여서\n",
        "image_dir_path = \"/content/drive/MyDrive/test/scissor\"\n",
        "resize_images(image_dir_path)\n",
        "print(\"가위 이미지 resize 완료!\")\n",
        "\n",
        "# 바위 이미지가 저장된 디렉토리 아래의 모든 jpg 파일을 읽어들여서\n",
        "image_dir_path = \"/content/drive/MyDrive/test/rock\"\n",
        "resize_images(image_dir_path)\n",
        "print(\"바위 이미지 resize 완료!\")\n",
        "\n",
        "# 보 이미지가 저장된 디렉토리 아래의 모든 jpg 파일을 읽어들여서\n",
        "image_dir_path = \"/content/drive/MyDrive/test/paper\"\n",
        "resize_images(image_dir_path)\n",
        "print(\"보 이미지 resize 완료!\")\n"
      ],
      "metadata": {
        "colab": {
          "base_uri": "https://localhost:8080/"
        },
        "id": "OJ9PPUN372lq",
        "outputId": "7c297570-8b2f-49ba-ad1b-d7e005b96f51"
      },
      "execution_count": 19,
      "outputs": [
        {
          "output_type": "stream",
          "name": "stdout",
          "text": [
            "100  images to be resized.\n",
            "100  images resized.\n",
            "가위 이미지 resize 완료!\n",
            "100  images to be resized.\n",
            "100  images resized.\n",
            "바위 이미지 resize 완료!\n",
            "100  images to be resized.\n",
            "100  images resized.\n",
            "보 이미지 resize 완료!\n"
          ]
        }
      ]
    },
    {
      "cell_type": "code",
      "source": [
        "def load_test_data(img_path, number_of_data=300):\n",
        "    img_size=28\n",
        "    color=3\n",
        "    imgs=np.zeros(number_of_data*img_size*img_size*color,dtype=np.int32).reshape(number_of_data,img_size,img_size,color)\n",
        "    labels=np.zeros(number_of_data,dtype=np.int32)\n",
        "\n",
        "    idx=0\n",
        "    for file in glob.iglob(img_path+'/scissors/*.jpg'):\n",
        "        if idx >= number_of_data:\n",
        "            break\n",
        "        img = np.array(Image.open(file),dtype=np.int32)\n",
        "        imgs[idx,:,:,:]=img\n",
        "        labels[idx]=0\n",
        "        idx=idx+1\n",
        "\n",
        "    for file in glob.iglob(img_path+'/rock/*.jpg'):\n",
        "        if idx >= number_of_data:\n",
        "            break\n",
        "        img = np.array(Image.open(file),dtype=np.int32)\n",
        "        imgs[idx,:,:,:]=img\n",
        "        labels[idx]=1\n",
        "        idx=idx+1\n",
        "\n",
        "    for file in glob.iglob(img_path+'/paper/*.jpg'):\n",
        "        if idx >= number_of_data:\n",
        "            break\n",
        "        img = np.array(Image.open(file),dtype=np.int32)\n",
        "        imgs[idx,:,:,:]=img\n",
        "        labels[idx]=2\n",
        "        idx=idx+1\n",
        "\n",
        "    print(\"테스트 데이터(x_test)의 이미지 개수는\", idx,\"입니다.\")\n",
        "    return imgs[:idx], labels[:idx]\n",
        "\n",
        "image_dir_path = \"/content/drive/MyDrive/test\"\n",
        "(x_test, y_test) = load_test_data(image_dir_path)\n",
        "x_test_norm = x_test/255.0   # 입력은 0~1 사이의 값으로 정규화"
      ],
      "metadata": {
        "colab": {
          "base_uri": "https://localhost:8080/"
        },
        "id": "ZFSA1Ajt_o6r",
        "outputId": "afa27aa9-7190-4554-b449-88f5a1ec59a3"
      },
      "execution_count": 20,
      "outputs": [
        {
          "output_type": "stream",
          "name": "stdout",
          "text": [
            "테스트 데이터(x_test)의 이미지 개수는 200 입니다.\n"
          ]
        }
      ]
    },
    {
      "cell_type": "code",
      "source": [
        "print(x_test.shape)"
      ],
      "metadata": {
        "colab": {
          "base_uri": "https://localhost:8080/"
        },
        "id": "C1KXKAqtBYrc",
        "outputId": "e92feb44-77a2-4d17-ea8e-0cf91b5934af"
      },
      "execution_count": 21,
      "outputs": [
        {
          "output_type": "stream",
          "name": "stdout",
          "text": [
            "(200, 28, 28, 3)\n"
          ]
        }
      ]
    },
    {
      "cell_type": "code",
      "source": [
        "model.compile(optimizer='adam',\n",
        "             loss='sparse_categorical_crossentropy',\n",
        "             metrics=['accuracy'])\n",
        "\n",
        "model.fit(x_train, y_train, epochs=20)\n",
        "\n",
        "# 모델 시험\n",
        "test_loss, test_accuracy = model.evaluate(x_test, y_test, verbose=2)\n",
        "print(f\"test_loss: {test_loss} \")\n",
        "print(f\"test_accuracy: {test_accuracy}\")"
      ],
      "metadata": {
        "colab": {
          "base_uri": "https://localhost:8080/"
        },
        "id": "7duDRN60_kG0",
        "outputId": "338e7de4-22e0-4eb8-df1e-317668ed39b5"
      },
      "execution_count": 22,
      "outputs": [
        {
          "output_type": "stream",
          "name": "stdout",
          "text": [
            "Epoch 1/20\n",
            "63/63 [==============================] - 3s 29ms/step - loss: 3.0858 - accuracy: 0.6095\n",
            "Epoch 2/20\n",
            "63/63 [==============================] - 2s 28ms/step - loss: 0.5814 - accuracy: 0.7095\n",
            "Epoch 3/20\n",
            "63/63 [==============================] - 2s 28ms/step - loss: 0.4557 - accuracy: 0.7815\n",
            "Epoch 4/20\n",
            "63/63 [==============================] - 2s 27ms/step - loss: 0.3300 - accuracy: 0.8605\n",
            "Epoch 5/20\n",
            "63/63 [==============================] - 2s 27ms/step - loss: 0.2751 - accuracy: 0.8950\n",
            "Epoch 6/20\n",
            "63/63 [==============================] - 2s 38ms/step - loss: 0.1961 - accuracy: 0.9340\n",
            "Epoch 7/20\n",
            "63/63 [==============================] - 3s 48ms/step - loss: 0.1637 - accuracy: 0.9465\n",
            "Epoch 8/20\n",
            "63/63 [==============================] - 2s 30ms/step - loss: 0.1201 - accuracy: 0.9625\n",
            "Epoch 9/20\n",
            "63/63 [==============================] - 2s 28ms/step - loss: 0.0842 - accuracy: 0.9810\n",
            "Epoch 10/20\n",
            "63/63 [==============================] - 2s 28ms/step - loss: 0.0716 - accuracy: 0.9840\n",
            "Epoch 11/20\n",
            "63/63 [==============================] - 2s 28ms/step - loss: 0.0484 - accuracy: 0.9925\n",
            "Epoch 12/20\n",
            "63/63 [==============================] - 2s 28ms/step - loss: 0.0650 - accuracy: 0.9780\n",
            "Epoch 13/20\n",
            "63/63 [==============================] - 2s 32ms/step - loss: 0.0442 - accuracy: 0.9885\n",
            "Epoch 14/20\n",
            "63/63 [==============================] - 3s 50ms/step - loss: 0.0320 - accuracy: 0.9940\n",
            "Epoch 15/20\n",
            "63/63 [==============================] - 2s 36ms/step - loss: 0.0179 - accuracy: 0.9980\n",
            "Epoch 16/20\n",
            "63/63 [==============================] - 2s 28ms/step - loss: 0.0200 - accuracy: 0.9975\n",
            "Epoch 17/20\n",
            "63/63 [==============================] - 2s 28ms/step - loss: 0.0173 - accuracy: 0.9975\n",
            "Epoch 18/20\n",
            "63/63 [==============================] - 2s 27ms/step - loss: 0.0119 - accuracy: 0.9990\n",
            "Epoch 19/20\n",
            "63/63 [==============================] - 2s 28ms/step - loss: 0.0075 - accuracy: 0.9995\n",
            "Epoch 20/20\n",
            "63/63 [==============================] - 2s 28ms/step - loss: 0.0127 - accuracy: 0.9970\n",
            "7/7 - 0s - loss: 0.5747 - accuracy: 0.8600 - 229ms/epoch - 33ms/step\n",
            "test_loss: 0.5747301578521729 \n",
            "test_accuracy: 0.8600000143051147\n"
          ]
        }
      ]
    }
  ]
}