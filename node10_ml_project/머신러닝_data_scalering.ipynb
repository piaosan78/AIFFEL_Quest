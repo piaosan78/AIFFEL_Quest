{
  "nbformat": 4,
  "nbformat_minor": 0,
  "metadata": {
    "colab": {
      "provenance": [],
      "authorship_tag": "ABX9TyOJ8I19sPRpEvNc7lPOuubl",
      "include_colab_link": true
    },
    "kernelspec": {
      "name": "python3",
      "display_name": "Python 3"
    },
    "language_info": {
      "name": "python"
    }
  },
  "cells": [
    {
      "cell_type": "markdown",
      "metadata": {
        "id": "view-in-github",
        "colab_type": "text"
      },
      "source": [
        "<a href=\"https://colab.research.google.com/github/piaosan78/AIFFEL_Quest/blob/master/node10_ml_project/%EB%A8%B8%EC%8B%A0%EB%9F%AC%EB%8B%9D_data_scalering.ipynb\" target=\"_parent\"><img src=\"https://colab.research.google.com/assets/colab-badge.svg\" alt=\"Open In Colab\"/></a>"
      ]
    },
    {
      "cell_type": "code",
      "execution_count": null,
      "metadata": {
        "id": "exOrVq3N8v-n"
      },
      "outputs": [],
      "source": [
        "# 라이브러리\n",
        "import pandas as pd\n",
        "\n",
        "# 데이터 불러오기\n",
        "train = pd.read_csv('/aiffel/data/train.csv')\n",
        "test = pd.read_csv('/aiffel/data/test.csv')"
      ]
    },
    {
      "cell_type": "code",
      "source": [
        "# 데이터 크기\n",
        "train.shape, test.shape"
      ],
      "metadata": {
        "id": "OVM_aEO48zux"
      },
      "execution_count": null,
      "outputs": []
    },
    {
      "cell_type": "code",
      "source": [
        "# 데이터 샘플\n",
        "display(train.head(2))\n",
        "display(test.head(2))"
      ],
      "metadata": {
        "id": "E568hUev81Oh"
      },
      "execution_count": null,
      "outputs": []
    },
    {
      "cell_type": "code",
      "source": [
        "# 데이터 타입\n",
        "train.info()"
      ],
      "metadata": {
        "id": "xv1TUNkQ82Vv"
      },
      "execution_count": null,
      "outputs": []
    },
    {
      "cell_type": "code",
      "source": [
        "# 결측치(train)\n",
        "train.isnull().sum()"
      ],
      "metadata": {
        "id": "Zxn8HsLg83wE"
      },
      "execution_count": null,
      "outputs": []
    },
    {
      "cell_type": "code",
      "source": [
        "# 결측치(test)\n",
        "test.isnull().sum()"
      ],
      "metadata": {
        "id": "vfZzhU7z841d"
      },
      "execution_count": null,
      "outputs": []
    },
    {
      "cell_type": "code",
      "source": [
        "# target(hist)\n",
        "train['price'].hist(bins=100)"
      ],
      "metadata": {
        "id": "rceL9qbA86xc"
      },
      "execution_count": null,
      "outputs": []
    },
    {
      "cell_type": "code",
      "source": [
        "# target(describe)\n",
        "train['price'].describe()"
      ],
      "metadata": {
        "id": "3h3OSq-M88Ac"
      },
      "execution_count": null,
      "outputs": []
    },
    {
      "cell_type": "code",
      "source": [
        "# 피처(host_id)\n",
        "train['host_id'].value_counts()"
      ],
      "metadata": {
        "id": "raMPiaLa89W0"
      },
      "execution_count": null,
      "outputs": []
    },
    {
      "cell_type": "code",
      "source": [
        "# 결측치 컬럼 삭제(last_review)★★★★★\n",
        "train = train.drop('last_review', axis = 1)\n",
        "test = test.drop('last_review', axis = 1)"
      ],
      "metadata": {
        "id": "RSkFAnZU8-6U"
      },
      "execution_count": null,
      "outputs": []
    },
    {
      "cell_type": "code",
      "source": [
        "# 결측치 채우기★★★★★\n",
        "train['reviews_per_month'] = train['reviews_per_month'].fillna(0)\n",
        "test['reviews_per_month'] = test['reviews_per_month'].fillna(0)"
      ],
      "metadata": {
        "id": "3ayY0Vuk9APe"
      },
      "execution_count": null,
      "outputs": []
    },
    {
      "cell_type": "code",
      "source": [
        "# 결측치 확인\n",
        "train.isnull().sum()"
      ],
      "metadata": {
        "id": "lT5MpCKy9BNk"
      },
      "execution_count": null,
      "outputs": []
    },
    {
      "cell_type": "code",
      "source": [
        "# 가격 값 복사★★★★★\n",
        "target = train['price']\n",
        "train = train.drop('price', axis=1)"
      ],
      "metadata": {
        "id": "0rLL0xLt9HTM"
      },
      "execution_count": null,
      "outputs": []
    },
    {
      "cell_type": "code",
      "source": [
        "# 수치형 피처 선택★★★★★\n",
        "# 숫자만이 들어가 있는 데이터의 항목만 꺼내서 별도의 리스트 생성\n",
        "cols = [\"host_id\",\n",
        "        \"latitude\",\n",
        "        \"longitude\",\n",
        "        \"minimum_nights\",\n",
        "        \"number_of_reviews\",\n",
        "        \"reviews_per_month\",\n",
        "        \"calculated_host_listings_count\",\n",
        "        \"availability_365\"\n",
        "        ]\n",
        "\n",
        "train = train[cols]\n",
        "test = test[cols]"
      ],
      "metadata": {
        "id": "xi-sroeE9JnV"
      },
      "execution_count": null,
      "outputs": []
    },
    {
      "cell_type": "code",
      "source": [
        "# 검증 데이터 분리★★★★★\n",
        "from sklearn.model_selection import train_test_split\n",
        "X_train, X_val, y_train, y_val = train_test_split(train, target, test_size=0.2, random_state=2022 )\n",
        "X_train.shape, X_val.shape, y_train.shape, y_val.shape"
      ],
      "metadata": {
        "id": "TzoH5jos9Lr-"
      },
      "execution_count": null,
      "outputs": []
    },
    {
      "cell_type": "code",
      "source": [
        "# 머신러닝(회귀)\n",
        "import pandas as pd\n",
        "from sklearn.linear_model import LinearRegression\n",
        "from sklearn.metrics import mean_squared_error\n",
        "model = LinearRegression()\n",
        "model.fit(X_train,y_train)\n",
        "pred = model.predict(X_val)\n",
        "mean_squared_error(y_val, pred)"
      ],
      "metadata": {
        "id": "-rSikxjx9OQU"
      },
      "execution_count": null,
      "outputs": []
    },
    {
      "cell_type": "code",
      "source": [
        "# 릿지 회귀\n",
        "from sklearn.linear_model import Ridge\n",
        "model = Ridge(alpha = 0.1)\n",
        "model.fit(X_train,y_train)\n",
        "pred = model.predict(X_val)\n",
        "mean_squared_error(y_val, pred)"
      ],
      "metadata": {
        "id": "uM9Ou1Dg9PuE"
      },
      "execution_count": null,
      "outputs": []
    },
    {
      "cell_type": "code",
      "source": [
        "# 라쏘 회귀\n",
        "from sklearn.linear_model import Lasso\n",
        "model = Lasso(alpha = 0.1)\n",
        "model.fit(X_train,y_train)\n",
        "pred = model.predict(X_val)\n",
        "mean_squared_error(y_val, pred)"
      ],
      "metadata": {
        "id": "P-KR7T819UCD"
      },
      "execution_count": null,
      "outputs": []
    },
    {
      "cell_type": "code",
      "source": [
        "# 엘라스틱넷 회귀\n",
        "from sklearn.linear_model import ElasticNet\n",
        "model = ElasticNet(alpha = 0.1, l1_ratio = 1)\n",
        "model.fit(X_train,y_train)\n",
        "pred = model.predict(X_val)\n",
        "mean_squared_error(y_val, pred)"
      ],
      "metadata": {
        "id": "kxAkQ9MN9X4r"
      },
      "execution_count": null,
      "outputs": []
    },
    {
      "cell_type": "code",
      "source": [
        "# 랜덤포레스트\n",
        "from sklearn.ensemble import RandomForestRegressor\n",
        "model = RandomForestRegressor(random_state=2022)\n",
        "model.fit(X_train,y_train)\n",
        "pred = model.predict(X_val)\n",
        "mean_squared_error(y_val, pred)"
      ],
      "metadata": {
        "id": "HDc2hkkf9YWb"
      },
      "execution_count": null,
      "outputs": []
    },
    {
      "cell_type": "code",
      "source": [
        "# Xgboost\n",
        "from xgboost import XGBRegressor\n",
        "model = XGBRegressor(n_estimators = 200 ,learning_rate = 0.1, random_state = 202)\n",
        "model.fit(X_train,y_train)\n",
        "pred = model.predict(X_val)\n",
        "mean_squared_error(y_val, pred)"
      ],
      "metadata": {
        "id": "yiMEKfAH9fXE"
      },
      "execution_count": null,
      "outputs": []
    },
    {
      "cell_type": "code",
      "source": [
        "# test 데이터 예측 및 평가\n",
        "y_test = pd.read_csv('/aiffel/data/y_test.csv')\n",
        "\n",
        "# Xgboost\n",
        "pred = model.predict(test)\n",
        "mse_score = mean_squared_error(y_test, pred)"
      ],
      "metadata": {
        "id": "e4tXclUS9g46"
      },
      "execution_count": null,
      "outputs": []
    },
    {
      "cell_type": "code",
      "source": [
        "# test 데이터 예측 및 평가\n",
        "y_test = pd.read_csv('/aiffel/data/y_test.csv')\n",
        "\n",
        "# Xgboost\n",
        "pred = model.predict(test)\n",
        "mse_score = mean_squared_error(y_test, pred)"
      ],
      "metadata": {
        "id": "ulK5cqy-9iBV"
      },
      "execution_count": null,
      "outputs": []
    }
  ]
}