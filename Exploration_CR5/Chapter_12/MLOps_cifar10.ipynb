{
  "nbformat": 4,
  "nbformat_minor": 0,
  "metadata": {
    "colab": {
      "provenance": [],
      "machine_shape": "hm",
      "gpuType": "T4",
      "authorship_tag": "ABX9TyPNMXJak7fW1fLlZKqoD3pn",
      "include_colab_link": true
    },
    "kernelspec": {
      "name": "python3",
      "display_name": "Python 3"
    },
    "language_info": {
      "name": "python"
    },
    "accelerator": "GPU"
  },
  "cells": [
    {
      "cell_type": "markdown",
      "metadata": {
        "id": "view-in-github",
        "colab_type": "text"
      },
      "source": [
        "<a href=\"https://colab.research.google.com/github/piaosan78/AIFFEL_Quest/blob/master/Exploration_CR5/Chapter_12/MLOps_cifar10.ipynb\" target=\"_parent\"><img src=\"https://colab.research.google.com/assets/colab-badge.svg\" alt=\"Open In Colab\"/></a>"
      ]
    },
    {
      "cell_type": "markdown",
      "source": [
        "# 구글 드라이브 임포트"
      ],
      "metadata": {
        "id": "3CkLYWYfL9iq"
      }
    },
    {
      "cell_type": "code",
      "source": [
        "from google.colab import drive\n",
        "drive.mount('/content/drive')"
      ],
      "metadata": {
        "colab": {
          "base_uri": "https://localhost:8080/"
        },
        "id": "AKlofvlpHsB5",
        "outputId": "31ef678f-6c96-4316-ab00-2097316ffacc"
      },
      "execution_count": 1,
      "outputs": [
        {
          "output_type": "stream",
          "name": "stdout",
          "text": [
            "Mounted at /content/drive\n"
          ]
        }
      ]
    },
    {
      "cell_type": "markdown",
      "source": [
        "# 모델 저장할 폴더 생성 및 케라스 튜너 설치"
      ],
      "metadata": {
        "id": "fKlN6fhGL_ne"
      }
    },
    {
      "cell_type": "code",
      "execution_count": 2,
      "metadata": {
        "colab": {
          "base_uri": "https://localhost:8080/"
        },
        "id": "rHcyn5w7874P",
        "outputId": "7f272ceb-cc82-43ae-c917-4172bb8652ca"
      },
      "outputs": [
        {
          "output_type": "stream",
          "name": "stdout",
          "text": [
            "Collecting keras-tuner\n",
            "  Downloading keras_tuner-1.4.2-py3-none-any.whl (127 kB)\n",
            "\u001b[?25l     \u001b[90m━━━━━━━━━━━━━━━━━━━━━━━━━━━━━━━━━━━━━━━━\u001b[0m \u001b[32m0.0/127.5 kB\u001b[0m \u001b[31m?\u001b[0m eta \u001b[36m-:--:--\u001b[0m\r\u001b[2K     \u001b[91m━━━━━━━━━━━━━━━━━━━━━━━━━━━━━━━━━━━━━\u001b[0m\u001b[91m╸\u001b[0m\u001b[90m━\u001b[0m \u001b[32m122.9/127.5 kB\u001b[0m \u001b[31m3.5 MB/s\u001b[0m eta \u001b[36m0:00:01\u001b[0m\r\u001b[2K     \u001b[90m━━━━━━━━━━━━━━━━━━━━━━━━━━━━━━━━━━━━━━━\u001b[0m \u001b[32m127.5/127.5 kB\u001b[0m \u001b[31m3.0 MB/s\u001b[0m eta \u001b[36m0:00:00\u001b[0m\n",
            "\u001b[?25hCollecting keras-core (from keras-tuner)\n",
            "  Downloading keras_core-0.1.7-py3-none-any.whl (950 kB)\n",
            "\u001b[?25l     \u001b[90m━━━━━━━━━━━━━━━━━━━━━━━━━━━━━━━━━━━━━━━━\u001b[0m \u001b[32m0.0/950.8 kB\u001b[0m \u001b[31m?\u001b[0m eta \u001b[36m-:--:--\u001b[0m\r\u001b[2K     \u001b[90m━━━━━━━━━━━━━━━━━━━━━━━━━━━━━━━━━━━━━━\u001b[0m \u001b[32m950.8/950.8 kB\u001b[0m \u001b[31m49.8 MB/s\u001b[0m eta \u001b[36m0:00:00\u001b[0m\n",
            "\u001b[?25hRequirement already satisfied: packaging in /usr/local/lib/python3.10/dist-packages (from keras-tuner) (23.1)\n",
            "Requirement already satisfied: requests in /usr/local/lib/python3.10/dist-packages (from keras-tuner) (2.31.0)\n",
            "Collecting kt-legacy (from keras-tuner)\n",
            "  Downloading kt_legacy-1.0.5-py3-none-any.whl (9.6 kB)\n",
            "Requirement already satisfied: absl-py in /usr/local/lib/python3.10/dist-packages (from keras-core->keras-tuner) (1.4.0)\n",
            "Requirement already satisfied: numpy in /usr/local/lib/python3.10/dist-packages (from keras-core->keras-tuner) (1.23.5)\n",
            "Requirement already satisfied: rich in /usr/local/lib/python3.10/dist-packages (from keras-core->keras-tuner) (13.5.2)\n",
            "Collecting namex (from keras-core->keras-tuner)\n",
            "  Downloading namex-0.0.7-py3-none-any.whl (5.8 kB)\n",
            "Requirement already satisfied: h5py in /usr/local/lib/python3.10/dist-packages (from keras-core->keras-tuner) (3.9.0)\n",
            "Requirement already satisfied: dm-tree in /usr/local/lib/python3.10/dist-packages (from keras-core->keras-tuner) (0.1.8)\n",
            "Requirement already satisfied: charset-normalizer<4,>=2 in /usr/local/lib/python3.10/dist-packages (from requests->keras-tuner) (3.2.0)\n",
            "Requirement already satisfied: idna<4,>=2.5 in /usr/local/lib/python3.10/dist-packages (from requests->keras-tuner) (3.4)\n",
            "Requirement already satisfied: urllib3<3,>=1.21.1 in /usr/local/lib/python3.10/dist-packages (from requests->keras-tuner) (2.0.4)\n",
            "Requirement already satisfied: certifi>=2017.4.17 in /usr/local/lib/python3.10/dist-packages (from requests->keras-tuner) (2023.7.22)\n",
            "Requirement already satisfied: markdown-it-py>=2.2.0 in /usr/local/lib/python3.10/dist-packages (from rich->keras-core->keras-tuner) (3.0.0)\n",
            "Requirement already satisfied: pygments<3.0.0,>=2.13.0 in /usr/local/lib/python3.10/dist-packages (from rich->keras-core->keras-tuner) (2.16.1)\n",
            "Requirement already satisfied: mdurl~=0.1 in /usr/local/lib/python3.10/dist-packages (from markdown-it-py>=2.2.0->rich->keras-core->keras-tuner) (0.1.2)\n",
            "Installing collected packages: namex, kt-legacy, keras-core, keras-tuner\n",
            "Successfully installed keras-core-0.1.7 keras-tuner-1.4.2 kt-legacy-1.0.5 namex-0.0.7\n"
          ]
        }
      ],
      "source": [
        "!mkdir /content/drive/MyDrive/mlops_cifar10\n",
        "!pip install keras-tuner"
      ]
    },
    {
      "cell_type": "code",
      "source": [],
      "metadata": {
        "id": "GJPZbNKfg3n6"
      },
      "execution_count": null,
      "outputs": []
    },
    {
      "cell_type": "markdown",
      "source": [
        "# 라이브러리 임포트"
      ],
      "metadata": {
        "id": "RO1yAoTwMEY_"
      }
    },
    {
      "cell_type": "code",
      "source": [
        "import tensorflow as tf\n",
        "import keras\n",
        "import keras_tuner as kt\n",
        "from sklearn.model_selection import train_test_split\n",
        "import os"
      ],
      "metadata": {
        "id": "-vEtTVksH21w"
      },
      "execution_count": 17,
      "outputs": []
    },
    {
      "cell_type": "markdown",
      "source": [
        "# 데이터셋 로드"
      ],
      "metadata": {
        "id": "5rOSjot_MF1l"
      }
    },
    {
      "cell_type": "code",
      "source": [
        "(x_train, y_train), (x_test, y_test) = tf.keras.datasets.cifar10.load_data()"
      ],
      "metadata": {
        "id": "DLm5H2nlH4nm"
      },
      "execution_count": 19,
      "outputs": []
    },
    {
      "cell_type": "markdown",
      "source": [
        "# X 1~0 사이로 정규화, y훈련 원핫 인코딩"
      ],
      "metadata": {
        "id": "72XtQjF6MHw0"
      }
    },
    {
      "cell_type": "code",
      "source": [
        "x_train = x_train.astype('float32') / 255.0\n",
        "x_test = x_test.astype('float32') / 255.0\n",
        "y_train = tf.keras.utils.to_categorical(y_train, 10)\n",
        "y_test = tf.keras.utils.to_categorical(y_test, 10)\n",
        "y_train.shape"
      ],
      "metadata": {
        "id": "-Jsd8jszH6je",
        "colab": {
          "base_uri": "https://localhost:8080/"
        },
        "outputId": "8cf9da72-da5b-4b4e-a521-57d1f3cb19d1"
      },
      "execution_count": 20,
      "outputs": [
        {
          "output_type": "execute_result",
          "data": {
            "text/plain": [
              "(50000, 10)"
            ]
          },
          "metadata": {},
          "execution_count": 20
        }
      ]
    },
    {
      "cell_type": "markdown",
      "source": [
        "# 검증 데이터 분리"
      ],
      "metadata": {
        "id": "PspPV_OaMPTT"
      }
    },
    {
      "cell_type": "code",
      "source": [
        "X_train, X_val, y_train, y_val = train_test_split(x_train, y_train, test_size = 0.2)\n",
        "print(X_train.shape)"
      ],
      "metadata": {
        "colab": {
          "base_uri": "https://localhost:8080/"
        },
        "id": "hnefb44nID_o",
        "outputId": "357b7fa8-cd56-4012-ec71-b7b55fe25f52"
      },
      "execution_count": 21,
      "outputs": [
        {
          "output_type": "stream",
          "name": "stdout",
          "text": [
            "(40000, 32, 32, 3)\n"
          ]
        }
      ]
    },
    {
      "cell_type": "markdown",
      "source": [
        "# 케라스 튜너 구성"
      ],
      "metadata": {
        "id": "ZeToWB1HMUXA"
      }
    },
    {
      "cell_type": "code",
      "source": [
        "class DeepTuner(kt.Tuner):\n",
        "    def run_trial(self, trial, X, y, validation_data, **fit_kwargs):\n",
        "        model = self.hypermodel.build(trial.hyperparameters)\n",
        "        model.fit(X, y, batch_size=trial.hyperparameters.Choice(\n",
        "            'batch_size', [16, 32]), **fit_kwargs)\n",
        "\n",
        "\n",
        "        X_val, y_val = validation_data\n",
        "        eval_scores = model.evaluate(X_val, y_val)\n",
        "        return {name: value for name, value in zip(\n",
        "            model.metrics_names,\n",
        "            eval_scores)}"
      ],
      "metadata": {
        "id": "8ez49jI3IKJV"
      },
      "execution_count": 22,
      "outputs": []
    },
    {
      "cell_type": "markdown",
      "source": [
        "# 모델 구성"
      ],
      "metadata": {
        "id": "m1DI7d-CMXeM"
      }
    },
    {
      "cell_type": "code",
      "source": [
        "def build_cifar10_model(hp):\n",
        "    model = tf.keras.Sequential()\n",
        "    model.add(tf.keras.Input(shape=(32, 32, 3)))\n",
        "\n",
        "    for i in range(hp.Int('num_layers', min_value=1, max_value=5)):\n",
        "        model.add(tf.keras.layers.Conv2D(hp.Int(f'conv_units_{i}', min_value=32, max_value=128, step=32),\n",
        "                                         (3,3), activation='relu'))\n",
        "        model.add(tf.keras.layers.MaxPooling2D((2, 2)))\n",
        "\n",
        "    for i in range(hp.Int('num_layers', min_value=1, max_value=5)):\n",
        "        model.add(tf.keras.layers.Conv2D(hp.Int(f'conv_units_{i}', min_value=32, max_value=128, step=32),\n",
        "                                         (3,3), activation='relu'))\n",
        "        model.add(tf.keras.layers.MaxPooling2D((2, 2)))\n",
        "\n",
        "    for i in range(hp.Int('num_layers', min_value=1, max_value=5)):\n",
        "        model.add(tf.keras.layers.Conv2D(hp.Int(f'conv_units_{i}', min_value=32, max_value=128, step=32),\n",
        "                                         (3,3), activation='relu'))\n",
        "        model.add(tf.keras.layers.MaxPooling2D((2, 2)))\n",
        "\n",
        "    model.add(tf.keras.layers.Flatten())\n",
        "    model.add(tf.keras.layers.Dense(hp.Int('dense_units', min_value=32, max_value=128, step=32), activation='relu'))\n",
        "    model.add(tf.keras.layers.Dense(10, activation='softmax'))\n",
        "\n",
        "    model.compile(optimizer='adam',\n",
        "                  loss='categorical_crossentropy',\n",
        "                  metrics=['accuracy'])\n",
        "    return model"
      ],
      "metadata": {
        "id": "9k73psTQIdGq"
      },
      "execution_count": 23,
      "outputs": []
    },
    {
      "cell_type": "markdown",
      "source": [
        "# 모델 학습"
      ],
      "metadata": {
        "id": "dF8C6av0MY1P"
      }
    },
    {
      "cell_type": "code",
      "source": [
        "class CustomTuner(kt.Tuner):\n",
        "\n",
        "    def run_trial(self, trial, *args, **kwargs):\n",
        "        # You can add additional customization here\n",
        "        return super(CustomTuner, self).run_trial(trial, *args, **kwargs)\n",
        "\n",
        "# Set up the custom tuner\n",
        "my_keras_tuner = CustomTuner(\n",
        "    oracle=kt.oracles.BayesianOptimizationOracle(\n",
        "        objective=kt.Objective('val_accuracy', 'max'),\n",
        "        max_trials=10,\n",
        "        seed=42),\n",
        "    hypermodel=build_cifar10_model,\n",
        "    overwrite=True,\n",
        "    project_name='cifar10_keras_tuner'\n",
        ")\n",
        "\n",
        "# Now, the search should work without errors\n",
        "my_keras_tuner.search(X_train, y_train, validation_data=(X_val, y_val), epochs=10)\n"
      ],
      "metadata": {
        "colab": {
          "base_uri": "https://localhost:8080/"
        },
        "id": "fTO8VKC2Ium-",
        "outputId": "4db2e7b3-b8a6-4f89-e950-754d894f5dcb"
      },
      "execution_count": 27,
      "outputs": [
        {
          "output_type": "stream",
          "name": "stdout",
          "text": [
            "Trial 10 Complete [00h 00m 00s]\n",
            "\n",
            "Best val_accuracy So Far: 0.6919000148773193\n",
            "Total elapsed time: 00h 06m 03s\n"
          ]
        }
      ]
    },
    {
      "cell_type": "markdown",
      "source": [
        "# 모델 구조 확인"
      ],
      "metadata": {
        "id": "d120tpXCMfJl"
      }
    },
    {
      "cell_type": "code",
      "source": [
        "best_hps = my_keras_tuner.get_best_hyperparameters(num_trials=1)[0]\n",
        "model = build_cifar10_model(best_hps)\n",
        "model.summary()\n",
        "\n"
      ],
      "metadata": {
        "colab": {
          "base_uri": "https://localhost:8080/"
        },
        "id": "TL331FPRJEz5",
        "outputId": "cf2a9552-94ed-4167-96c8-ac013c7eeef9"
      },
      "execution_count": 28,
      "outputs": [
        {
          "output_type": "stream",
          "name": "stdout",
          "text": [
            "Model: \"sequential_1\"\n",
            "_________________________________________________________________\n",
            " Layer (type)                Output Shape              Param #   \n",
            "=================================================================\n",
            " conv2d_4 (Conv2D)           (None, 30, 30, 64)        1792      \n",
            "                                                                 \n",
            " max_pooling2d_3 (MaxPoolin  (None, 15, 15, 64)        0         \n",
            " g2D)                                                            \n",
            "                                                                 \n",
            " conv2d_5 (Conv2D)           (None, 13, 13, 128)       73856     \n",
            "                                                                 \n",
            " max_pooling2d_4 (MaxPoolin  (None, 6, 6, 128)         0         \n",
            " g2D)                                                            \n",
            "                                                                 \n",
            " conv2d_6 (Conv2D)           (None, 4, 4, 32)          36896     \n",
            "                                                                 \n",
            " max_pooling2d_5 (MaxPoolin  (None, 2, 2, 32)          0         \n",
            " g2D)                                                            \n",
            "                                                                 \n",
            " flatten (Flatten)           (None, 128)               0         \n",
            "                                                                 \n",
            " dense (Dense)               (None, 128)               16512     \n",
            "                                                                 \n",
            " dense_1 (Dense)             (None, 10)                1290      \n",
            "                                                                 \n",
            "=================================================================\n",
            "Total params: 130346 (509.16 KB)\n",
            "Trainable params: 130346 (509.16 KB)\n",
            "Non-trainable params: 0 (0.00 Byte)\n",
            "_________________________________________________________________\n"
          ]
        }
      ]
    },
    {
      "cell_type": "markdown",
      "source": [
        "# 최적화 모델 학습"
      ],
      "metadata": {
        "id": "oXsRWaoPMi0M"
      }
    },
    {
      "cell_type": "code",
      "source": [
        "model.fit(X_train, y_train, batch_size=32, epochs=20, validation_data=(X_val, y_val))\n",
        "model.evaluate(x_test, y_test)"
      ],
      "metadata": {
        "colab": {
          "base_uri": "https://localhost:8080/"
        },
        "id": "KvIP2au0LFwZ",
        "outputId": "8624b8ef-a624-43ea-8b19-b21c3ab88ba6"
      },
      "execution_count": 29,
      "outputs": [
        {
          "output_type": "stream",
          "name": "stdout",
          "text": [
            "Epoch 1/20\n",
            "1250/1250 [==============================] - 7s 4ms/step - loss: 1.6529 - accuracy: 0.3900 - val_loss: 1.4282 - val_accuracy: 0.4790\n",
            "Epoch 2/20\n",
            "1250/1250 [==============================] - 5s 4ms/step - loss: 1.2550 - accuracy: 0.5520 - val_loss: 1.2335 - val_accuracy: 0.5599\n",
            "Epoch 3/20\n",
            "1250/1250 [==============================] - 5s 4ms/step - loss: 1.1147 - accuracy: 0.6049 - val_loss: 1.1424 - val_accuracy: 0.5930\n",
            "Epoch 4/20\n",
            "1250/1250 [==============================] - 5s 4ms/step - loss: 1.0126 - accuracy: 0.6427 - val_loss: 1.0424 - val_accuracy: 0.6295\n",
            "Epoch 5/20\n",
            "1250/1250 [==============================] - 5s 4ms/step - loss: 0.9445 - accuracy: 0.6677 - val_loss: 1.0205 - val_accuracy: 0.6390\n",
            "Epoch 6/20\n",
            "1250/1250 [==============================] - 5s 4ms/step - loss: 0.8837 - accuracy: 0.6891 - val_loss: 0.9722 - val_accuracy: 0.6577\n",
            "Epoch 7/20\n",
            "1250/1250 [==============================] - 5s 4ms/step - loss: 0.8281 - accuracy: 0.7101 - val_loss: 0.9462 - val_accuracy: 0.6735\n",
            "Epoch 8/20\n",
            "1250/1250 [==============================] - 5s 4ms/step - loss: 0.7849 - accuracy: 0.7250 - val_loss: 0.9326 - val_accuracy: 0.6768\n",
            "Epoch 9/20\n",
            "1250/1250 [==============================] - 5s 4ms/step - loss: 0.7451 - accuracy: 0.7387 - val_loss: 0.9068 - val_accuracy: 0.6827\n",
            "Epoch 10/20\n",
            "1250/1250 [==============================] - 5s 4ms/step - loss: 0.7057 - accuracy: 0.7527 - val_loss: 0.9120 - val_accuracy: 0.6814\n",
            "Epoch 11/20\n",
            "1250/1250 [==============================] - 5s 4ms/step - loss: 0.6746 - accuracy: 0.7619 - val_loss: 0.9103 - val_accuracy: 0.6899\n",
            "Epoch 12/20\n",
            "1250/1250 [==============================] - 5s 4ms/step - loss: 0.6431 - accuracy: 0.7729 - val_loss: 0.9404 - val_accuracy: 0.6836\n",
            "Epoch 13/20\n",
            "1250/1250 [==============================] - 5s 4ms/step - loss: 0.6156 - accuracy: 0.7829 - val_loss: 0.9352 - val_accuracy: 0.6897\n",
            "Epoch 14/20\n",
            "1250/1250 [==============================] - 5s 4ms/step - loss: 0.5939 - accuracy: 0.7903 - val_loss: 0.9830 - val_accuracy: 0.6786\n",
            "Epoch 15/20\n",
            "1250/1250 [==============================] - 5s 4ms/step - loss: 0.5621 - accuracy: 0.8014 - val_loss: 1.0056 - val_accuracy: 0.6771\n",
            "Epoch 16/20\n",
            "1250/1250 [==============================] - 5s 4ms/step - loss: 0.5408 - accuracy: 0.8080 - val_loss: 0.9690 - val_accuracy: 0.6936\n",
            "Epoch 17/20\n",
            "1250/1250 [==============================] - 5s 4ms/step - loss: 0.5110 - accuracy: 0.8200 - val_loss: 0.9527 - val_accuracy: 0.6989\n",
            "Epoch 18/20\n",
            "1250/1250 [==============================] - 5s 4ms/step - loss: 0.4899 - accuracy: 0.8262 - val_loss: 0.9945 - val_accuracy: 0.6861\n",
            "Epoch 19/20\n",
            "1250/1250 [==============================] - 5s 4ms/step - loss: 0.4759 - accuracy: 0.8308 - val_loss: 1.0422 - val_accuracy: 0.6879\n",
            "Epoch 20/20\n",
            "1250/1250 [==============================] - 5s 4ms/step - loss: 0.4552 - accuracy: 0.8380 - val_loss: 1.0078 - val_accuracy: 0.6986\n",
            "313/313 [==============================] - 1s 2ms/step - loss: 0.9976 - accuracy: 0.7007\n"
          ]
        },
        {
          "output_type": "execute_result",
          "data": {
            "text/plain": [
              "[0.9975835084915161, 0.7006999850273132]"
            ]
          },
          "metadata": {},
          "execution_count": 29
        }
      ]
    },
    {
      "cell_type": "markdown",
      "source": [
        "# 모델 평가"
      ],
      "metadata": {
        "id": "NoRkJznBMlDO"
      }
    },
    {
      "cell_type": "code",
      "source": [
        "model.evaluate(x_test, y_test)"
      ],
      "metadata": {
        "colab": {
          "base_uri": "https://localhost:8080/"
        },
        "id": "zTNCAHueLH2v",
        "outputId": "554c0980-6059-418a-bd04-dd70963e796f"
      },
      "execution_count": 31,
      "outputs": [
        {
          "output_type": "stream",
          "name": "stdout",
          "text": [
            "313/313 [==============================] - 1s 3ms/step - loss: 0.9976 - accuracy: 0.7007\n"
          ]
        },
        {
          "output_type": "execute_result",
          "data": {
            "text/plain": [
              "[0.9975835084915161, 0.7006999850273132]"
            ]
          },
          "metadata": {},
          "execution_count": 31
        }
      ]
    },
    {
      "cell_type": "markdown",
      "source": [
        "#"
      ],
      "metadata": {
        "id": "ANwgmbBjMm2h"
      }
    },
    {
      "cell_type": "markdown",
      "source": [
        "# 최적 모델 저장"
      ],
      "metadata": {
        "id": "-evWn38WOAFO"
      }
    },
    {
      "cell_type": "code",
      "source": [
        "model.save('/content/drive/MyDrive/mlops_cifar10/best_model/1')"
      ],
      "metadata": {
        "id": "IGxtDVYHLIvl"
      },
      "execution_count": 32,
      "outputs": []
    },
    {
      "cell_type": "markdown",
      "source": [
        "# 최적 모델 불러오기"
      ],
      "metadata": {
        "id": "rq64t96MOC59"
      }
    },
    {
      "cell_type": "code",
      "source": [
        "load_path = '/content/drive/MyDrive/mlops_cifar10/best_model/1'\n",
        "best_model = tf.keras.models.load_model(load_path)"
      ],
      "metadata": {
        "id": "GAeGsWkqL8dA"
      },
      "execution_count": 34,
      "outputs": []
    },
    {
      "cell_type": "markdown",
      "source": [
        "# 최적 모델 구성 확인"
      ],
      "metadata": {
        "id": "PuiLawY4OEnA"
      }
    },
    {
      "cell_type": "code",
      "source": [
        "best_model.summary()"
      ],
      "metadata": {
        "colab": {
          "base_uri": "https://localhost:8080/"
        },
        "id": "6YVS2HQLNzdw",
        "outputId": "7baa9ad6-9128-4ec9-9bc5-74507144b933"
      },
      "execution_count": 35,
      "outputs": [
        {
          "output_type": "stream",
          "name": "stdout",
          "text": [
            "Model: \"sequential_1\"\n",
            "_________________________________________________________________\n",
            " Layer (type)                Output Shape              Param #   \n",
            "=================================================================\n",
            " conv2d_4 (Conv2D)           (None, 30, 30, 64)        1792      \n",
            "                                                                 \n",
            " max_pooling2d_3 (MaxPoolin  (None, 15, 15, 64)        0         \n",
            " g2D)                                                            \n",
            "                                                                 \n",
            " conv2d_5 (Conv2D)           (None, 13, 13, 128)       73856     \n",
            "                                                                 \n",
            " max_pooling2d_4 (MaxPoolin  (None, 6, 6, 128)         0         \n",
            " g2D)                                                            \n",
            "                                                                 \n",
            " conv2d_6 (Conv2D)           (None, 4, 4, 32)          36896     \n",
            "                                                                 \n",
            " max_pooling2d_5 (MaxPoolin  (None, 2, 2, 32)          0         \n",
            " g2D)                                                            \n",
            "                                                                 \n",
            " flatten (Flatten)           (None, 128)               0         \n",
            "                                                                 \n",
            " dense (Dense)               (None, 128)               16512     \n",
            "                                                                 \n",
            " dense_1 (Dense)             (None, 10)                1290      \n",
            "                                                                 \n",
            "=================================================================\n",
            "Total params: 130346 (509.16 KB)\n",
            "Trainable params: 130346 (509.16 KB)\n",
            "Non-trainable params: 0 (0.00 Byte)\n",
            "_________________________________________________________________\n"
          ]
        }
      ]
    },
    {
      "cell_type": "code",
      "source": [
        "converter = tf.lite.TFLiteConverter.from_keras_model(model)\n",
        "tflite_model = converter.convert()"
      ],
      "metadata": {
        "id": "Ly3eLKbYN0aB"
      },
      "execution_count": 36,
      "outputs": []
    },
    {
      "cell_type": "code",
      "source": [
        "with open('model.tflite', 'wb') as f:\n",
        "  f.write(tflite_model)"
      ],
      "metadata": {
        "id": "Co71HDYjN3BJ"
      },
      "execution_count": 37,
      "outputs": []
    },
    {
      "cell_type": "code",
      "source": [
        "interpreter = tf.lite.Interpreter(model_content=tflite_model)\n",
        "\n",
        "signatures = interpreter.get_signature_list()\n",
        "print(signatures)"
      ],
      "metadata": {
        "colab": {
          "base_uri": "https://localhost:8080/"
        },
        "id": "IeJs5l8AN5Ir",
        "outputId": "832e1c2a-8a65-415f-ea96-83590ff9b3d5"
      },
      "execution_count": 38,
      "outputs": [
        {
          "output_type": "stream",
          "name": "stdout",
          "text": [
            "{'serving_default': {'inputs': ['input_2'], 'outputs': ['dense_1']}}\n"
          ]
        }
      ]
    },
    {
      "cell_type": "code",
      "source": [
        "classify_lite = interpreter.get_signature_runner('serving_default')\n",
        "classify_lite"
      ],
      "metadata": {
        "colab": {
          "base_uri": "https://localhost:8080/"
        },
        "id": "YYUG7L9lN6c7",
        "outputId": "478af79f-8643-4b96-f6d4-4ef07ce79a8a"
      },
      "execution_count": 39,
      "outputs": [
        {
          "output_type": "execute_result",
          "data": {
            "text/plain": [
              "<tensorflow.lite.python.interpreter.SignatureRunner at 0x7bf49c46ace0>"
            ]
          },
          "metadata": {},
          "execution_count": 39
        }
      ]
    }
  ]
}