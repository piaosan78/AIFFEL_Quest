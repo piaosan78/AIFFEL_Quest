{
  "nbformat": 4,
  "nbformat_minor": 0,
  "metadata": {
    "colab": {
      "provenance": [],
      "machine_shape": "hm",
      "authorship_tag": "ABX9TyMxuli4jnjX3LrTjzflGv8Z",
      "include_colab_link": true
    },
    "kernelspec": {
      "name": "python3",
      "display_name": "Python 3"
    },
    "language_info": {
      "name": "python"
    },
    "accelerator": "TPU"
  },
  "cells": [
    {
      "cell_type": "markdown",
      "metadata": {
        "id": "view-in-github",
        "colab_type": "text"
      },
      "source": [
        "<a href=\"https://colab.research.google.com/github/piaosan78/AIFFEL_Quest/blob/master/Exploration_CR5/Chapter_4/%EC%95%84%EB%A7%88%EC%A1%B4_%EB%A6%AC%EB%B7%B0_%EC%9E%90%EC%97%B0%EC%96%B4%EC%B2%98%EB%A6%AC.ipynb\" target=\"_parent\"><img src=\"https://colab.research.google.com/assets/colab-badge.svg\" alt=\"Open In Colab\"/></a>"
      ]
    },
    {
      "cell_type": "markdown",
      "source": [
        "## NLTK 라이브러리 및 기타 라이브러리 불러오기"
      ],
      "metadata": {
        "id": "oI2cPCWRk7uH"
      }
    },
    {
      "cell_type": "code",
      "execution_count": null,
      "metadata": {
        "colab": {
          "base_uri": "https://localhost:8080/"
        },
        "id": "hrk9o9lyj49P",
        "outputId": "71bf1667-5b33-4de1-942d-d9fc43645248"
      },
      "outputs": [
        {
          "output_type": "stream",
          "name": "stderr",
          "text": [
            "[nltk_data] Downloading package stopwords to /root/nltk_data...\n",
            "[nltk_data]   Unzipping corpora/stopwords.zip.\n"
          ]
        },
        {
          "output_type": "stream",
          "name": "stdout",
          "text": [
            "=3\n"
          ]
        }
      ],
      "source": [
        "import nltk\n",
        "nltk.download('stopwords')\n",
        "\n",
        "import numpy as np\n",
        "import pandas as pd\n",
        "import os\n",
        "import re\n",
        "import matplotlib.pyplot as plt\n",
        "from nltk.corpus import stopwords\n",
        "from bs4 import BeautifulSoup\n",
        "from tensorflow.keras.preprocessing.text import Tokenizer\n",
        "from tensorflow.keras.preprocessing.sequence import pad_sequences\n",
        "import urllib.request\n",
        "import warnings\n",
        "warnings.filterwarnings(\"ignore\", category=UserWarning, module='bs4')\n",
        "\n",
        "print('=3')"
      ]
    },
    {
      "cell_type": "markdown",
      "source": [
        "## CSV 파일 로드"
      ],
      "metadata": {
        "id": "Mul4qQmqlHnv"
      }
    },
    {
      "cell_type": "markdown",
      "source": [
        "1. 구글 드라이브 마운트 및 압축 해제"
      ],
      "metadata": {
        "id": "acmCZHPhmQKP"
      }
    },
    {
      "cell_type": "code",
      "source": [
        "from google.colab import drive\n",
        "drive.mount('/content/drive')"
      ],
      "metadata": {
        "colab": {
          "base_uri": "https://localhost:8080/"
        },
        "id": "MIH4qYNAlOa2",
        "outputId": "72b282f7-8302-43ff-a865-9ba83534038d"
      },
      "execution_count": null,
      "outputs": [
        {
          "output_type": "stream",
          "name": "stdout",
          "text": [
            "Mounted at /content/drive\n"
          ]
        }
      ]
    },
    {
      "cell_type": "markdown",
      "source": [
        "2. 파일 로드"
      ],
      "metadata": {
        "id": "XX1ihAmJmT4C"
      }
    },
    {
      "cell_type": "code",
      "source": [
        "data = pd.read_csv(\"/content/drive/MyDrive/Reviews.csv\", nrows=100000)\n",
        "print('전체 샘플수 :', len(data))"
      ],
      "metadata": {
        "colab": {
          "base_uri": "https://localhost:8080/"
        },
        "id": "SshiUX4nlEjT",
        "outputId": "1d87ced0-0eae-4458-9e14-b63c446ded78"
      },
      "execution_count": null,
      "outputs": [
        {
          "output_type": "stream",
          "name": "stdout",
          "text": [
            "전체 샘플수 : 100000\n"
          ]
        }
      ]
    },
    {
      "cell_type": "markdown",
      "source": [
        "3. 데이터 확인하기"
      ],
      "metadata": {
        "id": "FBRDTwlCmWPg"
      }
    },
    {
      "cell_type": "code",
      "source": [
        "data.head()"
      ],
      "metadata": {
        "colab": {
          "base_uri": "https://localhost:8080/",
          "height": 206
        },
        "id": "5mcwYnlkmJ-M",
        "outputId": "606fd3b5-4581-4aaf-c5e7-fa53c95aff94"
      },
      "execution_count": null,
      "outputs": [
        {
          "output_type": "execute_result",
          "data": {
            "text/plain": [
              "   Id   ProductId          UserId                      ProfileName  \\\n",
              "0   1  B001E4KFG0  A3SGXH7AUHU8GW                       delmartian   \n",
              "1   2  B00813GRG4  A1D87F6ZCVE5NK                           dll pa   \n",
              "2   3  B000LQOCH0   ABXLMWJIXXAIN  Natalia Corres \"Natalia Corres\"   \n",
              "3   4  B000UA0QIQ  A395BORC6FGVXV                             Karl   \n",
              "4   5  B006K2ZZ7K  A1UQRSCLF8GW1T    Michael D. Bigham \"M. Wassir\"   \n",
              "\n",
              "   HelpfulnessNumerator  HelpfulnessDenominator  Score        Time  \\\n",
              "0                     1                       1      5  1303862400   \n",
              "1                     0                       0      1  1346976000   \n",
              "2                     1                       1      4  1219017600   \n",
              "3                     3                       3      2  1307923200   \n",
              "4                     0                       0      5  1350777600   \n",
              "\n",
              "                 Summary                                               Text  \n",
              "0  Good Quality Dog Food  I have bought several of the Vitality canned d...  \n",
              "1      Not as Advertised  Product arrived labeled as Jumbo Salted Peanut...  \n",
              "2  \"Delight\" says it all  This is a confection that has been around a fe...  \n",
              "3         Cough Medicine  If you are looking for the secret ingredient i...  \n",
              "4            Great taffy  Great taffy at a great price.  There was a wid...  "
            ],
            "text/html": [
              "\n",
              "  <div id=\"df-e5c2fd9c-af89-4602-bb3a-a6113e6a7abb\" class=\"colab-df-container\">\n",
              "    <div>\n",
              "<style scoped>\n",
              "    .dataframe tbody tr th:only-of-type {\n",
              "        vertical-align: middle;\n",
              "    }\n",
              "\n",
              "    .dataframe tbody tr th {\n",
              "        vertical-align: top;\n",
              "    }\n",
              "\n",
              "    .dataframe thead th {\n",
              "        text-align: right;\n",
              "    }\n",
              "</style>\n",
              "<table border=\"1\" class=\"dataframe\">\n",
              "  <thead>\n",
              "    <tr style=\"text-align: right;\">\n",
              "      <th></th>\n",
              "      <th>Id</th>\n",
              "      <th>ProductId</th>\n",
              "      <th>UserId</th>\n",
              "      <th>ProfileName</th>\n",
              "      <th>HelpfulnessNumerator</th>\n",
              "      <th>HelpfulnessDenominator</th>\n",
              "      <th>Score</th>\n",
              "      <th>Time</th>\n",
              "      <th>Summary</th>\n",
              "      <th>Text</th>\n",
              "    </tr>\n",
              "  </thead>\n",
              "  <tbody>\n",
              "    <tr>\n",
              "      <th>0</th>\n",
              "      <td>1</td>\n",
              "      <td>B001E4KFG0</td>\n",
              "      <td>A3SGXH7AUHU8GW</td>\n",
              "      <td>delmartian</td>\n",
              "      <td>1</td>\n",
              "      <td>1</td>\n",
              "      <td>5</td>\n",
              "      <td>1303862400</td>\n",
              "      <td>Good Quality Dog Food</td>\n",
              "      <td>I have bought several of the Vitality canned d...</td>\n",
              "    </tr>\n",
              "    <tr>\n",
              "      <th>1</th>\n",
              "      <td>2</td>\n",
              "      <td>B00813GRG4</td>\n",
              "      <td>A1D87F6ZCVE5NK</td>\n",
              "      <td>dll pa</td>\n",
              "      <td>0</td>\n",
              "      <td>0</td>\n",
              "      <td>1</td>\n",
              "      <td>1346976000</td>\n",
              "      <td>Not as Advertised</td>\n",
              "      <td>Product arrived labeled as Jumbo Salted Peanut...</td>\n",
              "    </tr>\n",
              "    <tr>\n",
              "      <th>2</th>\n",
              "      <td>3</td>\n",
              "      <td>B000LQOCH0</td>\n",
              "      <td>ABXLMWJIXXAIN</td>\n",
              "      <td>Natalia Corres \"Natalia Corres\"</td>\n",
              "      <td>1</td>\n",
              "      <td>1</td>\n",
              "      <td>4</td>\n",
              "      <td>1219017600</td>\n",
              "      <td>\"Delight\" says it all</td>\n",
              "      <td>This is a confection that has been around a fe...</td>\n",
              "    </tr>\n",
              "    <tr>\n",
              "      <th>3</th>\n",
              "      <td>4</td>\n",
              "      <td>B000UA0QIQ</td>\n",
              "      <td>A395BORC6FGVXV</td>\n",
              "      <td>Karl</td>\n",
              "      <td>3</td>\n",
              "      <td>3</td>\n",
              "      <td>2</td>\n",
              "      <td>1307923200</td>\n",
              "      <td>Cough Medicine</td>\n",
              "      <td>If you are looking for the secret ingredient i...</td>\n",
              "    </tr>\n",
              "    <tr>\n",
              "      <th>4</th>\n",
              "      <td>5</td>\n",
              "      <td>B006K2ZZ7K</td>\n",
              "      <td>A1UQRSCLF8GW1T</td>\n",
              "      <td>Michael D. Bigham \"M. Wassir\"</td>\n",
              "      <td>0</td>\n",
              "      <td>0</td>\n",
              "      <td>5</td>\n",
              "      <td>1350777600</td>\n",
              "      <td>Great taffy</td>\n",
              "      <td>Great taffy at a great price.  There was a wid...</td>\n",
              "    </tr>\n",
              "  </tbody>\n",
              "</table>\n",
              "</div>\n",
              "    <div class=\"colab-df-buttons\">\n",
              "\n",
              "  <div class=\"colab-df-container\">\n",
              "    <button class=\"colab-df-convert\" onclick=\"convertToInteractive('df-e5c2fd9c-af89-4602-bb3a-a6113e6a7abb')\"\n",
              "            title=\"Convert this dataframe to an interactive table.\"\n",
              "            style=\"display:none;\">\n",
              "\n",
              "  <svg xmlns=\"http://www.w3.org/2000/svg\" height=\"24px\" viewBox=\"0 -960 960 960\">\n",
              "    <path d=\"M120-120v-720h720v720H120Zm60-500h600v-160H180v160Zm220 220h160v-160H400v160Zm0 220h160v-160H400v160ZM180-400h160v-160H180v160Zm440 0h160v-160H620v160ZM180-180h160v-160H180v160Zm440 0h160v-160H620v160Z\"/>\n",
              "  </svg>\n",
              "    </button>\n",
              "\n",
              "  <style>\n",
              "    .colab-df-container {\n",
              "      display:flex;\n",
              "      gap: 12px;\n",
              "    }\n",
              "\n",
              "    .colab-df-convert {\n",
              "      background-color: #E8F0FE;\n",
              "      border: none;\n",
              "      border-radius: 50%;\n",
              "      cursor: pointer;\n",
              "      display: none;\n",
              "      fill: #1967D2;\n",
              "      height: 32px;\n",
              "      padding: 0 0 0 0;\n",
              "      width: 32px;\n",
              "    }\n",
              "\n",
              "    .colab-df-convert:hover {\n",
              "      background-color: #E2EBFA;\n",
              "      box-shadow: 0px 1px 2px rgba(60, 64, 67, 0.3), 0px 1px 3px 1px rgba(60, 64, 67, 0.15);\n",
              "      fill: #174EA6;\n",
              "    }\n",
              "\n",
              "    .colab-df-buttons div {\n",
              "      margin-bottom: 4px;\n",
              "    }\n",
              "\n",
              "    [theme=dark] .colab-df-convert {\n",
              "      background-color: #3B4455;\n",
              "      fill: #D2E3FC;\n",
              "    }\n",
              "\n",
              "    [theme=dark] .colab-df-convert:hover {\n",
              "      background-color: #434B5C;\n",
              "      box-shadow: 0px 1px 3px 1px rgba(0, 0, 0, 0.15);\n",
              "      filter: drop-shadow(0px 1px 2px rgba(0, 0, 0, 0.3));\n",
              "      fill: #FFFFFF;\n",
              "    }\n",
              "  </style>\n",
              "\n",
              "    <script>\n",
              "      const buttonEl =\n",
              "        document.querySelector('#df-e5c2fd9c-af89-4602-bb3a-a6113e6a7abb button.colab-df-convert');\n",
              "      buttonEl.style.display =\n",
              "        google.colab.kernel.accessAllowed ? 'block' : 'none';\n",
              "\n",
              "      async function convertToInteractive(key) {\n",
              "        const element = document.querySelector('#df-e5c2fd9c-af89-4602-bb3a-a6113e6a7abb');\n",
              "        const dataTable =\n",
              "          await google.colab.kernel.invokeFunction('convertToInteractive',\n",
              "                                                    [key], {});\n",
              "        if (!dataTable) return;\n",
              "\n",
              "        const docLinkHtml = 'Like what you see? Visit the ' +\n",
              "          '<a target=\"_blank\" href=https://colab.research.google.com/notebooks/data_table.ipynb>data table notebook</a>'\n",
              "          + ' to learn more about interactive tables.';\n",
              "        element.innerHTML = '';\n",
              "        dataTable['output_type'] = 'display_data';\n",
              "        await google.colab.output.renderOutput(dataTable, element);\n",
              "        const docLink = document.createElement('div');\n",
              "        docLink.innerHTML = docLinkHtml;\n",
              "        element.appendChild(docLink);\n",
              "      }\n",
              "    </script>\n",
              "  </div>\n",
              "\n",
              "\n",
              "<div id=\"df-d01967d8-70b2-4269-b352-79d47a08e021\">\n",
              "  <button class=\"colab-df-quickchart\" onclick=\"quickchart('df-d01967d8-70b2-4269-b352-79d47a08e021')\"\n",
              "            title=\"Suggest charts.\"\n",
              "            style=\"display:none;\">\n",
              "\n",
              "<svg xmlns=\"http://www.w3.org/2000/svg\" height=\"24px\"viewBox=\"0 0 24 24\"\n",
              "     width=\"24px\">\n",
              "    <g>\n",
              "        <path d=\"M19 3H5c-1.1 0-2 .9-2 2v14c0 1.1.9 2 2 2h14c1.1 0 2-.9 2-2V5c0-1.1-.9-2-2-2zM9 17H7v-7h2v7zm4 0h-2V7h2v10zm4 0h-2v-4h2v4z\"/>\n",
              "    </g>\n",
              "</svg>\n",
              "  </button>\n",
              "\n",
              "<style>\n",
              "  .colab-df-quickchart {\n",
              "      --bg-color: #E8F0FE;\n",
              "      --fill-color: #1967D2;\n",
              "      --hover-bg-color: #E2EBFA;\n",
              "      --hover-fill-color: #174EA6;\n",
              "      --disabled-fill-color: #AAA;\n",
              "      --disabled-bg-color: #DDD;\n",
              "  }\n",
              "\n",
              "  [theme=dark] .colab-df-quickchart {\n",
              "      --bg-color: #3B4455;\n",
              "      --fill-color: #D2E3FC;\n",
              "      --hover-bg-color: #434B5C;\n",
              "      --hover-fill-color: #FFFFFF;\n",
              "      --disabled-bg-color: #3B4455;\n",
              "      --disabled-fill-color: #666;\n",
              "  }\n",
              "\n",
              "  .colab-df-quickchart {\n",
              "    background-color: var(--bg-color);\n",
              "    border: none;\n",
              "    border-radius: 50%;\n",
              "    cursor: pointer;\n",
              "    display: none;\n",
              "    fill: var(--fill-color);\n",
              "    height: 32px;\n",
              "    padding: 0;\n",
              "    width: 32px;\n",
              "  }\n",
              "\n",
              "  .colab-df-quickchart:hover {\n",
              "    background-color: var(--hover-bg-color);\n",
              "    box-shadow: 0 1px 2px rgba(60, 64, 67, 0.3), 0 1px 3px 1px rgba(60, 64, 67, 0.15);\n",
              "    fill: var(--button-hover-fill-color);\n",
              "  }\n",
              "\n",
              "  .colab-df-quickchart-complete:disabled,\n",
              "  .colab-df-quickchart-complete:disabled:hover {\n",
              "    background-color: var(--disabled-bg-color);\n",
              "    fill: var(--disabled-fill-color);\n",
              "    box-shadow: none;\n",
              "  }\n",
              "\n",
              "  .colab-df-spinner {\n",
              "    border: 2px solid var(--fill-color);\n",
              "    border-color: transparent;\n",
              "    border-bottom-color: var(--fill-color);\n",
              "    animation:\n",
              "      spin 1s steps(1) infinite;\n",
              "  }\n",
              "\n",
              "  @keyframes spin {\n",
              "    0% {\n",
              "      border-color: transparent;\n",
              "      border-bottom-color: var(--fill-color);\n",
              "      border-left-color: var(--fill-color);\n",
              "    }\n",
              "    20% {\n",
              "      border-color: transparent;\n",
              "      border-left-color: var(--fill-color);\n",
              "      border-top-color: var(--fill-color);\n",
              "    }\n",
              "    30% {\n",
              "      border-color: transparent;\n",
              "      border-left-color: var(--fill-color);\n",
              "      border-top-color: var(--fill-color);\n",
              "      border-right-color: var(--fill-color);\n",
              "    }\n",
              "    40% {\n",
              "      border-color: transparent;\n",
              "      border-right-color: var(--fill-color);\n",
              "      border-top-color: var(--fill-color);\n",
              "    }\n",
              "    60% {\n",
              "      border-color: transparent;\n",
              "      border-right-color: var(--fill-color);\n",
              "    }\n",
              "    80% {\n",
              "      border-color: transparent;\n",
              "      border-right-color: var(--fill-color);\n",
              "      border-bottom-color: var(--fill-color);\n",
              "    }\n",
              "    90% {\n",
              "      border-color: transparent;\n",
              "      border-bottom-color: var(--fill-color);\n",
              "    }\n",
              "  }\n",
              "</style>\n",
              "\n",
              "  <script>\n",
              "    async function quickchart(key) {\n",
              "      const quickchartButtonEl =\n",
              "        document.querySelector('#' + key + ' button');\n",
              "      quickchartButtonEl.disabled = true;  // To prevent multiple clicks.\n",
              "      quickchartButtonEl.classList.add('colab-df-spinner');\n",
              "      try {\n",
              "        const charts = await google.colab.kernel.invokeFunction(\n",
              "            'suggestCharts', [key], {});\n",
              "      } catch (error) {\n",
              "        console.error('Error during call to suggestCharts:', error);\n",
              "      }\n",
              "      quickchartButtonEl.classList.remove('colab-df-spinner');\n",
              "      quickchartButtonEl.classList.add('colab-df-quickchart-complete');\n",
              "    }\n",
              "    (() => {\n",
              "      let quickchartButtonEl =\n",
              "        document.querySelector('#df-d01967d8-70b2-4269-b352-79d47a08e021 button');\n",
              "      quickchartButtonEl.style.display =\n",
              "        google.colab.kernel.accessAllowed ? 'block' : 'none';\n",
              "    })();\n",
              "  </script>\n",
              "</div>\n",
              "    </div>\n",
              "  </div>\n"
            ]
          },
          "metadata": {},
          "execution_count": 6
        }
      ]
    },
    {
      "cell_type": "markdown",
      "source": [
        "4. 특정 카테고리만 데이터로 편집"
      ],
      "metadata": {
        "id": "Dsj6EskamYE6"
      }
    },
    {
      "cell_type": "code",
      "source": [
        "data = data[['Text', 'Summary']]\n",
        "data.head()\n",
        "\n",
        "#랜덤한 15개 샘플 출력\n",
        "data.sample(15)"
      ],
      "metadata": {
        "colab": {
          "base_uri": "https://localhost:8080/",
          "height": 519
        },
        "id": "UjoiunjKmj-z",
        "outputId": "c4146a8d-2fdc-4261-d1de-a893468ce818"
      },
      "execution_count": null,
      "outputs": [
        {
          "output_type": "execute_result",
          "data": {
            "text/plain": [
              "                                                    Text  \\\n",
              "95445  Wild rice is hard to find and can be very litt...   \n",
              "34722  The title doesn't say it, but this is puppy fo...   \n",
              "23397  Shake 'N Bake has long been a favorite in our ...   \n",
              "58548  I am a coffee nut & very particular about my b...   \n",
              "36792  The Good:  Organic, BPA free, nice coconut fla...   \n",
              "63706  At 6.8 ounces this drink size is a tad on the ...   \n",
              "5253   These seeds grow very easy, one seed pack grew...   \n",
              "94005  This is the only dog treat that my terrier wil...   \n",
              "6225   We like dark roast coffee because it has more ...   \n",
              "29685  We really like this caramel.Sightly lighter th...   \n",
              "51965  We're very happy with the Smokehouse products ...   \n",
              "16235  A smooth light roast for your morning coffee b...   \n",
              "74908  My dog is about 70lbs, 11 years old and diabet...   \n",
              "67774  these chips are good, and bad, and create mora...   \n",
              "35359  I subscribed and saved to this kind of jerky i...   \n",
              "\n",
              "                                                 Summary  \n",
              "95445                                           Love It!  \n",
              "34722                                 This is Puppy food  \n",
              "23397                                    An Old favorite  \n",
              "58548  The Coffee Bean & Tea Leaf, Hand roasted, Med ...  \n",
              "36792                            Thin, lower fat content  \n",
              "63706                                 Quick coffee drink  \n",
              "5253                                      THEY GROW EASY  \n",
              "94005                                Best dog treat ever  \n",
              "6225                                        Good coffee!  \n",
              "29685                                      Great caramel  \n",
              "51965  Smokehouse delivers great product - not all fr...  \n",
              "16235              Green Mountain Coffee Breakfast Blend  \n",
              "74908                         Healthy treat my dog loves  \n",
              "67774  want to gaain twenty pounds with no control wh...  \n",
              "35359                                   Very unsatisfied  "
            ],
            "text/html": [
              "\n",
              "  <div id=\"df-3a500feb-5cc0-4cef-84db-b32456b704a1\" class=\"colab-df-container\">\n",
              "    <div>\n",
              "<style scoped>\n",
              "    .dataframe tbody tr th:only-of-type {\n",
              "        vertical-align: middle;\n",
              "    }\n",
              "\n",
              "    .dataframe tbody tr th {\n",
              "        vertical-align: top;\n",
              "    }\n",
              "\n",
              "    .dataframe thead th {\n",
              "        text-align: right;\n",
              "    }\n",
              "</style>\n",
              "<table border=\"1\" class=\"dataframe\">\n",
              "  <thead>\n",
              "    <tr style=\"text-align: right;\">\n",
              "      <th></th>\n",
              "      <th>Text</th>\n",
              "      <th>Summary</th>\n",
              "    </tr>\n",
              "  </thead>\n",
              "  <tbody>\n",
              "    <tr>\n",
              "      <th>95445</th>\n",
              "      <td>Wild rice is hard to find and can be very litt...</td>\n",
              "      <td>Love It!</td>\n",
              "    </tr>\n",
              "    <tr>\n",
              "      <th>34722</th>\n",
              "      <td>The title doesn't say it, but this is puppy fo...</td>\n",
              "      <td>This is Puppy food</td>\n",
              "    </tr>\n",
              "    <tr>\n",
              "      <th>23397</th>\n",
              "      <td>Shake 'N Bake has long been a favorite in our ...</td>\n",
              "      <td>An Old favorite</td>\n",
              "    </tr>\n",
              "    <tr>\n",
              "      <th>58548</th>\n",
              "      <td>I am a coffee nut &amp; very particular about my b...</td>\n",
              "      <td>The Coffee Bean &amp; Tea Leaf, Hand roasted, Med ...</td>\n",
              "    </tr>\n",
              "    <tr>\n",
              "      <th>36792</th>\n",
              "      <td>The Good:  Organic, BPA free, nice coconut fla...</td>\n",
              "      <td>Thin, lower fat content</td>\n",
              "    </tr>\n",
              "    <tr>\n",
              "      <th>63706</th>\n",
              "      <td>At 6.8 ounces this drink size is a tad on the ...</td>\n",
              "      <td>Quick coffee drink</td>\n",
              "    </tr>\n",
              "    <tr>\n",
              "      <th>5253</th>\n",
              "      <td>These seeds grow very easy, one seed pack grew...</td>\n",
              "      <td>THEY GROW EASY</td>\n",
              "    </tr>\n",
              "    <tr>\n",
              "      <th>94005</th>\n",
              "      <td>This is the only dog treat that my terrier wil...</td>\n",
              "      <td>Best dog treat ever</td>\n",
              "    </tr>\n",
              "    <tr>\n",
              "      <th>6225</th>\n",
              "      <td>We like dark roast coffee because it has more ...</td>\n",
              "      <td>Good coffee!</td>\n",
              "    </tr>\n",
              "    <tr>\n",
              "      <th>29685</th>\n",
              "      <td>We really like this caramel.Sightly lighter th...</td>\n",
              "      <td>Great caramel</td>\n",
              "    </tr>\n",
              "    <tr>\n",
              "      <th>51965</th>\n",
              "      <td>We're very happy with the Smokehouse products ...</td>\n",
              "      <td>Smokehouse delivers great product - not all fr...</td>\n",
              "    </tr>\n",
              "    <tr>\n",
              "      <th>16235</th>\n",
              "      <td>A smooth light roast for your morning coffee b...</td>\n",
              "      <td>Green Mountain Coffee Breakfast Blend</td>\n",
              "    </tr>\n",
              "    <tr>\n",
              "      <th>74908</th>\n",
              "      <td>My dog is about 70lbs, 11 years old and diabet...</td>\n",
              "      <td>Healthy treat my dog loves</td>\n",
              "    </tr>\n",
              "    <tr>\n",
              "      <th>67774</th>\n",
              "      <td>these chips are good, and bad, and create mora...</td>\n",
              "      <td>want to gaain twenty pounds with no control wh...</td>\n",
              "    </tr>\n",
              "    <tr>\n",
              "      <th>35359</th>\n",
              "      <td>I subscribed and saved to this kind of jerky i...</td>\n",
              "      <td>Very unsatisfied</td>\n",
              "    </tr>\n",
              "  </tbody>\n",
              "</table>\n",
              "</div>\n",
              "    <div class=\"colab-df-buttons\">\n",
              "\n",
              "  <div class=\"colab-df-container\">\n",
              "    <button class=\"colab-df-convert\" onclick=\"convertToInteractive('df-3a500feb-5cc0-4cef-84db-b32456b704a1')\"\n",
              "            title=\"Convert this dataframe to an interactive table.\"\n",
              "            style=\"display:none;\">\n",
              "\n",
              "  <svg xmlns=\"http://www.w3.org/2000/svg\" height=\"24px\" viewBox=\"0 -960 960 960\">\n",
              "    <path d=\"M120-120v-720h720v720H120Zm60-500h600v-160H180v160Zm220 220h160v-160H400v160Zm0 220h160v-160H400v160ZM180-400h160v-160H180v160Zm440 0h160v-160H620v160ZM180-180h160v-160H180v160Zm440 0h160v-160H620v160Z\"/>\n",
              "  </svg>\n",
              "    </button>\n",
              "\n",
              "  <style>\n",
              "    .colab-df-container {\n",
              "      display:flex;\n",
              "      gap: 12px;\n",
              "    }\n",
              "\n",
              "    .colab-df-convert {\n",
              "      background-color: #E8F0FE;\n",
              "      border: none;\n",
              "      border-radius: 50%;\n",
              "      cursor: pointer;\n",
              "      display: none;\n",
              "      fill: #1967D2;\n",
              "      height: 32px;\n",
              "      padding: 0 0 0 0;\n",
              "      width: 32px;\n",
              "    }\n",
              "\n",
              "    .colab-df-convert:hover {\n",
              "      background-color: #E2EBFA;\n",
              "      box-shadow: 0px 1px 2px rgba(60, 64, 67, 0.3), 0px 1px 3px 1px rgba(60, 64, 67, 0.15);\n",
              "      fill: #174EA6;\n",
              "    }\n",
              "\n",
              "    .colab-df-buttons div {\n",
              "      margin-bottom: 4px;\n",
              "    }\n",
              "\n",
              "    [theme=dark] .colab-df-convert {\n",
              "      background-color: #3B4455;\n",
              "      fill: #D2E3FC;\n",
              "    }\n",
              "\n",
              "    [theme=dark] .colab-df-convert:hover {\n",
              "      background-color: #434B5C;\n",
              "      box-shadow: 0px 1px 3px 1px rgba(0, 0, 0, 0.15);\n",
              "      filter: drop-shadow(0px 1px 2px rgba(0, 0, 0, 0.3));\n",
              "      fill: #FFFFFF;\n",
              "    }\n",
              "  </style>\n",
              "\n",
              "    <script>\n",
              "      const buttonEl =\n",
              "        document.querySelector('#df-3a500feb-5cc0-4cef-84db-b32456b704a1 button.colab-df-convert');\n",
              "      buttonEl.style.display =\n",
              "        google.colab.kernel.accessAllowed ? 'block' : 'none';\n",
              "\n",
              "      async function convertToInteractive(key) {\n",
              "        const element = document.querySelector('#df-3a500feb-5cc0-4cef-84db-b32456b704a1');\n",
              "        const dataTable =\n",
              "          await google.colab.kernel.invokeFunction('convertToInteractive',\n",
              "                                                    [key], {});\n",
              "        if (!dataTable) return;\n",
              "\n",
              "        const docLinkHtml = 'Like what you see? Visit the ' +\n",
              "          '<a target=\"_blank\" href=https://colab.research.google.com/notebooks/data_table.ipynb>data table notebook</a>'\n",
              "          + ' to learn more about interactive tables.';\n",
              "        element.innerHTML = '';\n",
              "        dataTable['output_type'] = 'display_data';\n",
              "        await google.colab.output.renderOutput(dataTable, element);\n",
              "        const docLink = document.createElement('div');\n",
              "        docLink.innerHTML = docLinkHtml;\n",
              "        element.appendChild(docLink);\n",
              "      }\n",
              "    </script>\n",
              "  </div>\n",
              "\n",
              "\n",
              "<div id=\"df-bf2848b9-33c2-4106-89ff-dd94e66bbce9\">\n",
              "  <button class=\"colab-df-quickchart\" onclick=\"quickchart('df-bf2848b9-33c2-4106-89ff-dd94e66bbce9')\"\n",
              "            title=\"Suggest charts.\"\n",
              "            style=\"display:none;\">\n",
              "\n",
              "<svg xmlns=\"http://www.w3.org/2000/svg\" height=\"24px\"viewBox=\"0 0 24 24\"\n",
              "     width=\"24px\">\n",
              "    <g>\n",
              "        <path d=\"M19 3H5c-1.1 0-2 .9-2 2v14c0 1.1.9 2 2 2h14c1.1 0 2-.9 2-2V5c0-1.1-.9-2-2-2zM9 17H7v-7h2v7zm4 0h-2V7h2v10zm4 0h-2v-4h2v4z\"/>\n",
              "    </g>\n",
              "</svg>\n",
              "  </button>\n",
              "\n",
              "<style>\n",
              "  .colab-df-quickchart {\n",
              "      --bg-color: #E8F0FE;\n",
              "      --fill-color: #1967D2;\n",
              "      --hover-bg-color: #E2EBFA;\n",
              "      --hover-fill-color: #174EA6;\n",
              "      --disabled-fill-color: #AAA;\n",
              "      --disabled-bg-color: #DDD;\n",
              "  }\n",
              "\n",
              "  [theme=dark] .colab-df-quickchart {\n",
              "      --bg-color: #3B4455;\n",
              "      --fill-color: #D2E3FC;\n",
              "      --hover-bg-color: #434B5C;\n",
              "      --hover-fill-color: #FFFFFF;\n",
              "      --disabled-bg-color: #3B4455;\n",
              "      --disabled-fill-color: #666;\n",
              "  }\n",
              "\n",
              "  .colab-df-quickchart {\n",
              "    background-color: var(--bg-color);\n",
              "    border: none;\n",
              "    border-radius: 50%;\n",
              "    cursor: pointer;\n",
              "    display: none;\n",
              "    fill: var(--fill-color);\n",
              "    height: 32px;\n",
              "    padding: 0;\n",
              "    width: 32px;\n",
              "  }\n",
              "\n",
              "  .colab-df-quickchart:hover {\n",
              "    background-color: var(--hover-bg-color);\n",
              "    box-shadow: 0 1px 2px rgba(60, 64, 67, 0.3), 0 1px 3px 1px rgba(60, 64, 67, 0.15);\n",
              "    fill: var(--button-hover-fill-color);\n",
              "  }\n",
              "\n",
              "  .colab-df-quickchart-complete:disabled,\n",
              "  .colab-df-quickchart-complete:disabled:hover {\n",
              "    background-color: var(--disabled-bg-color);\n",
              "    fill: var(--disabled-fill-color);\n",
              "    box-shadow: none;\n",
              "  }\n",
              "\n",
              "  .colab-df-spinner {\n",
              "    border: 2px solid var(--fill-color);\n",
              "    border-color: transparent;\n",
              "    border-bottom-color: var(--fill-color);\n",
              "    animation:\n",
              "      spin 1s steps(1) infinite;\n",
              "  }\n",
              "\n",
              "  @keyframes spin {\n",
              "    0% {\n",
              "      border-color: transparent;\n",
              "      border-bottom-color: var(--fill-color);\n",
              "      border-left-color: var(--fill-color);\n",
              "    }\n",
              "    20% {\n",
              "      border-color: transparent;\n",
              "      border-left-color: var(--fill-color);\n",
              "      border-top-color: var(--fill-color);\n",
              "    }\n",
              "    30% {\n",
              "      border-color: transparent;\n",
              "      border-left-color: var(--fill-color);\n",
              "      border-top-color: var(--fill-color);\n",
              "      border-right-color: var(--fill-color);\n",
              "    }\n",
              "    40% {\n",
              "      border-color: transparent;\n",
              "      border-right-color: var(--fill-color);\n",
              "      border-top-color: var(--fill-color);\n",
              "    }\n",
              "    60% {\n",
              "      border-color: transparent;\n",
              "      border-right-color: var(--fill-color);\n",
              "    }\n",
              "    80% {\n",
              "      border-color: transparent;\n",
              "      border-right-color: var(--fill-color);\n",
              "      border-bottom-color: var(--fill-color);\n",
              "    }\n",
              "    90% {\n",
              "      border-color: transparent;\n",
              "      border-bottom-color: var(--fill-color);\n",
              "    }\n",
              "  }\n",
              "</style>\n",
              "\n",
              "  <script>\n",
              "    async function quickchart(key) {\n",
              "      const quickchartButtonEl =\n",
              "        document.querySelector('#' + key + ' button');\n",
              "      quickchartButtonEl.disabled = true;  // To prevent multiple clicks.\n",
              "      quickchartButtonEl.classList.add('colab-df-spinner');\n",
              "      try {\n",
              "        const charts = await google.colab.kernel.invokeFunction(\n",
              "            'suggestCharts', [key], {});\n",
              "      } catch (error) {\n",
              "        console.error('Error during call to suggestCharts:', error);\n",
              "      }\n",
              "      quickchartButtonEl.classList.remove('colab-df-spinner');\n",
              "      quickchartButtonEl.classList.add('colab-df-quickchart-complete');\n",
              "    }\n",
              "    (() => {\n",
              "      let quickchartButtonEl =\n",
              "        document.querySelector('#df-bf2848b9-33c2-4106-89ff-dd94e66bbce9 button');\n",
              "      quickchartButtonEl.style.display =\n",
              "        google.colab.kernel.accessAllowed ? 'block' : 'none';\n",
              "    })();\n",
              "  </script>\n",
              "</div>\n",
              "    </div>\n",
              "  </div>\n"
            ]
          },
          "metadata": {},
          "execution_count": 7
        }
      ]
    },
    {
      "cell_type": "markdown",
      "source": [
        "## 데이터 전처리"
      ],
      "metadata": {
        "id": "RZWqG6TmnTuu"
      }
    },
    {
      "cell_type": "markdown",
      "source": [
        "1. 중복 데이터 유무 확인"
      ],
      "metadata": {
        "id": "RhBQHL2ynaut"
      }
    },
    {
      "cell_type": "code",
      "source": [
        "print('Text 열에서 중복을 배제한 유일한 샘플의 수 :', data['Text'].nunique())\n",
        "print('Summary 열에서 중복을 배제한 유일한 샘플의 수 :', data['Summary'].nunique())"
      ],
      "metadata": {
        "colab": {
          "base_uri": "https://localhost:8080/"
        },
        "id": "nDZXQcE5nUec",
        "outputId": "bcfb661e-6558-407c-87c7-7da624e8e3b3"
      },
      "execution_count": null,
      "outputs": [
        {
          "output_type": "stream",
          "name": "stdout",
          "text": [
            "Text 열에서 중복을 배제한 유일한 샘플의 수 : 88426\n",
            "Summary 열에서 중복을 배제한 유일한 샘플의 수 : 72348\n"
          ]
        }
      ]
    },
    {
      "cell_type": "markdown",
      "source": [
        "2. 중복 샘플 제거"
      ],
      "metadata": {
        "id": "lRZbGahEA39I"
      }
    },
    {
      "cell_type": "code",
      "source": [
        "# inplace=True 를 설정하면 DataFrame 타입 값을 return 하지 않고 data 내부를 직접적으로 바꿉니다\n",
        "data.drop_duplicates(subset = ['Text'], inplace=True)\n",
        "print('전체 샘플수 :', (len(data)))"
      ],
      "metadata": {
        "colab": {
          "base_uri": "https://localhost:8080/"
        },
        "id": "avV9s5sXA3IV",
        "outputId": "99c974e2-554c-4c07-a567-940fd04b8a56"
      },
      "execution_count": null,
      "outputs": [
        {
          "output_type": "stream",
          "name": "stdout",
          "text": [
            "전체 샘플수 : 88426\n"
          ]
        }
      ]
    },
    {
      "cell_type": "markdown",
      "source": [
        "3. 중복 상태 확인"
      ],
      "metadata": {
        "id": "HiyC-y62BAu9"
      }
    },
    {
      "cell_type": "code",
      "source": [
        "print(data.isnull().sum())"
      ],
      "metadata": {
        "colab": {
          "base_uri": "https://localhost:8080/"
        },
        "id": "Hr2cooLsBCza",
        "outputId": "7ed4a312-8fe5-405c-b118-efc7c7b76a7e"
      },
      "execution_count": null,
      "outputs": [
        {
          "output_type": "stream",
          "name": "stdout",
          "text": [
            "Text       0\n",
            "Summary    1\n",
            "dtype: int64\n"
          ]
        }
      ]
    },
    {
      "cell_type": "markdown",
      "source": [
        "4. dropna 중복 제거"
      ],
      "metadata": {
        "id": "GD-rm53fBL5d"
      }
    },
    {
      "cell_type": "code",
      "source": [
        "data.dropna(axis=0, inplace=True)\n",
        "print('전체 샘플수 :', (len(data)))"
      ],
      "metadata": {
        "colab": {
          "base_uri": "https://localhost:8080/"
        },
        "id": "h-Jcm1vXBN8e",
        "outputId": "86802bd7-88bf-4426-8912-e3ca3ff872fb"
      },
      "execution_count": null,
      "outputs": [
        {
          "output_type": "stream",
          "name": "stdout",
          "text": [
            "전체 샘플수 : 88425\n"
          ]
        }
      ]
    },
    {
      "cell_type": "markdown",
      "source": [
        "5. 중복 재확인"
      ],
      "metadata": {
        "id": "I5b1f0E-BRMz"
      }
    },
    {
      "cell_type": "code",
      "source": [
        "print(data.isnull().sum())"
      ],
      "metadata": {
        "colab": {
          "base_uri": "https://localhost:8080/"
        },
        "id": "MNMp3FAzBQf9",
        "outputId": "1bd54f9f-18cb-48bf-b24a-ac2a10893874"
      },
      "execution_count": null,
      "outputs": [
        {
          "output_type": "stream",
          "name": "stdout",
          "text": [
            "Text       0\n",
            "Summary    0\n",
            "dtype: int64\n"
          ]
        }
      ]
    },
    {
      "cell_type": "markdown",
      "source": [
        "### 텍스트 정규화"
      ],
      "metadata": {
        "id": "cspelIGrBT_W"
      }
    },
    {
      "cell_type": "markdown",
      "source": [
        "1. 단어 정규화 사전"
      ],
      "metadata": {
        "id": "uyrU_MQMGMBm"
      }
    },
    {
      "cell_type": "code",
      "source": [
        "contractions = {\"ain't\": \"is not\", \"aren't\": \"are not\",\"can't\": \"cannot\", \"'cause\": \"because\", \"could've\": \"could have\", \"couldn't\": \"could not\",\n",
        "                           \"didn't\": \"did not\",  \"doesn't\": \"does not\", \"don't\": \"do not\", \"hadn't\": \"had not\", \"hasn't\": \"has not\", \"haven't\": \"have not\",\n",
        "                           \"he'd\": \"he would\",\"he'll\": \"he will\", \"he's\": \"he is\", \"how'd\": \"how did\", \"how'd'y\": \"how do you\", \"how'll\": \"how will\", \"how's\": \"how is\",\n",
        "                           \"I'd\": \"I would\", \"I'd've\": \"I would have\", \"I'll\": \"I will\", \"I'll've\": \"I will have\",\"I'm\": \"I am\", \"I've\": \"I have\", \"i'd\": \"i would\",\n",
        "                           \"i'd've\": \"i would have\", \"i'll\": \"i will\",  \"i'll've\": \"i will have\",\"i'm\": \"i am\", \"i've\": \"i have\", \"isn't\": \"is not\", \"it'd\": \"it would\",\n",
        "                           \"it'd've\": \"it would have\", \"it'll\": \"it will\", \"it'll've\": \"it will have\",\"it's\": \"it is\", \"let's\": \"let us\", \"ma'am\": \"madam\",\n",
        "                           \"mayn't\": \"may not\", \"might've\": \"might have\",\"mightn't\": \"might not\",\"mightn't've\": \"might not have\", \"must've\": \"must have\",\n",
        "                           \"mustn't\": \"must not\", \"mustn't've\": \"must not have\", \"needn't\": \"need not\", \"needn't've\": \"need not have\",\"o'clock\": \"of the clock\",\n",
        "                           \"oughtn't\": \"ought not\", \"oughtn't've\": \"ought not have\", \"shan't\": \"shall not\", \"sha'n't\": \"shall not\", \"shan't've\": \"shall not have\",\n",
        "                           \"she'd\": \"she would\", \"she'd've\": \"she would have\", \"she'll\": \"she will\", \"she'll've\": \"she will have\", \"she's\": \"she is\",\n",
        "                           \"should've\": \"should have\", \"shouldn't\": \"should not\", \"shouldn't've\": \"should not have\", \"so've\": \"so have\",\"so's\": \"so as\",\n",
        "                           \"this's\": \"this is\",\"that'd\": \"that would\", \"that'd've\": \"that would have\", \"that's\": \"that is\", \"there'd\": \"there would\",\n",
        "                           \"there'd've\": \"there would have\", \"there's\": \"there is\", \"here's\": \"here is\",\"they'd\": \"they would\", \"they'd've\": \"they would have\",\n",
        "                           \"they'll\": \"they will\", \"they'll've\": \"they will have\", \"they're\": \"they are\", \"they've\": \"they have\", \"to've\": \"to have\",\n",
        "                           \"wasn't\": \"was not\", \"we'd\": \"we would\", \"we'd've\": \"we would have\", \"we'll\": \"we will\", \"we'll've\": \"we will have\", \"we're\": \"we are\",\n",
        "                           \"we've\": \"we have\", \"weren't\": \"were not\", \"what'll\": \"what will\", \"what'll've\": \"what will have\", \"what're\": \"what are\",\n",
        "                           \"what's\": \"what is\", \"what've\": \"what have\", \"when's\": \"when is\", \"when've\": \"when have\", \"where'd\": \"where did\", \"where's\": \"where is\",\n",
        "                           \"where've\": \"where have\", \"who'll\": \"who will\", \"who'll've\": \"who will have\", \"who's\": \"who is\", \"who've\": \"who have\",\n",
        "                           \"why's\": \"why is\", \"why've\": \"why have\", \"will've\": \"will have\", \"won't\": \"will not\", \"won't've\": \"will not have\",\n",
        "                           \"would've\": \"would have\", \"wouldn't\": \"would not\", \"wouldn't've\": \"would not have\", \"y'all\": \"you all\",\n",
        "                           \"y'all'd\": \"you all would\",\"y'all'd've\": \"you all would have\",\"y'all're\": \"you all are\",\"y'all've\": \"you all have\",\n",
        "                           \"you'd\": \"you would\", \"you'd've\": \"you would have\", \"you'll\": \"you will\", \"you'll've\": \"you will have\",\n",
        "                           \"you're\": \"you are\", \"you've\": \"you have\"}\n",
        "\n",
        "print(\"정규화 사전의 수: \", len(contractions))"
      ],
      "metadata": {
        "colab": {
          "base_uri": "https://localhost:8080/"
        },
        "id": "HUUGECgdBcCa",
        "outputId": "329a7173-1524-4d6f-c4cf-cbf92d93ef68"
      },
      "execution_count": null,
      "outputs": [
        {
          "output_type": "stream",
          "name": "stdout",
          "text": [
            "정규화 사전의 수:  120\n"
          ]
        }
      ]
    },
    {
      "cell_type": "markdown",
      "source": [
        "2. 불용어 확인"
      ],
      "metadata": {
        "id": "PIWenb_FCFb9"
      }
    },
    {
      "cell_type": "code",
      "source": [
        "print('불용어 개수 :', len(stopwords.words('english')))\n",
        "print(stopwords.words('english'))"
      ],
      "metadata": {
        "colab": {
          "base_uri": "https://localhost:8080/"
        },
        "id": "YV0YV383Bkmj",
        "outputId": "d7a34336-1adc-429e-8acd-878560be7031"
      },
      "execution_count": null,
      "outputs": [
        {
          "output_type": "stream",
          "name": "stdout",
          "text": [
            "불용어 개수 : 179\n",
            "['i', 'me', 'my', 'myself', 'we', 'our', 'ours', 'ourselves', 'you', \"you're\", \"you've\", \"you'll\", \"you'd\", 'your', 'yours', 'yourself', 'yourselves', 'he', 'him', 'his', 'himself', 'she', \"she's\", 'her', 'hers', 'herself', 'it', \"it's\", 'its', 'itself', 'they', 'them', 'their', 'theirs', 'themselves', 'what', 'which', 'who', 'whom', 'this', 'that', \"that'll\", 'these', 'those', 'am', 'is', 'are', 'was', 'were', 'be', 'been', 'being', 'have', 'has', 'had', 'having', 'do', 'does', 'did', 'doing', 'a', 'an', 'the', 'and', 'but', 'if', 'or', 'because', 'as', 'until', 'while', 'of', 'at', 'by', 'for', 'with', 'about', 'against', 'between', 'into', 'through', 'during', 'before', 'after', 'above', 'below', 'to', 'from', 'up', 'down', 'in', 'out', 'on', 'off', 'over', 'under', 'again', 'further', 'then', 'once', 'here', 'there', 'when', 'where', 'why', 'how', 'all', 'any', 'both', 'each', 'few', 'more', 'most', 'other', 'some', 'such', 'no', 'nor', 'not', 'only', 'own', 'same', 'so', 'than', 'too', 'very', 's', 't', 'can', 'will', 'just', 'don', \"don't\", 'should', \"should've\", 'now', 'd', 'll', 'm', 'o', 're', 've', 'y', 'ain', 'aren', \"aren't\", 'couldn', \"couldn't\", 'didn', \"didn't\", 'doesn', \"doesn't\", 'hadn', \"hadn't\", 'hasn', \"hasn't\", 'haven', \"haven't\", 'isn', \"isn't\", 'ma', 'mightn', \"mightn't\", 'mustn', \"mustn't\", 'needn', \"needn't\", 'shan', \"shan't\", 'shouldn', \"shouldn't\", 'wasn', \"wasn't\", 'weren', \"weren't\", 'won', \"won't\", 'wouldn', \"wouldn't\"]\n"
          ]
        }
      ]
    },
    {
      "cell_type": "markdown",
      "source": [
        "3. 불용어 제거"
      ],
      "metadata": {
        "id": "14LccrfbGeE0"
      }
    },
    {
      "cell_type": "code",
      "source": [
        "# 데이터 전처리 함수\n",
        "def preprocess_sentence(sentence, remove_stopwords=True):\n",
        "    sentence = sentence.lower() # 텍스트 소문자화\n",
        "    sentence = BeautifulSoup(sentence, \"lxml\").text # <br />, <a href = ...> 등의 html 태그 제거\n",
        "    sentence = re.sub(r'\\([^)]*\\)', '', sentence) # 괄호로 닫힌 문자열 (...) 제거 Ex) my husband (and myself!) for => my husband for\n",
        "    sentence = re.sub('\"','', sentence) # 쌍따옴표 \" 제거\n",
        "    sentence = ' '.join([contractions[t] if t in contractions else t for t in sentence.split(\" \")]) # 약어 정규화\n",
        "    sentence = re.sub(r\"'s\\b\",\"\", sentence) # 소유격 제거. Ex) roland's -> roland\n",
        "    sentence = re.sub(\"[^a-zA-Z]\", \" \", sentence) # 영어 외 문자(숫자, 특수문자 등) 공백으로 변환\n",
        "    sentence = re.sub('[m]{2,}', 'mm', sentence) # m이 3개 이상이면 2개로 변경. Ex) ummmmmmm yeah -> umm yeah\n",
        "\n",
        "    # 불용어 제거 (Text)\n",
        "    if remove_stopwords:\n",
        "        tokens = ' '.join(word for word in sentence.split() if not word in stopwords.words('english') if len(word) > 1)\n",
        "    # 불용어 미제거 (Summary)\n",
        "    else:\n",
        "        tokens = ' '.join(word for word in sentence.split() if len(word) > 1)\n",
        "    return tokens\n",
        "print('=3')"
      ],
      "metadata": {
        "colab": {
          "base_uri": "https://localhost:8080/"
        },
        "id": "oyrbSL-XGFev",
        "outputId": "76354645-c17d-43d0-c97f-4495a9ec8b7f"
      },
      "execution_count": null,
      "outputs": [
        {
          "output_type": "stream",
          "name": "stdout",
          "text": [
            "=3\n"
          ]
        }
      ]
    },
    {
      "cell_type": "markdown",
      "source": [
        "4. 불용어 제거 확인"
      ],
      "metadata": {
        "id": "LEwkaLmYGizG"
      }
    },
    {
      "cell_type": "code",
      "source": [
        "temp_text = 'Everything I bought was great, infact I ordered twice and the third ordered was<br />for my mother and father.'\n",
        "temp_summary = 'Great way to start (or finish) the day!!!'\n",
        "\n",
        "print(\"text: \", preprocess_sentence(temp_text))\n",
        "print(\"summary:\", preprocess_sentence(temp_summary, False))  # 불용어를 제거하지 않습니다."
      ],
      "metadata": {
        "colab": {
          "base_uri": "https://localhost:8080/"
        },
        "id": "8CxRyW64GhX2",
        "outputId": "a74f4d8c-e427-4d15-cde1-1175446ac84b"
      },
      "execution_count": null,
      "outputs": [
        {
          "output_type": "stream",
          "name": "stdout",
          "text": [
            "text:  everything bought great infact ordered twice third ordered wasfor mother father\n",
            "summary: great way to start the day\n"
          ]
        }
      ]
    },
    {
      "cell_type": "markdown",
      "source": [
        "5. Text 항목 불용어 제거"
      ],
      "metadata": {
        "id": "DDtZ08HUGoRj"
      }
    },
    {
      "cell_type": "code",
      "source": [
        "# 전체 Text 데이터에 대한 전처리 : 10분 이상 시간이 걸릴 수 있습니다.\n",
        "clean_text = []\n",
        "\n",
        "for text in data['Text']:\n",
        "    clean_text.append(preprocess_sentence(text))\n",
        "\n",
        "# 전처리 후 출력\n",
        "print(\"Text 전처리 후 결과: \", clean_text[:5])"
      ],
      "metadata": {
        "colab": {
          "base_uri": "https://localhost:8080/"
        },
        "id": "BPiY-0LDIGEr",
        "outputId": "e8fefc5d-25fa-42c3-a24c-f1cd64ef895c"
      },
      "execution_count": null,
      "outputs": [
        {
          "output_type": "stream",
          "name": "stderr",
          "text": [
            "<ipython-input-15-8985a2a10398>:4: MarkupResemblesLocatorWarning: The input looks more like a filename than markup. You may want to open this file and pass the filehandle into Beautiful Soup.\n",
            "  sentence = BeautifulSoup(sentence, \"lxml\").text # <br />, <a href = ...> 등의 html 태그 제거\n"
          ]
        },
        {
          "output_type": "stream",
          "name": "stdout",
          "text": [
            "Text 전처리 후 결과:  ['bought several vitality canned dog food products found good quality product looks like stew processed meat smells better labrador finicky appreciates product better', 'product arrived labeled jumbo salted peanuts peanuts actually small sized unsalted sure error vendor intended represent product jumbo', 'confection around centuries light pillowy citrus gelatin nuts case filberts cut tiny squares liberally coated powdered sugar tiny mouthful heaven chewy flavorful highly recommend yummy treat familiar story lewis lion witch wardrobe treat seduces edmund selling brother sisters witch', 'looking secret ingredient robitussin believe found got addition root beer extract ordered made cherry soda flavor medicinal', 'great taffy great price wide assortment yummy taffy delivery quick taffy lover deal']\n"
          ]
        }
      ]
    },
    {
      "cell_type": "code",
      "source": [
        "# 전체 Summary 데이터에 대한 전처리 : 5분 이상 시간이 걸릴 수 있습니다.\n",
        "clean_summary = []\n",
        "\n",
        "for summary in data['Summary']:\n",
        "    clean_summary.append(preprocess_sentence(summary, False))\n",
        "\n",
        "print(\"Summary 전처리 후 결과: \", clean_summary[:5])"
      ],
      "metadata": {
        "colab": {
          "base_uri": "https://localhost:8080/"
        },
        "id": "r96tr32RIm-4",
        "outputId": "8d4c6778-3928-4e91-b473-9e1f92c8bf0c"
      },
      "execution_count": null,
      "outputs": [
        {
          "output_type": "stream",
          "name": "stderr",
          "text": [
            "<ipython-input-15-8985a2a10398>:4: MarkupResemblesLocatorWarning: The input looks more like a filename than markup. You may want to open this file and pass the filehandle into Beautiful Soup.\n",
            "  sentence = BeautifulSoup(sentence, \"lxml\").text # <br />, <a href = ...> 등의 html 태그 제거\n",
            "<ipython-input-15-8985a2a10398>:4: MarkupResemblesLocatorWarning: The input looks more like a URL than markup. You may want to use an HTTP client like requests to get the document behind the URL, and feed that document to Beautiful Soup.\n",
            "  sentence = BeautifulSoup(sentence, \"lxml\").text # <br />, <a href = ...> 등의 html 태그 제거\n"
          ]
        },
        {
          "output_type": "stream",
          "name": "stdout",
          "text": [
            "Summary 전처리 후 결과:  ['good quality dog food', 'not as advertised', 'delight says it all', 'cough medicine', 'great taffy']\n"
          ]
        }
      ]
    },
    {
      "cell_type": "markdown",
      "source": [
        "6. 데이터 재할당"
      ],
      "metadata": {
        "id": "tMnT869jMaxN"
      }
    },
    {
      "cell_type": "code",
      "source": [
        "data['Text'] = clean_text\n",
        "data['Summary'] = clean_summary\n",
        "\n",
        "# 빈 값을 Null 값으로 변환\n",
        "data.replace('', np.nan, inplace=True)\n",
        "print('=3')"
      ],
      "metadata": {
        "colab": {
          "base_uri": "https://localhost:8080/"
        },
        "id": "Zk9KoBoJMd6e",
        "outputId": "edf8281d-89a3-4c5a-bd29-c92c0d0b134a"
      },
      "execution_count": null,
      "outputs": [
        {
          "output_type": "stream",
          "name": "stdout",
          "text": [
            "=3\n"
          ]
        }
      ]
    },
    {
      "cell_type": "code",
      "source": [
        "data.isnull().sum()"
      ],
      "metadata": {
        "colab": {
          "base_uri": "https://localhost:8080/"
        },
        "id": "TbGHCELkMfYx",
        "outputId": "08760093-8fa7-43d0-f707-06cfc62cfce1"
      },
      "execution_count": null,
      "outputs": [
        {
          "output_type": "execute_result",
          "data": {
            "text/plain": [
              "Text        0\n",
              "Summary    70\n",
              "dtype: int64"
            ]
          },
          "metadata": {},
          "execution_count": 20
        }
      ]
    },
    {
      "cell_type": "code",
      "source": [
        "data.dropna(axis=0, inplace=True)\n",
        "print('전체 샘플수 :', (len(data)))"
      ],
      "metadata": {
        "colab": {
          "base_uri": "https://localhost:8080/"
        },
        "id": "ZTN7mg_rMhSf",
        "outputId": "3f89876d-8b72-4852-af1a-408c5f392870"
      },
      "execution_count": null,
      "outputs": [
        {
          "output_type": "stream",
          "name": "stdout",
          "text": [
            "전체 샘플수 : 88355\n"
          ]
        }
      ]
    },
    {
      "cell_type": "markdown",
      "source": [
        "7. 샘플 최대 길이 정하기"
      ],
      "metadata": {
        "id": "nqsMYpKQMryI"
      }
    },
    {
      "cell_type": "code",
      "source": [
        "# 길이 분포 출력\n",
        "import matplotlib.pyplot as plt\n",
        "\n",
        "text_len = [len(s.split()) for s in data['Text']]\n",
        "summary_len = [len(s.split()) for s in data['Summary']]\n",
        "\n",
        "print('텍스트의 최소 길이 : {}'.format(np.min(text_len)))\n",
        "print('텍스트의 최대 길이 : {}'.format(np.max(text_len)))\n",
        "print('텍스트의 평균 길이 : {}'.format(np.mean(text_len)))\n",
        "print('요약의 최소 길이 : {}'.format(np.min(summary_len)))\n",
        "print('요약의 최대 길이 : {}'.format(np.max(summary_len)))\n",
        "print('요약의 평균 길이 : {}'.format(np.mean(summary_len)))\n",
        "\n",
        "plt.subplot(1,2,1)\n",
        "plt.boxplot(text_len)\n",
        "plt.title('Text')\n",
        "plt.subplot(1,2,2)\n",
        "plt.boxplot(summary_len)\n",
        "plt.title('Summary')\n",
        "plt.tight_layout()\n",
        "plt.show()\n",
        "\n",
        "plt.title('Text')\n",
        "plt.hist(text_len, bins = 40)\n",
        "plt.xlabel('length of samples')\n",
        "plt.ylabel('number of samples')\n",
        "plt.show()\n",
        "\n",
        "plt.title('Summary')\n",
        "plt.hist(summary_len, bins = 40)\n",
        "plt.xlabel('length of samples')\n",
        "plt.ylabel('number of samples')\n",
        "plt.show()"
      ],
      "metadata": {
        "colab": {
          "base_uri": "https://localhost:8080/",
          "height": 1000
        },
        "id": "rUmgTQ1bMuWL",
        "outputId": "49d96129-18f2-4084-97d2-be0bbeb82825"
      },
      "execution_count": null,
      "outputs": [
        {
          "output_type": "stream",
          "name": "stdout",
          "text": [
            "텍스트의 최소 길이 : 2\n",
            "텍스트의 최대 길이 : 1235\n",
            "텍스트의 평균 길이 : 38.792428272310566\n",
            "요약의 최소 길이 : 1\n",
            "요약의 최대 길이 : 28\n",
            "요약의 평균 길이 : 4.010729443721352\n"
          ]
        },
        {
          "output_type": "display_data",
          "data": {
            "text/plain": [
              "<Figure size 640x480 with 2 Axes>"
            ],
            "image/png": "[encoded data removed]"
          },
          "metadata": {}
        },
        {
          "output_type": "display_data",
          "data": {
            "text/plain": [
              "<Figure size 640x480 with 1 Axes>"
            ],
            "image/png": "[encoded data removed]"
          },
          "metadata": {}
        },
        {
          "output_type": "display_data",
          "data": {
            "text/plain": [
              "<Figure size 640x480 with 1 Axes>"
            ],
            "image/png": "[encoded data removed]"
          },
          "metadata": {}
        }
      ]
    },
    {
      "cell_type": "markdown",
      "source": [
        "8. 최대 길이 임의 설정"
      ],
      "metadata": {
        "id": "YuymVFgeNDxF"
      }
    },
    {
      "cell_type": "code",
      "source": [
        "text_max_len = 50\n",
        "summary_max_len = 8\n",
        "print('=3')"
      ],
      "metadata": {
        "colab": {
          "base_uri": "https://localhost:8080/"
        },
        "id": "RtUxG_NyNEPa",
        "outputId": "2671ed7e-0de4-467f-c100-a12e07001e9a"
      },
      "execution_count": null,
      "outputs": [
        {
          "output_type": "stream",
          "name": "stdout",
          "text": [
            "=3\n"
          ]
        }
      ]
    },
    {
      "cell_type": "code",
      "source": [
        "def below_threshold_len(max_len, nested_list):\n",
        "  cnt = 0\n",
        "  for s in nested_list:\n",
        "    if(len(s.split()) <= max_len):\n",
        "        cnt = cnt + 1\n",
        "  print('전체 샘플 중 길이가 %s 이하인 샘플의 비율: %s'%(max_len, (cnt / len(nested_list))))\n",
        "\n",
        "below_threshold_len(text_max_len, data['Text'])\n",
        "below_threshold_len(summary_max_len,  data['Summary'])"
      ],
      "metadata": {
        "colab": {
          "base_uri": "https://localhost:8080/"
        },
        "id": "W_mCK1dPNKai",
        "outputId": "85436ff5-6719-453e-8d1e-b38691640b5f"
      },
      "execution_count": null,
      "outputs": [
        {
          "output_type": "stream",
          "name": "stdout",
          "text": [
            "전체 샘플 중 길이가 50 이하인 샘플의 비율: 0.7745119121724859\n",
            "전체 샘플 중 길이가 8 이하인 샘플의 비율: 0.9424593967517402\n"
          ]
        }
      ]
    },
    {
      "cell_type": "markdown",
      "source": [
        "9. 정해진 길이보다 긴 것은 제외"
      ],
      "metadata": {
        "id": "F2Qc5VsDOhkl"
      }
    },
    {
      "cell_type": "code",
      "source": [
        "filtered_data = data[data['Text'].apply(lambda x: len(x.split()) <= text_max_len) &\n",
        "                     data['Summary'].apply(lambda x: len(x.split()) <= summary_max_len)]\n",
        "\n",
        "print('전체 샘플수 :', (len(data)))"
      ],
      "metadata": {
        "colab": {
          "base_uri": "https://localhost:8080/"
        },
        "id": "TUisbGLqOgsh",
        "outputId": "ed7d6e68-e1d3-4cbb-d806-507f9301ccce"
      },
      "execution_count": null,
      "outputs": [
        {
          "output_type": "stream",
          "name": "stdout",
          "text": [
            "전체 샘플수 : 88355\n"
          ]
        }
      ]
    },
    {
      "cell_type": "markdown",
      "source": [
        "10. 타켓 문장 앞 뒤로 SOS/EOS 토큰 붙여주기"
      ],
      "metadata": {
        "id": "xjExD_UAQTv8"
      }
    },
    {
      "cell_type": "code",
      "source": [
        "# 요약 데이터에는 시작 토큰과 종료 토큰을 추가한다.\n",
        "data['decoder_input'] = data['Summary'].apply(lambda x : 'sostoken '+ x)\n",
        "data['decoder_target'] = data['Summary'].apply(lambda x : x + ' eostoken')\n",
        "data.head()"
      ],
      "metadata": {
        "colab": {
          "base_uri": "https://localhost:8080/",
          "height": 206
        },
        "id": "ZyUPUCSwQTTL",
        "outputId": "b089d73a-5ef1-49a1-814a-982580fd168a"
      },
      "execution_count": null,
      "outputs": [
        {
          "output_type": "execute_result",
          "data": {
            "text/plain": [
              "                                                Text                Summary  \\\n",
              "0  bought several vitality canned dog food produc...  good quality dog food   \n",
              "1  product arrived labeled jumbo salted peanuts p...      not as advertised   \n",
              "2  confection around centuries light pillowy citr...    delight says it all   \n",
              "3  looking secret ingredient robitussin believe f...         cough medicine   \n",
              "4  great taffy great price wide assortment yummy ...            great taffy   \n",
              "\n",
              "                    decoder_input                  decoder_target  \n",
              "0  sostoken good quality dog food  good quality dog food eostoken  \n",
              "1      sostoken not as advertised      not as advertised eostoken  \n",
              "2    sostoken delight says it all    delight says it all eostoken  \n",
              "3         sostoken cough medicine         cough medicine eostoken  \n",
              "4            sostoken great taffy            great taffy eostoken  "
            ],
            "text/html": [
              "\n",
              "  <div id=\"df-d3073e10-4b4b-4ca4-9173-ff7b51db8f5e\" class=\"colab-df-container\">\n",
              "    <div>\n",
              "<style scoped>\n",
              "    .dataframe tbody tr th:only-of-type {\n",
              "        vertical-align: middle;\n",
              "    }\n",
              "\n",
              "    .dataframe tbody tr th {\n",
              "        vertical-align: top;\n",
              "    }\n",
              "\n",
              "    .dataframe thead th {\n",
              "        text-align: right;\n",
              "    }\n",
              "</style>\n",
              "<table border=\"1\" class=\"dataframe\">\n",
              "  <thead>\n",
              "    <tr style=\"text-align: right;\">\n",
              "      <th></th>\n",
              "      <th>Text</th>\n",
              "      <th>Summary</th>\n",
              "      <th>decoder_input</th>\n",
              "      <th>decoder_target</th>\n",
              "    </tr>\n",
              "  </thead>\n",
              "  <tbody>\n",
              "    <tr>\n",
              "      <th>0</th>\n",
              "      <td>bought several vitality canned dog food produc...</td>\n",
              "      <td>good quality dog food</td>\n",
              "      <td>sostoken good quality dog food</td>\n",
              "      <td>good quality dog food eostoken</td>\n",
              "    </tr>\n",
              "    <tr>\n",
              "      <th>1</th>\n",
              "      <td>product arrived labeled jumbo salted peanuts p...</td>\n",
              "      <td>not as advertised</td>\n",
              "      <td>sostoken not as advertised</td>\n",
              "      <td>not as advertised eostoken</td>\n",
              "    </tr>\n",
              "    <tr>\n",
              "      <th>2</th>\n",
              "      <td>confection around centuries light pillowy citr...</td>\n",
              "      <td>delight says it all</td>\n",
              "      <td>sostoken delight says it all</td>\n",
              "      <td>delight says it all eostoken</td>\n",
              "    </tr>\n",
              "    <tr>\n",
              "      <th>3</th>\n",
              "      <td>looking secret ingredient robitussin believe f...</td>\n",
              "      <td>cough medicine</td>\n",
              "      <td>sostoken cough medicine</td>\n",
              "      <td>cough medicine eostoken</td>\n",
              "    </tr>\n",
              "    <tr>\n",
              "      <th>4</th>\n",
              "      <td>great taffy great price wide assortment yummy ...</td>\n",
              "      <td>great taffy</td>\n",
              "      <td>sostoken great taffy</td>\n",
              "      <td>great taffy eostoken</td>\n",
              "    </tr>\n",
              "  </tbody>\n",
              "</table>\n",
              "</div>\n",
              "    <div class=\"colab-df-buttons\">\n",
              "\n",
              "  <div class=\"colab-df-container\">\n",
              "    <button class=\"colab-df-convert\" onclick=\"convertToInteractive('df-d3073e10-4b4b-4ca4-9173-ff7b51db8f5e')\"\n",
              "            title=\"Convert this dataframe to an interactive table.\"\n",
              "            style=\"display:none;\">\n",
              "\n",
              "  <svg xmlns=\"http://www.w3.org/2000/svg\" height=\"24px\" viewBox=\"0 -960 960 960\">\n",
              "    <path d=\"M120-120v-720h720v720H120Zm60-500h600v-160H180v160Zm220 220h160v-160H400v160Zm0 220h160v-160H400v160ZM180-400h160v-160H180v160Zm440 0h160v-160H620v160ZM180-180h160v-160H180v160Zm440 0h160v-160H620v160Z\"/>\n",
              "  </svg>\n",
              "    </button>\n",
              "\n",
              "  <style>\n",
              "    .colab-df-container {\n",
              "      display:flex;\n",
              "      gap: 12px;\n",
              "    }\n",
              "\n",
              "    .colab-df-convert {\n",
              "      background-color: #E8F0FE;\n",
              "      border: none;\n",
              "      border-radius: 50%;\n",
              "      cursor: pointer;\n",
              "      display: none;\n",
              "      fill: #1967D2;\n",
              "      height: 32px;\n",
              "      padding: 0 0 0 0;\n",
              "      width: 32px;\n",
              "    }\n",
              "\n",
              "    .colab-df-convert:hover {\n",
              "      background-color: #E2EBFA;\n",
              "      box-shadow: 0px 1px 2px rgba(60, 64, 67, 0.3), 0px 1px 3px 1px rgba(60, 64, 67, 0.15);\n",
              "      fill: #174EA6;\n",
              "    }\n",
              "\n",
              "    .colab-df-buttons div {\n",
              "      margin-bottom: 4px;\n",
              "    }\n",
              "\n",
              "    [theme=dark] .colab-df-convert {\n",
              "      background-color: #3B4455;\n",
              "      fill: #D2E3FC;\n",
              "    }\n",
              "\n",
              "    [theme=dark] .colab-df-convert:hover {\n",
              "      background-color: #434B5C;\n",
              "      box-shadow: 0px 1px 3px 1px rgba(0, 0, 0, 0.15);\n",
              "      filter: drop-shadow(0px 1px 2px rgba(0, 0, 0, 0.3));\n",
              "      fill: #FFFFFF;\n",
              "    }\n",
              "  </style>\n",
              "\n",
              "    <script>\n",
              "      const buttonEl =\n",
              "        document.querySelector('#df-d3073e10-4b4b-4ca4-9173-ff7b51db8f5e button.colab-df-convert');\n",
              "      buttonEl.style.display =\n",
              "        google.colab.kernel.accessAllowed ? 'block' : 'none';\n",
              "\n",
              "      async function convertToInteractive(key) {\n",
              "        const element = document.querySelector('#df-d3073e10-4b4b-4ca4-9173-ff7b51db8f5e');\n",
              "        const dataTable =\n",
              "          await google.colab.kernel.invokeFunction('convertToInteractive',\n",
              "                                                    [key], {});\n",
              "        if (!dataTable) return;\n",
              "\n",
              "        const docLinkHtml = 'Like what you see? Visit the ' +\n",
              "          '<a target=\"_blank\" href=https://colab.research.google.com/notebooks/data_table.ipynb>data table notebook</a>'\n",
              "          + ' to learn more about interactive tables.';\n",
              "        element.innerHTML = '';\n",
              "        dataTable['output_type'] = 'display_data';\n",
              "        await google.colab.output.renderOutput(dataTable, element);\n",
              "        const docLink = document.createElement('div');\n",
              "        docLink.innerHTML = docLinkHtml;\n",
              "        element.appendChild(docLink);\n",
              "      }\n",
              "    </script>\n",
              "  </div>\n",
              "\n",
              "\n",
              "<div id=\"df-6e5fb490-d5fa-4a0f-b3a5-cbee217521b3\">\n",
              "  <button class=\"colab-df-quickchart\" onclick=\"quickchart('df-6e5fb490-d5fa-4a0f-b3a5-cbee217521b3')\"\n",
              "            title=\"Suggest charts.\"\n",
              "            style=\"display:none;\">\n",
              "\n",
              "<svg xmlns=\"http://www.w3.org/2000/svg\" height=\"24px\"viewBox=\"0 0 24 24\"\n",
              "     width=\"24px\">\n",
              "    <g>\n",
              "        <path d=\"M19 3H5c-1.1 0-2 .9-2 2v14c0 1.1.9 2 2 2h14c1.1 0 2-.9 2-2V5c0-1.1-.9-2-2-2zM9 17H7v-7h2v7zm4 0h-2V7h2v10zm4 0h-2v-4h2v4z\"/>\n",
              "    </g>\n",
              "</svg>\n",
              "  </button>\n",
              "\n",
              "<style>\n",
              "  .colab-df-quickchart {\n",
              "      --bg-color: #E8F0FE;\n",
              "      --fill-color: #1967D2;\n",
              "      --hover-bg-color: #E2EBFA;\n",
              "      --hover-fill-color: #174EA6;\n",
              "      --disabled-fill-color: #AAA;\n",
              "      --disabled-bg-color: #DDD;\n",
              "  }\n",
              "\n",
              "  [theme=dark] .colab-df-quickchart {\n",
              "      --bg-color: #3B4455;\n",
              "      --fill-color: #D2E3FC;\n",
              "      --hover-bg-color: #434B5C;\n",
              "      --hover-fill-color: #FFFFFF;\n",
              "      --disabled-bg-color: #3B4455;\n",
              "      --disabled-fill-color: #666;\n",
              "  }\n",
              "\n",
              "  .colab-df-quickchart {\n",
              "    background-color: var(--bg-color);\n",
              "    border: none;\n",
              "    border-radius: 50%;\n",
              "    cursor: pointer;\n",
              "    display: none;\n",
              "    fill: var(--fill-color);\n",
              "    height: 32px;\n",
              "    padding: 0;\n",
              "    width: 32px;\n",
              "  }\n",
              "\n",
              "  .colab-df-quickchart:hover {\n",
              "    background-color: var(--hover-bg-color);\n",
              "    box-shadow: 0 1px 2px rgba(60, 64, 67, 0.3), 0 1px 3px 1px rgba(60, 64, 67, 0.15);\n",
              "    fill: var(--button-hover-fill-color);\n",
              "  }\n",
              "\n",
              "  .colab-df-quickchart-complete:disabled,\n",
              "  .colab-df-quickchart-complete:disabled:hover {\n",
              "    background-color: var(--disabled-bg-color);\n",
              "    fill: var(--disabled-fill-color);\n",
              "    box-shadow: none;\n",
              "  }\n",
              "\n",
              "  .colab-df-spinner {\n",
              "    border: 2px solid var(--fill-color);\n",
              "    border-color: transparent;\n",
              "    border-bottom-color: var(--fill-color);\n",
              "    animation:\n",
              "      spin 1s steps(1) infinite;\n",
              "  }\n",
              "\n",
              "  @keyframes spin {\n",
              "    0% {\n",
              "      border-color: transparent;\n",
              "      border-bottom-color: var(--fill-color);\n",
              "      border-left-color: var(--fill-color);\n",
              "    }\n",
              "    20% {\n",
              "      border-color: transparent;\n",
              "      border-left-color: var(--fill-color);\n",
              "      border-top-color: var(--fill-color);\n",
              "    }\n",
              "    30% {\n",
              "      border-color: transparent;\n",
              "      border-left-color: var(--fill-color);\n",
              "      border-top-color: var(--fill-color);\n",
              "      border-right-color: var(--fill-color);\n",
              "    }\n",
              "    40% {\n",
              "      border-color: transparent;\n",
              "      border-right-color: var(--fill-color);\n",
              "      border-top-color: var(--fill-color);\n",
              "    }\n",
              "    60% {\n",
              "      border-color: transparent;\n",
              "      border-right-color: var(--fill-color);\n",
              "    }\n",
              "    80% {\n",
              "      border-color: transparent;\n",
              "      border-right-color: var(--fill-color);\n",
              "      border-bottom-color: var(--fill-color);\n",
              "    }\n",
              "    90% {\n",
              "      border-color: transparent;\n",
              "      border-bottom-color: var(--fill-color);\n",
              "    }\n",
              "  }\n",
              "</style>\n",
              "\n",
              "  <script>\n",
              "    async function quickchart(key) {\n",
              "      const quickchartButtonEl =\n",
              "        document.querySelector('#' + key + ' button');\n",
              "      quickchartButtonEl.disabled = true;  // To prevent multiple clicks.\n",
              "      quickchartButtonEl.classList.add('colab-df-spinner');\n",
              "      try {\n",
              "        const charts = await google.colab.kernel.invokeFunction(\n",
              "            'suggestCharts', [key], {});\n",
              "      } catch (error) {\n",
              "        console.error('Error during call to suggestCharts:', error);\n",
              "      }\n",
              "      quickchartButtonEl.classList.remove('colab-df-spinner');\n",
              "      quickchartButtonEl.classList.add('colab-df-quickchart-complete');\n",
              "    }\n",
              "    (() => {\n",
              "      let quickchartButtonEl =\n",
              "        document.querySelector('#df-6e5fb490-d5fa-4a0f-b3a5-cbee217521b3 button');\n",
              "      quickchartButtonEl.style.display =\n",
              "        google.colab.kernel.accessAllowed ? 'block' : 'none';\n",
              "    })();\n",
              "  </script>\n",
              "</div>\n",
              "    </div>\n",
              "  </div>\n"
            ]
          },
          "metadata": {},
          "execution_count": 26
        }
      ]
    },
    {
      "cell_type": "markdown",
      "source": [
        "11. 넘파이 재지정"
      ],
      "metadata": {
        "id": "s4kitWg9Qavj"
      }
    },
    {
      "cell_type": "code",
      "source": [
        "encoder_input = np.array(data['Text']) # 인코더의 입력\n",
        "decoder_input = np.array(data['decoder_input']) # 디코더의 입력\n",
        "decoder_target = np.array(data['decoder_target']) # 디코더의 레이블\n",
        "print('=3')"
      ],
      "metadata": {
        "colab": {
          "base_uri": "https://localhost:8080/"
        },
        "id": "9R-SpOzQQeAg",
        "outputId": "3095e49c-0acd-4778-fcd2-165a2af285f4"
      },
      "execution_count": null,
      "outputs": [
        {
          "output_type": "stream",
          "name": "stdout",
          "text": [
            "=3\n"
          ]
        }
      ]
    },
    {
      "cell_type": "markdown",
      "source": [
        "12. 정수 시퀀스 만들기"
      ],
      "metadata": {
        "id": "ZhZJB6XrQfUl"
      }
    },
    {
      "cell_type": "code",
      "source": [
        "indices = np.arange(encoder_input.shape[0])\n",
        "np.random.shuffle(indices)\n",
        "print(indices)"
      ],
      "metadata": {
        "colab": {
          "base_uri": "https://localhost:8080/"
        },
        "id": "SnkTiRjMQomA",
        "outputId": "339f1dd4-8d11-4ed4-e865-c7671536cbb8"
      },
      "execution_count": null,
      "outputs": [
        {
          "output_type": "stream",
          "name": "stdout",
          "text": [
            "[85335  6660 16079 ... 38097 34821 28621]\n"
          ]
        }
      ]
    },
    {
      "cell_type": "markdown",
      "source": [
        "13. 샘플 정의"
      ],
      "metadata": {
        "id": "7DzJxmnmQ4l5"
      }
    },
    {
      "cell_type": "code",
      "source": [
        "encoder_input = encoder_input[indices]\n",
        "decoder_input = decoder_input[indices]\n",
        "decoder_target = decoder_target[indices]\n",
        "print('=3')"
      ],
      "metadata": {
        "colab": {
          "base_uri": "https://localhost:8080/"
        },
        "id": "-N_Wpzn4Q-Gv",
        "outputId": "a23719a2-377c-472e-e29b-ac3103598178"
      },
      "execution_count": null,
      "outputs": [
        {
          "output_type": "stream",
          "name": "stdout",
          "text": [
            "=3\n"
          ]
        }
      ]
    },
    {
      "cell_type": "markdown",
      "source": [
        "14. 테스트 데이터 분리"
      ],
      "metadata": {
        "id": "_isgV8FmRE8b"
      }
    },
    {
      "cell_type": "code",
      "source": [
        "n_of_val = int(len(encoder_input)*0.2)\n",
        "print('테스트 데이터의 수 :', n_of_val)"
      ],
      "metadata": {
        "colab": {
          "base_uri": "https://localhost:8080/"
        },
        "id": "4yJuuLDNRQq8",
        "outputId": "8ec85918-5f9d-4372-a0a7-7d75bbe7b9c2"
      },
      "execution_count": null,
      "outputs": [
        {
          "output_type": "stream",
          "name": "stdout",
          "text": [
            "테스트 데이터의 수 : 17671\n"
          ]
        }
      ]
    },
    {
      "cell_type": "markdown",
      "source": [
        "15. 전체 데이터에 적용하기"
      ],
      "metadata": {
        "id": "vRfZ9ClfRSME"
      }
    },
    {
      "cell_type": "code",
      "source": [
        "encoder_input_train = encoder_input[:-n_of_val]\n",
        "decoder_input_train = decoder_input[:-n_of_val]\n",
        "decoder_target_train = decoder_target[:-n_of_val]\n",
        "\n",
        "encoder_input_test = encoder_input[-n_of_val:]\n",
        "decoder_input_test = decoder_input[-n_of_val:]\n",
        "decoder_target_test = decoder_target[-n_of_val:]\n",
        "\n",
        "print('훈련 데이터의 개수 :', len(encoder_input_train))\n",
        "print('훈련 레이블의 개수 :', len(decoder_input_train))\n",
        "print('테스트 데이터의 개수 :', len(encoder_input_test))\n",
        "print('테스트 레이블의 개수 :', len(decoder_input_test))"
      ],
      "metadata": {
        "colab": {
          "base_uri": "https://localhost:8080/"
        },
        "id": "r3cWXh4FRR3B",
        "outputId": "ed17dd6e-c7fc-4dd4-a3c1-b247feeb7988"
      },
      "execution_count": null,
      "outputs": [
        {
          "output_type": "stream",
          "name": "stdout",
          "text": [
            "훈련 데이터의 개수 : 70684\n",
            "훈련 레이블의 개수 : 70684\n",
            "테스트 데이터의 개수 : 17671\n",
            "테스트 레이블의 개수 : 17671\n"
          ]
        }
      ]
    },
    {
      "cell_type": "markdown",
      "source": [
        "16.토크나이저 정의"
      ],
      "metadata": {
        "id": "4pEbPzpFVu1x"
      }
    },
    {
      "cell_type": "code",
      "source": [
        "src_tokenizer = Tokenizer() # 토크나이저 정의\n",
        "src_tokenizer.fit_on_texts(encoder_input_train) # 입력된 데이터로부터 단어 집합 생성\n",
        "print('=3')"
      ],
      "metadata": {
        "colab": {
          "base_uri": "https://localhost:8080/"
        },
        "id": "mv3rGURWRcEC",
        "outputId": "92f72b70-292a-47c4-8c3c-5782295cdd2c"
      },
      "execution_count": null,
      "outputs": [
        {
          "output_type": "stream",
          "name": "stdout",
          "text": [
            "=3\n"
          ]
        }
      ]
    },
    {
      "cell_type": "markdown",
      "source": [
        "17. 빈도 수 통계 보기"
      ],
      "metadata": {
        "id": "LlqRWnwoWTnM"
      }
    },
    {
      "cell_type": "code",
      "source": [
        "threshold = 7\n",
        "total_cnt = len(src_tokenizer.word_index) # 단어의 수\n",
        "rare_cnt = 0 # 등장 빈도수가 threshold보다 작은 단어의 개수를 카운트\n",
        "total_freq = 0 # 훈련 데이터의 전체 단어 빈도수 총 합\n",
        "rare_freq = 0 # 등장 빈도수가 threshold보다 작은 단어의 등장 빈도수의 총 합\n",
        "\n",
        "# 단어와 빈도수의 쌍(pair)을 key와 value로 받는다.\n",
        "for key, value in src_tokenizer.word_counts.items():\n",
        "    total_freq = total_freq + value\n",
        "\n",
        "    # 단어의 등장 빈도수가 threshold보다 작으면\n",
        "    if(value < threshold):\n",
        "        rare_cnt = rare_cnt + 1\n",
        "        rare_freq = rare_freq + value\n",
        "\n",
        "print('단어 집합(vocabulary)의 크기 :', total_cnt)\n",
        "print('등장 빈도가 %s번 이하인 희귀 단어의 수: %s'%(threshold - 1, rare_cnt))\n",
        "print('단어 집합에서 희귀 단어를 제외시킬 경우의 단어 집합의 크기 %s'%(total_cnt - rare_cnt))\n",
        "print(\"단어 집합에서 희귀 단어의 비율:\", (rare_cnt / total_cnt)*100)\n",
        "print(\"전체 등장 빈도에서 희귀 단어 등장 빈도 비율:\", (rare_freq / total_freq)*100)"
      ],
      "metadata": {
        "colab": {
          "base_uri": "https://localhost:8080/"
        },
        "id": "4qap7GB-WTF2",
        "outputId": "d777a755-d52c-4b4a-d805-e66208d190e8"
      },
      "execution_count": null,
      "outputs": [
        {
          "output_type": "stream",
          "name": "stdout",
          "text": [
            "단어 집합(vocabulary)의 크기 : 49153\n",
            "등장 빈도가 6번 이하인 희귀 단어의 수: 35969\n",
            "단어 집합에서 희귀 단어를 제외시킬 경우의 단어 집합의 크기 13184\n",
            "단어 집합에서 희귀 단어의 비율: 73.1776290358676\n",
            "전체 등장 빈도에서 희귀 단어 등장 빈도 비율: 2.3816977258041363\n"
          ]
        }
      ]
    },
    {
      "cell_type": "markdown",
      "source": [
        "18. 6번 이하의 빈도수 단어 제외"
      ],
      "metadata": {
        "id": "wtNUg6NXgRcb"
      }
    },
    {
      "cell_type": "code",
      "source": [
        "src_vocab = 8000\n",
        "src_tokenizer = Tokenizer(num_words=src_vocab) # 단어 집합의 크기를 8,000으로 제한\n",
        "src_tokenizer.fit_on_texts(encoder_input_train) # 단어 집합 재생성\n",
        "print('=3')"
      ],
      "metadata": {
        "colab": {
          "base_uri": "https://localhost:8080/"
        },
        "id": "XMMR23TUgjDo",
        "outputId": "016dd488-2c0c-481e-a004-7bd177a1e8f9"
      },
      "execution_count": null,
      "outputs": [
        {
          "output_type": "stream",
          "name": "stdout",
          "text": [
            "=3\n"
          ]
        }
      ]
    },
    {
      "cell_type": "markdown",
      "source": [
        "19. 정수 인코딩 진행"
      ],
      "metadata": {
        "id": "T8Ob4g0pgko7"
      }
    },
    {
      "cell_type": "code",
      "source": [
        "# 텍스트 시퀀스를 정수 시퀀스로 변환\n",
        "encoder_input_train = src_tokenizer.texts_to_sequences(encoder_input_train)\n",
        "encoder_input_test = src_tokenizer.texts_to_sequences(encoder_input_test)\n",
        "\n",
        "# 잘 진행되었는지 샘플 출력\n",
        "print(encoder_input_train[:3])"
      ],
      "metadata": {
        "colab": {
          "base_uri": "https://localhost:8080/"
        },
        "id": "t2z5kELmgjpg",
        "outputId": "decdc7e7-0d0d-4275-810f-60a6bc722d64"
      },
      "execution_count": null,
      "outputs": [
        {
          "output_type": "stream",
          "name": "stdout",
          "text": [
            "[[12, 103, 454, 170, 181, 99, 125, 115, 144, 94, 1851, 3180, 1086, 4814, 72, 503, 72, 3879, 17, 103, 365, 1130, 307, 595, 136, 771, 1075, 463, 99, 1152, 4475, 379, 1083, 812, 210, 303, 454, 160, 2217, 117, 87, 125, 12, 873, 5, 72, 609, 478, 29, 754, 1349, 1205, 1761, 518, 24, 57, 11, 12, 5061, 636, 2005, 114, 103, 479, 2217, 492, 1229], [1, 386, 4278, 154, 666, 337, 15, 955, 49, 92, 4518, 477, 1012, 1301, 464, 69, 644, 4059, 197, 117, 687, 37, 545, 117, 543, 1905, 698, 3611, 58, 494, 647, 45, 55, 1567, 339, 1346, 707, 145, 1654, 1217, 479, 165, 55, 1, 798, 2623, 24, 7865, 332, 15, 1501, 567, 419, 721, 26, 479], [35, 541, 3, 1058, 695, 4873, 195, 35, 161, 1, 2081, 1028, 3566, 1257, 2291, 3587, 1151, 1679]]\n"
          ]
        }
      ]
    },
    {
      "cell_type": "markdown",
      "source": [
        "20. 서머리 항목 토크나이저"
      ],
      "metadata": {
        "id": "gN3ebKEegwXT"
      }
    },
    {
      "cell_type": "code",
      "source": [
        "tar_tokenizer = Tokenizer()\n",
        "tar_tokenizer.fit_on_texts(decoder_input_train)\n",
        "print('=3')"
      ],
      "metadata": {
        "colab": {
          "base_uri": "https://localhost:8080/"
        },
        "id": "L8vEaiQlgv-7",
        "outputId": "ef3449d2-0a65-4f9d-e019-1f2f820a45cf"
      },
      "execution_count": null,
      "outputs": [
        {
          "output_type": "stream",
          "name": "stdout",
          "text": [
            "=3\n"
          ]
        }
      ]
    },
    {
      "cell_type": "code",
      "source": [
        "threshold = 6\n",
        "total_cnt = len(tar_tokenizer.word_index) # 단어의 수\n",
        "rare_cnt = 0 # 등장 빈도수가 threshold보다 작은 단어의 개수를 카운트\n",
        "total_freq = 0 # 훈련 데이터의 전체 단어 빈도수 총 합\n",
        "rare_freq = 0 # 등장 빈도수가 threshold보다 작은 단어의 등장 빈도수의 총 합\n",
        "\n",
        "# 단어와 빈도수의 쌍(pair)을 key와 value로 받는다.\n",
        "for key, value in tar_tokenizer.word_counts.items():\n",
        "    total_freq = total_freq + value\n",
        "\n",
        "    # 단어의 등장 빈도수가 threshold보다 작으면\n",
        "    if(value < threshold):\n",
        "        rare_cnt = rare_cnt + 1\n",
        "        rare_freq = rare_freq + value\n",
        "\n",
        "print('단어 집합(vocabulary)의 크기 :', total_cnt)\n",
        "print('등장 빈도가 %s번 이하인 희귀 단어의 수: %s'%(threshold - 1, rare_cnt))\n",
        "print('단어 집합에서 희귀 단어를 제외시킬 경우의 단어 집합의 크기 %s'%(total_cnt - rare_cnt))\n",
        "print(\"단어 집합에서 희귀 단어의 비율:\", (rare_cnt / total_cnt)*100)\n",
        "print(\"전체 등장 빈도에서 희귀 단어 등장 빈도 비율:\", (rare_freq / total_freq)*100)"
      ],
      "metadata": {
        "colab": {
          "base_uri": "https://localhost:8080/"
        },
        "id": "EAlj3uCOg3lG",
        "outputId": "b107dd55-dd3c-4a55-ae1a-cd4d37a430a0"
      },
      "execution_count": null,
      "outputs": [
        {
          "output_type": "stream",
          "name": "stdout",
          "text": [
            "단어 집합(vocabulary)의 크기 : 13212\n",
            "등장 빈도가 5번 이하인 희귀 단어의 수: 9987\n",
            "단어 집합에서 희귀 단어를 제외시킬 경우의 단어 집합의 크기 3225\n",
            "단어 집합에서 희귀 단어의 비율: 75.59037238873752\n",
            "전체 등장 빈도에서 희귀 단어 등장 빈도 비율: 4.789811724880403\n"
          ]
        }
      ]
    },
    {
      "cell_type": "code",
      "source": [
        "tar_vocab = 2000\n",
        "tar_tokenizer = Tokenizer(num_words=tar_vocab)\n",
        "tar_tokenizer.fit_on_texts(decoder_input_train)\n",
        "tar_tokenizer.fit_on_texts(decoder_target_train)\n",
        "\n",
        "# 텍스트 시퀀스를 정수 시퀀스로 변환\n",
        "decoder_input_train = tar_tokenizer.texts_to_sequences(decoder_input_train)\n",
        "decoder_target_train = tar_tokenizer.texts_to_sequences(decoder_target_train)\n",
        "decoder_input_test = tar_tokenizer.texts_to_sequences(decoder_input_test)\n",
        "decoder_target_test = tar_tokenizer.texts_to_sequences(decoder_target_test)\n",
        "\n",
        "# 잘 변환되었는지 확인\n",
        "print('input')\n",
        "print('input ',decoder_input_train[:5])\n",
        "print('target')\n",
        "print('decoder ',decoder_target_train[:5])"
      ],
      "metadata": {
        "colab": {
          "base_uri": "https://localhost:8080/"
        },
        "id": "dFDXUs6Yg5ES",
        "outputId": "eff2da1d-5aa5-4a99-fd2a-282eb1f28b36"
      },
      "execution_count": null,
      "outputs": [
        {
          "output_type": "stream",
          "name": "stdout",
          "text": [
            "input\n",
            "input  [[1, 3], [1, 134, 92, 1090, 22, 6, 1268, 17, 195, 4, 453], [1, 31, 8], [1, 580], [1, 6, 56, 9, 14, 1901, 106, 17, 78]]\n",
            "target\n",
            "decoder  [[3, 2], [134, 92, 1090, 22, 6, 1268, 17, 195, 4, 453, 2], [31, 8, 2], [580, 2], [6, 56, 9, 14, 1901, 106, 17, 78, 2]]\n"
          ]
        }
      ]
    },
    {
      "cell_type": "markdown",
      "source": [
        "21.샘플 삭제"
      ],
      "metadata": {
        "id": "rThbbMR6kIqf"
      }
    },
    {
      "cell_type": "code",
      "source": [
        "drop_train = [index for index, sentence in enumerate(decoder_input_train) if len(sentence) == 1]\n",
        "drop_test = [index for index, sentence in enumerate(decoder_input_test) if len(sentence) == 1]\n",
        "\n",
        "print('삭제할 훈련 데이터의 개수 :', len(drop_train))\n",
        "print('삭제할 테스트 데이터의 개수 :', len(drop_test))\n",
        "\n",
        "encoder_input_train = [sentence for index, sentence in enumerate(encoder_input_train) if index not in drop_train]\n",
        "decoder_input_train = [sentence for index, sentence in enumerate(decoder_input_train) if index not in drop_train]\n",
        "decoder_target_train = [sentence for index, sentence in enumerate(decoder_target_train) if index not in drop_train]\n",
        "\n",
        "encoder_input_test = [sentence for index, sentence in enumerate(encoder_input_test) if index not in drop_test]\n",
        "decoder_input_test = [sentence for index, sentence in enumerate(decoder_input_test) if index not in drop_test]\n",
        "decoder_target_test = [sentence for index, sentence in enumerate(decoder_target_test) if index not in drop_test]\n",
        "\n",
        "print('훈련 데이터의 개수 :', len(encoder_input_train))\n",
        "print('훈련 레이블의 개수 :', len(decoder_input_train))\n",
        "print('테스트 데이터의 개수 :', len(encoder_input_test))\n",
        "print('테스트 레이블의 개수 :', len(decoder_input_test))"
      ],
      "metadata": {
        "colab": {
          "base_uri": "https://localhost:8080/"
        },
        "id": "Z67X483XkA1l",
        "outputId": "ab2c2ba8-b769-46de-dd80-09285bd0a987"
      },
      "execution_count": null,
      "outputs": [
        {
          "output_type": "stream",
          "name": "stdout",
          "text": [
            "삭제할 훈련 데이터의 개수 : 1609\n",
            "삭제할 테스트 데이터의 개수 : 421\n",
            "훈련 데이터의 개수 : 69075\n",
            "훈련 레이블의 개수 : 69075\n",
            "테스트 데이터의 개수 : 17250\n",
            "테스트 레이블의 개수 : 17250\n"
          ]
        }
      ]
    },
    {
      "cell_type": "markdown",
      "source": [
        "22. 패딩하기"
      ],
      "metadata": {
        "id": "pBw-h4ahkT4o"
      }
    },
    {
      "cell_type": "code",
      "source": [
        "encoder_input_train = pad_sequences(encoder_input_train, maxlen=text_max_len, padding='post')\n",
        "encoder_input_test = pad_sequences(encoder_input_test, maxlen=text_max_len, padding='post')\n",
        "decoder_input_train = pad_sequences(decoder_input_train, maxlen=summary_max_len, padding='post')\n",
        "decoder_target_train = pad_sequences(decoder_target_train, maxlen=summary_max_len, padding='post')\n",
        "decoder_input_test = pad_sequences(decoder_input_test, maxlen=summary_max_len, padding='post')\n",
        "decoder_target_test = pad_sequences(decoder_target_test, maxlen=summary_max_len, padding='post')\n",
        "print('=3')"
      ],
      "metadata": {
        "colab": {
          "base_uri": "https://localhost:8080/"
        },
        "id": "OFtKwPtNkRYb",
        "outputId": "ab95b9de-6228-4121-a5c4-ebb75e6d9256"
      },
      "execution_count": null,
      "outputs": [
        {
          "output_type": "stream",
          "name": "stdout",
          "text": [
            "=3\n"
          ]
        }
      ]
    },
    {
      "cell_type": "markdown",
      "source": [
        "## 모델 구축"
      ],
      "metadata": {
        "id": "EQllvrlSTYz5"
      }
    },
    {
      "cell_type": "markdown",
      "source": [
        "1. 인코더 설계"
      ],
      "metadata": {
        "id": "wAonR56PUeYE"
      }
    },
    {
      "cell_type": "code",
      "source": [
        "from tensorflow.keras.layers import Input, LSTM, Embedding, Dense, Concatenate, TimeDistributed\n",
        "from tensorflow.keras.models import Model\n",
        "from tensorflow.keras.callbacks import EarlyStopping, ModelCheckpoint\n",
        "\n",
        "\n",
        "# 인코더 설계 시작\n",
        "embedding_dim = 128\n",
        "hidden_size = 256\n",
        "\n",
        "# 인코더\n",
        "encoder_inputs = Input(shape=(text_max_len,))\n",
        "\n",
        "# 인코더의 임베딩 층\n",
        "enc_emb = Embedding(src_vocab, embedding_dim)(encoder_inputs)\n",
        "\n",
        "# 인코더의 LSTM 1\n",
        "encoder_lstm1 = LSTM(hidden_size, return_sequences=True, return_state=True ,dropout = 0.4, recurrent_dropout = 0.4)\n",
        "# encoder_lstm1 = LSTM(hidden_size, return_sequences=True, return_state=True ,dropout = 0.4)\n",
        "encoder_output1, state_h1, state_c1 = encoder_lstm1(enc_emb)\n",
        "\n",
        "# 인코더의 LSTM 2\n",
        "encoder_lstm2 = LSTM(hidden_size, return_sequences=True, return_state=True ,dropout = 0.4, recurrent_dropout = 0.4)\n",
        "# encoder_lstm2 = LSTM(hidden_size, return_sequences=True, return_state=True ,dropout = 0.4)\n",
        "encoder_output2, state_h2, state_c2 = encoder_lstm2(encoder_output1)\n",
        "\n",
        "# 인코더의 LSTM 3\n",
        "encoder_lstm3 = LSTM(hidden_size, return_sequences=True, return_state=True ,dropout = 0.4, recurrent_dropout = 0.4)\n",
        "# encoder_lstm3 = LSTM(hidden_size, return_sequences=True, return_state=True ,dropout = 0.4)\n",
        "encoder_output3, state_h3, state_c3 = encoder_lstm3(encoder_output2)"
      ],
      "metadata": {
        "id": "76aeVW_nTYch"
      },
      "execution_count": null,
      "outputs": []
    },
    {
      "cell_type": "markdown",
      "source": [
        "2. 디코더 구축"
      ],
      "metadata": {
        "id": "37czzVSCZ8Sh"
      }
    },
    {
      "cell_type": "code",
      "source": [
        "# 디코더 설계\n",
        "decoder_inputs = Input(shape=(None,))\n",
        "\n",
        "# 디코더의 임베딩 층\n",
        "dec_emb_layer = Embedding(tar_vocab, embedding_dim)\n",
        "dec_emb = dec_emb_layer(decoder_inputs)\n",
        "\n",
        "# 디코더의 LSTM\n",
        "decoder_lstm = LSTM(hidden_size, return_sequences=True, return_state=True, dropout=0.4, recurrent_dropout=0.2)\n",
        "# decoder_lstm = LSTM(hidden_size, return_sequences=True, return_state=True, dropout=0.4)\n",
        "decoder_outputs, _, _ = decoder_lstm(dec_emb, initial_state=[state_h3, state_c3])"
      ],
      "metadata": {
        "id": "3JuPLqotZ-X4"
      },
      "execution_count": null,
      "outputs": []
    },
    {
      "cell_type": "code",
      "source": [
        "# 디코더의 출력층\n",
        "decoder_softmax_layer = Dense(tar_vocab, activation='softmax')\n",
        "decoder_softmax_outputs = decoder_softmax_layer(decoder_outputs)\n",
        "\n",
        "# 모델 정의\n",
        "model = Model([encoder_inputs, decoder_inputs], decoder_softmax_outputs)\n",
        "model.summary()"
      ],
      "metadata": {
        "colab": {
          "base_uri": "https://localhost:8080/"
        },
        "id": "eRnV2Pm6ayjv",
        "outputId": "5768b1c9-ba09-4a3c-bc95-498b5fabcf26"
      },
      "execution_count": null,
      "outputs": [
        {
          "output_type": "stream",
          "name": "stdout",
          "text": [
            "Model: \"model_8\"\n",
            "__________________________________________________________________________________________________\n",
            " Layer (type)                   Output Shape         Param #     Connected to                     \n",
            "==================================================================================================\n",
            " input_10 (InputLayer)          [(None, 50)]         0           []                               \n",
            "                                                                                                  \n",
            " embedding_9 (Embedding)        (None, 50, 128)      1024000     ['input_10[0][0]']               \n",
            "                                                                                                  \n",
            " lstm_15 (LSTM)                 [(None, 50, 256),    394240      ['embedding_9[0][0]']            \n",
            "                                 (None, 256),                                                     \n",
            "                                 (None, 256)]                                                     \n",
            "                                                                                                  \n",
            " input_11 (InputLayer)          [(None, None)]       0           []                               \n",
            "                                                                                                  \n",
            " lstm_16 (LSTM)                 [(None, 50, 256),    525312      ['lstm_15[0][0]']                \n",
            "                                 (None, 256),                                                     \n",
            "                                 (None, 256)]                                                     \n",
            "                                                                                                  \n",
            " embedding_10 (Embedding)       (None, None, 128)    256000      ['input_11[0][0]']               \n",
            "                                                                                                  \n",
            " lstm_17 (LSTM)                 [(None, 50, 256),    525312      ['lstm_16[0][0]']                \n",
            "                                 (None, 256),                                                     \n",
            "                                 (None, 256)]                                                     \n",
            "                                                                                                  \n",
            " lstm_18 (LSTM)                 [(None, None, 256),  394240      ['embedding_10[0][0]',           \n",
            "                                 (None, 256),                     'lstm_17[0][1]',                \n",
            "                                 (None, 256)]                     'lstm_17[0][2]']                \n",
            "                                                                                                  \n",
            " dense_8 (Dense)                (None, None, 2000)   514000      ['lstm_18[0][0]']                \n",
            "                                                                                                  \n",
            "==================================================================================================\n",
            "Total params: 3,633,104\n",
            "Trainable params: 3,633,104\n",
            "Non-trainable params: 0\n",
            "__________________________________________________________________________________________________\n"
          ]
        }
      ]
    },
    {
      "cell_type": "markdown",
      "source": [
        "3. 어텐션 매커니즘"
      ],
      "metadata": {
        "id": "NVLpYaqfa9vp"
      }
    },
    {
      "cell_type": "code",
      "source": [
        "from tensorflow.keras.layers import AdditiveAttention\n",
        "\n",
        "# 어텐션 층(어텐션 함수)\n",
        "attn_layer = AdditiveAttention(name='attention_layer')\n",
        "\n",
        "# 인코더와 디코더의 모든 time step의 hidden state를 어텐션 층에 전달하고 결과를 리턴\n",
        "attn_out = attn_layer([decoder_outputs, encoder_output3])\n",
        "\n",
        "\n",
        "# 어텐션의 결과와 디코더의 hidden state들을 연결\n",
        "decoder_concat_input = Concatenate(axis=-1, name='concat_layer')([decoder_outputs, attn_out])\n",
        "\n",
        "# 디코더의 출력층\n",
        "decoder_softmax_layer = Dense(tar_vocab, activation='softmax')\n",
        "decoder_softmax_outputs = decoder_softmax_layer(decoder_concat_input)\n",
        "\n",
        "# 모델 정의\n",
        "model = Model([encoder_inputs, decoder_inputs], decoder_softmax_outputs)\n",
        "model.summary()"
      ],
      "metadata": {
        "colab": {
          "base_uri": "https://localhost:8080/"
        },
        "id": "_uukQVZOa-wc",
        "outputId": "77066b0e-d601-4845-8c97-def3f835983c"
      },
      "execution_count": null,
      "outputs": [
        {
          "output_type": "stream",
          "name": "stdout",
          "text": [
            "Model: \"model_9\"\n",
            "__________________________________________________________________________________________________\n",
            " Layer (type)                   Output Shape         Param #     Connected to                     \n",
            "==================================================================================================\n",
            " input_10 (InputLayer)          [(None, 50)]         0           []                               \n",
            "                                                                                                  \n",
            " embedding_9 (Embedding)        (None, 50, 128)      1024000     ['input_10[0][0]']               \n",
            "                                                                                                  \n",
            " lstm_15 (LSTM)                 [(None, 50, 256),    394240      ['embedding_9[0][0]']            \n",
            "                                 (None, 256),                                                     \n",
            "                                 (None, 256)]                                                     \n",
            "                                                                                                  \n",
            " input_11 (InputLayer)          [(None, None)]       0           []                               \n",
            "                                                                                                  \n",
            " lstm_16 (LSTM)                 [(None, 50, 256),    525312      ['lstm_15[0][0]']                \n",
            "                                 (None, 256),                                                     \n",
            "                                 (None, 256)]                                                     \n",
            "                                                                                                  \n",
            " embedding_10 (Embedding)       (None, None, 128)    256000      ['input_11[0][0]']               \n",
            "                                                                                                  \n",
            " lstm_17 (LSTM)                 [(None, 50, 256),    525312      ['lstm_16[0][0]']                \n",
            "                                 (None, 256),                                                     \n",
            "                                 (None, 256)]                                                     \n",
            "                                                                                                  \n",
            " lstm_18 (LSTM)                 [(None, None, 256),  394240      ['embedding_10[0][0]',           \n",
            "                                 (None, 256),                     'lstm_17[0][1]',                \n",
            "                                 (None, 256)]                     'lstm_17[0][2]']                \n",
            "                                                                                                  \n",
            " attention_layer (AdditiveAtten  (None, None, 256)   256         ['lstm_18[0][0]',                \n",
            " tion)                                                            'lstm_17[0][0]']                \n",
            "                                                                                                  \n",
            " concat_layer (Concatenate)     (None, None, 512)    0           ['lstm_18[0][0]',                \n",
            "                                                                  'attention_layer[0][0]']        \n",
            "                                                                                                  \n",
            " dense_9 (Dense)                (None, None, 2000)   1026000     ['concat_layer[0][0]']           \n",
            "                                                                                                  \n",
            "==================================================================================================\n",
            "Total params: 4,145,360\n",
            "Trainable params: 4,145,360\n",
            "Non-trainable params: 0\n",
            "__________________________________________________________________________________________________\n"
          ]
        }
      ]
    },
    {
      "cell_type": "markdown",
      "source": [
        "## 모델 학습"
      ],
      "metadata": {
        "id": "SlzSgOlhc9ez"
      }
    },
    {
      "cell_type": "code",
      "source": [
        "model.compile(optimizer='rmsprop', loss='sparse_categorical_crossentropy')\n",
        "es = EarlyStopping(monitor='val_loss', patience=2, verbose=1)\n",
        "history = model.fit(x=[encoder_input_train, decoder_input_train], y=decoder_target_train, \\\n",
        "          validation_data=([encoder_input_test, decoder_input_test], decoder_target_test), \\\n",
        "          batch_size=256, callbacks=[es], epochs=50)"
      ],
      "metadata": {
        "colab": {
          "base_uri": "https://localhost:8080/"
        },
        "id": "2YbcoOdSgwoL",
        "outputId": "d7ea378e-bae0-433c-bf0e-3b75033dddb2"
      },
      "execution_count": null,
      "outputs": [
        {
          "output_type": "stream",
          "name": "stdout",
          "text": [
            "Epoch 1/50\n",
            "270/270 [==============================] - 184s 645ms/step - loss: 3.1331 - val_loss: 2.8525\n",
            "Epoch 2/50\n",
            "270/270 [==============================] - 173s 640ms/step - loss: 2.8111 - val_loss: 2.7649\n",
            "Epoch 3/50\n",
            "270/270 [==============================] - 177s 655ms/step - loss: 2.7298 - val_loss: 2.6802\n",
            "Epoch 4/50\n",
            "270/270 [==============================] - 187s 694ms/step - loss: 2.6538 - val_loss: 2.6152\n",
            "Epoch 5/50\n",
            "270/270 [==============================] - 187s 692ms/step - loss: 2.5952 - val_loss: 2.5683\n",
            "Epoch 6/50\n",
            "270/270 [==============================] - 186s 689ms/step - loss: 2.5448 - val_loss: 2.5242\n",
            "Epoch 7/50\n",
            "270/270 [==============================] - 186s 689ms/step - loss: 2.4953 - val_loss: 2.4810\n",
            "Epoch 8/50\n",
            "270/270 [==============================] - 187s 694ms/step - loss: 2.4481 - val_loss: 2.4360\n",
            "Epoch 9/50\n",
            "270/270 [==============================] - 192s 711ms/step - loss: 2.4068 - val_loss: 2.4014\n",
            "Epoch 10/50\n",
            "270/270 [==============================] - 185s 684ms/step - loss: 2.3689 - val_loss: 2.3672\n",
            "Epoch 11/50\n",
            "270/270 [==============================] - 183s 679ms/step - loss: 2.3348 - val_loss: 2.3390\n",
            "Epoch 12/50\n",
            "270/270 [==============================] - 187s 693ms/step - loss: 2.3045 - val_loss: 2.3158\n",
            "Epoch 13/50\n",
            "270/270 [==============================] - 188s 696ms/step - loss: 2.2779 - val_loss: 2.3024\n",
            "Epoch 14/50\n",
            "270/270 [==============================] - 185s 686ms/step - loss: 2.2548 - val_loss: 2.2798\n",
            "Epoch 15/50\n",
            "270/270 [==============================] - 187s 694ms/step - loss: 2.2335 - val_loss: 2.2692\n",
            "Epoch 16/50\n",
            "270/270 [==============================] - 176s 651ms/step - loss: 2.2143 - val_loss: 2.2569\n",
            "Epoch 17/50\n",
            "270/270 [==============================] - 173s 642ms/step - loss: 2.1955 - val_loss: 2.2435\n",
            "Epoch 18/50\n",
            "270/270 [==============================] - 175s 648ms/step - loss: 2.1778 - val_loss: 2.2315\n",
            "Epoch 19/50\n",
            "270/270 [==============================] - 178s 661ms/step - loss: 2.1598 - val_loss: 2.2157\n",
            "Epoch 20/50\n",
            "270/270 [==============================] - 176s 653ms/step - loss: 2.1418 - val_loss: 2.2068\n",
            "Epoch 21/50\n",
            "270/270 [==============================] - 174s 644ms/step - loss: 2.1244 - val_loss: 2.1987\n",
            "Epoch 22/50\n",
            "270/270 [==============================] - 176s 652ms/step - loss: 2.1073 - val_loss: 2.1853\n",
            "Epoch 23/50\n",
            "270/270 [==============================] - 174s 643ms/step - loss: 2.0896 - val_loss: 2.1755\n",
            "Epoch 24/50\n",
            "270/270 [==============================] - 173s 642ms/step - loss: 2.0720 - val_loss: 2.1632\n",
            "Epoch 25/50\n",
            "270/270 [==============================] - 173s 640ms/step - loss: 2.0543 - val_loss: 2.1528\n",
            "Epoch 26/50\n",
            "270/270 [==============================] - 174s 643ms/step - loss: 2.0373 - val_loss: 2.1435\n",
            "Epoch 27/50\n",
            "270/270 [==============================] - 174s 644ms/step - loss: 2.0205 - val_loss: 2.1378\n",
            "Epoch 28/50\n",
            "270/270 [==============================] - 173s 641ms/step - loss: 2.0051 - val_loss: 2.1329\n",
            "Epoch 29/50\n",
            "270/270 [==============================] - 174s 643ms/step - loss: 1.9899 - val_loss: 2.1232\n",
            "Epoch 30/50\n",
            "270/270 [==============================] - 173s 640ms/step - loss: 1.9760 - val_loss: 2.1201\n",
            "Epoch 31/50\n",
            "270/270 [==============================] - 174s 645ms/step - loss: 1.9615 - val_loss: 2.1139\n",
            "Epoch 32/50\n",
            "270/270 [==============================] - 173s 642ms/step - loss: 1.9473 - val_loss: 2.1104\n",
            "Epoch 33/50\n",
            "270/270 [==============================] - 174s 644ms/step - loss: 1.9344 - val_loss: 2.1081\n",
            "Epoch 34/50\n",
            "270/270 [==============================] - 177s 656ms/step - loss: 1.9218 - val_loss: 2.1051\n",
            "Epoch 35/50\n",
            "270/270 [==============================] - 183s 677ms/step - loss: 1.9090 - val_loss: 2.1004\n",
            "Epoch 36/50\n",
            "270/270 [==============================] - 184s 680ms/step - loss: 1.8975 - val_loss: 2.1047\n",
            "Epoch 37/50\n",
            "270/270 [==============================] - 184s 680ms/step - loss: 1.8857 - val_loss: 2.0961\n",
            "Epoch 38/50\n",
            "270/270 [==============================] - 180s 666ms/step - loss: 1.8733 - val_loss: 2.0958\n",
            "Epoch 39/50\n",
            "270/270 [==============================] - 175s 648ms/step - loss: 1.8629 - val_loss: 2.0993\n",
            "Epoch 40/50\n",
            "270/270 [==============================] - 175s 649ms/step - loss: 1.8512 - val_loss: 2.0952\n",
            "Epoch 41/50\n",
            "270/270 [==============================] - 175s 647ms/step - loss: 1.8404 - val_loss: 2.0995\n",
            "Epoch 42/50\n",
            "270/270 [==============================] - 173s 642ms/step - loss: 1.8300 - val_loss: 2.0938\n",
            "Epoch 43/50\n",
            "270/270 [==============================] - 173s 640ms/step - loss: 1.8197 - val_loss: 2.0942\n",
            "Epoch 44/50\n",
            "270/270 [==============================] - 174s 644ms/step - loss: 1.8086 - val_loss: 2.0928\n",
            "Epoch 45/50\n",
            "270/270 [==============================] - 174s 646ms/step - loss: 1.7988 - val_loss: 2.0975\n",
            "Epoch 46/50\n",
            "270/270 [==============================] - 180s 666ms/step - loss: 1.7883 - val_loss: 2.0938\n",
            "Epoch 46: early stopping\n"
          ]
        }
      ]
    },
    {
      "cell_type": "markdown",
      "source": [
        "## 인퍼런스 모델 구축"
      ],
      "metadata": {
        "id": "cxeKx1entBmI"
      }
    },
    {
      "cell_type": "markdown",
      "source": [
        "1. 텍스트 사전 준비"
      ],
      "metadata": {
        "id": "xcuEDVJEtv3m"
      }
    },
    {
      "cell_type": "code",
      "source": [
        "src_index_to_word = src_tokenizer.index_word # 원문 단어 집합에서 정수 -> 단어를 얻음\n",
        "tar_word_to_index = tar_tokenizer.word_index # 요약 단어 집합에서 단어 -> 정수를 얻음\n",
        "tar_index_to_word = tar_tokenizer.index_word # 요약 단어 집합에서 정수 -> 단어를 얻음\n",
        "\n",
        "print('=3')"
      ],
      "metadata": {
        "colab": {
          "base_uri": "https://localhost:8080/"
        },
        "id": "6O0nrtoEtDrD",
        "outputId": "76f30e88-99f9-4730-ac59-0616273f53fc"
      },
      "execution_count": null,
      "outputs": [
        {
          "output_type": "stream",
          "name": "stdout",
          "text": [
            "=3\n"
          ]
        }
      ]
    },
    {
      "cell_type": "markdown",
      "source": [
        "2. 인코더 디코더 분리"
      ],
      "metadata": {
        "id": "yJR8yT_HtyNF"
      }
    },
    {
      "cell_type": "code",
      "source": [
        "# 인코더 설계\n",
        "encoder_model = Model(inputs=encoder_inputs, outputs=[encoder_output3, state_h3, state_c3])\n",
        "\n",
        "# 이전 시점의 상태들을 저장하는 텐서\n",
        "decoder_state_input_h = Input(shape=(hidden_size,))\n",
        "decoder_state_input_c = Input(shape=(hidden_size,))\n",
        "\n",
        "dec_emb2 = dec_emb_layer(decoder_inputs)\n",
        "\n",
        "# 문장의 다음 단어를 예측하기 위해서 초기 상태(initial_state)를 이전 시점의 상태로 사용. 이는 뒤의 함수 decode_sequence()에 구현\n",
        "# 훈련 과정에서와 달리 LSTM의 리턴하는 은닉 상태와 셀 상태인 state_h와 state_c를 버리지 않음.\n",
        "decoder_outputs2, state_h2, state_c2 = decoder_lstm(dec_emb2, initial_state=[decoder_state_input_h, decoder_state_input_c])\n",
        "\n",
        "print('=3')"
      ],
      "metadata": {
        "colab": {
          "base_uri": "https://localhost:8080/"
        },
        "id": "KmUMvSuft1fO",
        "outputId": "a7f93482-ff78-4d98-ac71-d88ba7def31a"
      },
      "execution_count": null,
      "outputs": [
        {
          "output_type": "stream",
          "name": "stdout",
          "text": [
            "=3\n"
          ]
        }
      ]
    },
    {
      "cell_type": "markdown",
      "source": [
        "3. 매커니즘 출력층 설계"
      ],
      "metadata": {
        "id": "OupQHYuat2p3"
      }
    },
    {
      "cell_type": "code",
      "source": [
        "# 어텐션 함수\n",
        "decoder_hidden_state_input = Input(shape=(text_max_len, hidden_size))\n",
        "attn_out_inf = attn_layer([decoder_outputs2, decoder_hidden_state_input])\n",
        "decoder_inf_concat = Concatenate(axis=-1, name='concat')([decoder_outputs2, attn_out_inf])\n",
        "\n",
        "# 디코더의 출력층\n",
        "decoder_outputs2 = decoder_softmax_layer(decoder_inf_concat)\n",
        "\n",
        "# 최종 디코더 모델\n",
        "decoder_model = Model(\n",
        "    [decoder_inputs] + [decoder_hidden_state_input,decoder_state_input_h, decoder_state_input_c],\n",
        "    [decoder_outputs2] + [state_h2, state_c2])\n",
        "\n",
        "print('=3')"
      ],
      "metadata": {
        "colab": {
          "base_uri": "https://localhost:8080/"
        },
        "id": "rfCahkb7t-5I",
        "outputId": "1e3723d8-a1a6-41e8-8c0d-c7b42442261b"
      },
      "execution_count": null,
      "outputs": [
        {
          "output_type": "stream",
          "name": "stdout",
          "text": [
            "=3\n"
          ]
        }
      ]
    },
    {
      "cell_type": "markdown",
      "source": [
        "4. 단어 시퀀스 완성하는 함수"
      ],
      "metadata": {
        "id": "n-SDtvt4uCUD"
      }
    },
    {
      "cell_type": "code",
      "source": [
        "def decode_sequence(input_seq):\n",
        "    # 입력으로부터 인코더의 상태를 얻음\n",
        "    e_out, e_h, e_c = encoder_model.predict(input_seq)\n",
        "\n",
        "     # <SOS>에 해당하는 토큰 생성\n",
        "    target_seq = np.zeros((1,1))\n",
        "    target_seq[0, 0] = tar_word_to_index['sostoken']\n",
        "\n",
        "    stop_condition = False\n",
        "    decoded_sentence = ''\n",
        "    while not stop_condition: # stop_condition이 True가 될 때까지 루프 반복\n",
        "\n",
        "        output_tokens, h, c = decoder_model.predict([target_seq] + [e_out, e_h, e_c])\n",
        "        sampled_token_index = np.argmax(output_tokens[0, -1, :])\n",
        "        sampled_token = tar_index_to_word[sampled_token_index]\n",
        "\n",
        "        if (sampled_token!='eostoken'):\n",
        "            decoded_sentence += ' '+sampled_token\n",
        "\n",
        "        #  <eos>에 도달하거나 최대 길이를 넘으면 중단.\n",
        "        if (sampled_token == 'eostoken'  or len(decoded_sentence.split()) >= (summary_max_len-1)):\n",
        "            stop_condition = True\n",
        "\n",
        "        # 길이가 1인 타겟 시퀀스를 업데이트\n",
        "        target_seq = np.zeros((1,1))\n",
        "        target_seq[0, 0] = sampled_token_index\n",
        "\n",
        "        # 상태를 업데이트 합니다.\n",
        "        e_h, e_c = h, c\n",
        "\n",
        "    return decoded_sentence\n",
        "print('=3')"
      ],
      "metadata": {
        "colab": {
          "base_uri": "https://localhost:8080/"
        },
        "id": "UbzWWbZQuBoA",
        "outputId": "0369f86d-54fe-4ad5-cdb0-1aab2d3da0cd"
      },
      "execution_count": null,
      "outputs": [
        {
          "output_type": "stream",
          "name": "stdout",
          "text": [
            "=3\n"
          ]
        }
      ]
    },
    {
      "cell_type": "markdown",
      "source": [
        "## 모델 테스트"
      ],
      "metadata": {
        "id": "tWNXskQLtD5w"
      }
    },
    {
      "cell_type": "code",
      "source": [
        "# 원문의 정수 시퀀스를 텍스트 시퀀스로 변환\n",
        "def seq2text(input_seq):\n",
        "    temp=''\n",
        "    for i in input_seq:\n",
        "        if (i!=0):\n",
        "            temp = temp + src_index_to_word[i]+' '\n",
        "    return temp\n",
        "\n",
        "# 요약문의 정수 시퀀스를 텍스트 시퀀스로 변환\n",
        "def seq2summary(input_seq):\n",
        "    temp=''\n",
        "    for i in input_seq:\n",
        "        if (i!=0 and i!=tar_word_to_index['sostoken'] and i!=tar_word_to_index['eostoken']):  # 'sostoken'과 'eostoken' 제외\n",
        "            temp = temp + tar_index_to_word[i] + ' '\n",
        "    return temp\n",
        "\n",
        "\n",
        "print('=3')\n",
        "\n",
        "for i in range(50, 100):\n",
        "    print(\"원문 :\", seq2text(encoder_input_test[i]))\n",
        "    print(\"실제 요약 :\", seq2summary(decoder_input_test[i]))\n",
        "    print(\"예측 요약 :\", decode_sequence(encoder_input_test[i].reshape(1, text_max_len)))\n",
        "    print(\"\\n\")"
      ],
      "metadata": {
        "colab": {
          "base_uri": "https://localhost:8080/"
        },
        "id": "2SHC-R9mtF2V",
        "outputId": "4642c75d-490c-4ee3-c03e-bd360f6b0526"
      },
      "execution_count": null,
      "outputs": [
        {
          "output_type": "stream",
          "name": "stdout",
          "text": [
            "=3\n",
            "원문 : mac cheese really creamy without tasting processed right amount salt good product overall \n",
            "실제 요약 : yummy \n",
            "1/1 [==============================] - 1s 641ms/step\n",
            "1/1 [==============================] - 0s 274ms/step\n",
            "1/1 [==============================] - 0s 23ms/step\n",
            "1/1 [==============================] - 0s 23ms/step\n",
            "예측 요약 :  great tasting\n",
            "\n",
            "\n",
            "원문 : bought pumpkin none available markets due great pumpkin something equally primary use prevent hairballs cat works usually mix canned cat food ran one night gave straight scarfed candy lasts long time smells wonderful plan use muffins soon get time make like able give something organic older like organic cooking \n",
            "실제 요약 : my cat loves it \n",
            "1/1 [==============================] - 0s 39ms/step\n",
            "1/1 [==============================] - 0s 24ms/step\n",
            "1/1 [==============================] - 0s 23ms/step\n",
            "1/1 [==============================] - 0s 23ms/step\n",
            "1/1 [==============================] - 0s 23ms/step\n",
            "1/1 [==============================] - 0s 23ms/step\n",
            "예측 요약 :  my cats love it\n",
            "\n",
            "\n",
            "원문 : product great kids grown families shared loved purchased directly amazon hard find store \n",
            "실제 요약 : soup lover \n",
            "1/1 [==============================] - 0s 37ms/step\n",
            "1/1 [==============================] - 0s 22ms/step\n",
            "1/1 [==============================] - 0s 22ms/step\n",
            "1/1 [==============================] - 0s 24ms/step\n",
            "예측 요약 :  great taste\n",
            "\n",
            "\n",
            "원문 : amazon always good prices happy purchase larabars amazon live canada honestly sell bar ridiculous lemon larabars far favorite healthy preservatives little ingredients natural great snack would highly recommend lemon larabars \n",
            "실제 요약 : love larabars \n",
            "1/1 [==============================] - 0s 42ms/step\n",
            "1/1 [==============================] - 0s 23ms/step\n",
            "1/1 [==============================] - 0s 23ms/step\n",
            "1/1 [==============================] - 0s 23ms/step\n",
            "예측 요약 :  great taste\n",
            "\n",
            "\n",
            "원문 : looking good malt worked making ice cream good one great love super good malted milk shakes try \n",
            "실제 요약 : great \n",
            "1/1 [==============================] - 0s 38ms/step\n",
            "1/1 [==============================] - 0s 24ms/step\n",
            "1/1 [==============================] - 0s 26ms/step\n",
            "1/1 [==============================] - 0s 24ms/step\n",
            "예측 요약 :  great product\n",
            "\n",
            "\n",
            "원문 : perfect basket friend co worker ordered co worker birthday able opened items really well packaged beautifully presented got try items everything delicious would absolutely order basket one thing usually get basket cannot really use basket great house storage presentation loved leather great great great overall thank \n",
            "실제 요약 : fantastic basket \n",
            "1/1 [==============================] - 0s 39ms/step\n",
            "1/1 [==============================] - 0s 24ms/step\n",
            "1/1 [==============================] - 0s 23ms/step\n",
            "1/1 [==============================] - 0s 23ms/step\n",
            "예측 요약 :  gift gift\n",
            "\n",
            "\n",
            "원문 : white rock candy sticks stained tea color several sticks broken since ordered several times past white never broken \n",
            "실제 요약 : very dissapointed \n",
            "1/1 [==============================] - 0s 37ms/step\n",
            "1/1 [==============================] - 0s 22ms/step\n",
            "1/1 [==============================] - 0s 23ms/step\n",
            "1/1 [==============================] - 0s 24ms/step\n",
            "1/1 [==============================] - 0s 22ms/step\n",
            "예측 요약 :  not as pictured\n",
            "\n",
            "\n",
            "원문 : cats like chew string well chewed death little got mouse makes almost sounds like real mouse kind cheap cats liked \n",
            "실제 요약 : my cats enjoyed this while it lasted \n",
            "1/1 [==============================] - 0s 40ms/step\n",
            "1/1 [==============================] - 0s 23ms/step\n",
            "1/1 [==============================] - 0s 26ms/step\n",
            "1/1 [==============================] - 0s 23ms/step\n",
            "예측 요약 :  not for\n",
            "\n",
            "\n",
            "원문 : nut bread warmed went work opinion little sweet really enjoy almonds facts quaker made real bananas almonds quaker soft baked bars banana nut bread flavor tasty ingredients key nutrients help provide fuel start day fiber daily value vitamins protein contains total fat per received product free influenster try review opinions \n",
            "실제 요약 : quaker soft baked bar in banana nut bread \n",
            "1/1 [==============================] - 0s 38ms/step\n",
            "1/1 [==============================] - 0s 23ms/step\n",
            "1/1 [==============================] - 0s 24ms/step\n",
            "1/1 [==============================] - 0s 23ms/step\n",
            "1/1 [==============================] - 0s 23ms/step\n",
            "예측 요약 :  delicious and healthy\n",
            "\n",
            "\n",
            "원문 : great taste excellent mixing chocolate protein etc reese cup style shake definitely buy \n",
            "실제 요약 : great for \n",
            "1/1 [==============================] - 0s 38ms/step\n",
            "1/1 [==============================] - 0s 23ms/step\n",
            "1/1 [==============================] - 0s 23ms/step\n",
            "1/1 [==============================] - 0s 25ms/step\n",
            "예측 요약 :  great taste\n",
            "\n",
            "\n",
            "원문 : teas used tea bags stash leading organic tea brand also really like stash premium organic jasmine green tea loose leaf ounce pouches check review interested brewing tips review makes difference see reviews great choices check vegan grocery favorites vegan grocery top ten helpful count greatly appreciated benefit search others thank \n",
            "실제 요약 : vegan organic kosher choice \n",
            "1/1 [==============================] - 0s 39ms/step\n",
            "1/1 [==============================] - 0s 27ms/step\n",
            "1/1 [==============================] - 0s 25ms/step\n",
            "1/1 [==============================] - 0s 24ms/step\n",
            "1/1 [==============================] - 0s 24ms/step\n",
            "예측 요약 :  my favorite tea\n",
            "\n",
            "\n",
            "원문 : well three three dogs tried brand really seem enjoy easy see meat first ingredient listed seems good amount protein chef michael grilled sirloin dry dogs enjoy nice veggie flavoring would probably consider treat every day meal unless small dog stretch pound bag last quite value brands even dogs enjoy \n",
            "실제 요약 : tasty to the dogs but not cheap \n",
            "1/1 [==============================] - 0s 40ms/step\n",
            "1/1 [==============================] - 0s 24ms/step\n",
            "1/1 [==============================] - 0s 23ms/step\n",
            "1/1 [==============================] - 0s 23ms/step\n",
            "1/1 [==============================] - 0s 25ms/step\n",
            "1/1 [==============================] - 0s 23ms/step\n",
            "예측 요약 :  my dog loves it\n",
            "\n",
            "\n",
            "원문 : read review loose lady grey tea perfect review go add wish go ahead add bit lemon tea bit though tea disappointed \n",
            "실제 요약 : twinings grey tea is just perfect \n",
            "1/1 [==============================] - 0s 38ms/step\n",
            "1/1 [==============================] - 0s 23ms/step\n",
            "1/1 [==============================] - 0s 23ms/step\n",
            "1/1 [==============================] - 0s 23ms/step\n",
            "예측 요약 :  great tea\n",
            "\n",
            "\n",
            "원문 : lb bag probably last months stale gummies still taste great nearly impossible chew portion serving size suck guess plus dieting \n",
            "실제 요약 : good but extremely stale \n",
            "1/1 [==============================] - 0s 39ms/step\n",
            "1/1 [==============================] - 0s 23ms/step\n",
            "1/1 [==============================] - 0s 25ms/step\n",
            "1/1 [==============================] - 0s 24ms/step\n",
            "1/1 [==============================] - 0s 24ms/step\n",
            "1/1 [==============================] - 0s 23ms/step\n",
            "예측 요약 :  not as good as\n",
            "\n",
            "\n",
            "원문 : makes luscious decadent brownies follow recipe calls heating sugar butter mixture twice resulting gorgeous shiny topped brownie see teaspoon espresso powder also use good quality vanilla anyway husband co workers college son two teenage daughters band love love love brownies know special dark blend hershey cocoa helps make extra special \n",
            "실제 요약 : warning for brownie this up fantastic \n",
            "1/1 [==============================] - 0s 38ms/step\n",
            "1/1 [==============================] - 0s 23ms/step\n",
            "1/1 [==============================] - 0s 23ms/step\n",
            "1/1 [==============================] - 0s 23ms/step\n",
            "1/1 [==============================] - 0s 24ms/step\n",
            "예측 요약 :  love this stuff\n",
            "\n",
            "\n",
            "원문 : good reviews java herbal coffee went local whole foods purchase original light roast herbal coffee thought would try anyway expecting taste like coffee looking hot beverage without caffeine tasted good cannot find words describe awful flavor made daughter try help describe flavor said smells like plastic wasted money buying product \n",
            "실제 요약 : do not buy this product \n",
            "1/1 [==============================] - 0s 39ms/step\n",
            "1/1 [==============================] - 0s 24ms/step\n",
            "1/1 [==============================] - 0s 23ms/step\n",
            "1/1 [==============================] - 0s 24ms/step\n",
            "예측 요약 :  not bad\n",
            "\n",
            "\n",
            "원문 : mcdougall soup favorite flavor take full min get fully hydrated pasta flavorful really enjoy eat everyday lunch mcdougall soups helped stay vegan diet never feel like give taste quality \n",
            "실제 요약 : favorite soup \n",
            "1/1 [==============================] - 0s 39ms/step\n",
            "1/1 [==============================] - 0s 23ms/step\n",
            "1/1 [==============================] - 0s 23ms/step\n",
            "1/1 [==============================] - 0s 24ms/step\n",
            "1/1 [==============================] - 0s 23ms/step\n",
            "1/1 [==============================] - 0s 24ms/step\n",
            "예측 요약 :  great for quick meal\n",
            "\n",
            "\n",
            "원문 : buy flavor nice change plain coconut waters guava nice fragrant guava texture go super smooth though get little bit guava juice makes cough sometimes find refreshing quench thirst drink tasty keep subscription also like mango flavor pineapple flavor offered one well \n",
            "실제 요약 : nice change from plain coconut water \n",
            "1/1 [==============================] - 0s 40ms/step\n",
            "1/1 [==============================] - 0s 23ms/step\n",
            "1/1 [==============================] - 0s 23ms/step\n",
            "1/1 [==============================] - 0s 23ms/step\n",
            "1/1 [==============================] - 0s 23ms/step\n",
            "예측 요약 :  refreshing and refreshing\n",
            "\n",
            "\n",
            "원문 : disappointed coffee hot chocolate made plastic like taste unit brewing gives smell thought would go away time convenient mess minimal clean make bad taste tried different coffees bad taste returning unit \n",
            "실제 요약 : smells and tastes like plastic \n",
            "1/1 [==============================] - 0s 40ms/step\n",
            "1/1 [==============================] - 0s 24ms/step\n",
            "1/1 [==============================] - 0s 23ms/step\n",
            "1/1 [==============================] - 0s 24ms/step\n",
            "1/1 [==============================] - 0s 23ms/step\n",
            "1/1 [==============================] - 0s 23ms/step\n",
            "1/1 [==============================] - 0s 24ms/step\n",
            "예측 요약 :  not as good as expected\n",
            "\n",
            "\n",
            "원문 : black teas yerba mate along light touch ginger wonderful thirst quencher tonic health energy find drinking daily instead usual afternoon coffee body brain without jittery effects caffeine find get delightful pick later day need without negative affects keeping night tad expensive continue buy enjoy delicious brew part every day routine \n",
            "실제 요약 : delicious like tea \n",
            "1/1 [==============================] - 0s 38ms/step\n",
            "1/1 [==============================] - 0s 24ms/step\n",
            "1/1 [==============================] - 0s 24ms/step\n",
            "1/1 [==============================] - 0s 24ms/step\n",
            "1/1 [==============================] - 0s 24ms/step\n",
            "예측 요약 :  love this stuff\n",
            "\n",
            "\n",
            "원문 : give organic dry food time talking cat owners informed mixing wet food diet wild cats get moisture food nature drink lot water thought could hurt give cat treat couple times week even touch tried mixing regular dry food give texture ate dry food around sure preference cat particular cat food \n",
            "실제 요약 : cat will not eat it \n",
            "1/1 [==============================] - 0s 38ms/step\n",
            "1/1 [==============================] - 0s 23ms/step\n",
            "1/1 [==============================] - 0s 23ms/step\n",
            "1/1 [==============================] - 0s 25ms/step\n",
            "1/1 [==============================] - 0s 26ms/step\n",
            "1/1 [==============================] - 0s 24ms/step\n",
            "예측 요약 :  my cats love it\n",
            "\n",
            "\n",
            "원문 : got gift dad birthday likes pistachios liked mom planning get two boxes father day enjoy whole box even mom helping never turkish delight seemed like good one try based earlier review chewy sticky sweet overly nice overall flavor would recommend gift dad really liked something would never tried \n",
            "실제 요약 : tasty gift \n",
            "1/1 [==============================] - 0s 38ms/step\n",
            "1/1 [==============================] - 0s 25ms/step\n",
            "1/1 [==============================] - 0s 22ms/step\n",
            "1/1 [==============================] - 0s 23ms/step\n",
            "1/1 [==============================] - 0s 24ms/step\n",
            "1/1 [==============================] - 0s 23ms/step\n",
            "예측 요약 :  great gift for kids\n",
            "\n",
            "\n",
            "원문 : reason five stars bc exactly taste like authentic pho huge really good soup base good noodles kinda spaghetti like rice noodle regret purchase tip cook pot instead microwave whenever noodles come better \n",
            "실제 요약 : pretty darn good \n",
            "1/1 [==============================] - 0s 39ms/step\n",
            "1/1 [==============================] - 0s 23ms/step\n",
            "1/1 [==============================] - 0s 24ms/step\n",
            "1/1 [==============================] - 0s 23ms/step\n",
            "예측 요약 :  great soup\n",
            "\n",
            "\n",
            "원문 : illy issimo caffe coffee drink espresso flavored canned coffee strong flavor drink may little strong dedicated espresso fans drink however mixed well milk extra sweetener produce good tasting coffee beverage also poured glass produced beautifully thick foam \n",
            "실제 요약 : coffee shop alternative welcome treat \n",
            "1/1 [==============================] - 0s 39ms/step\n",
            "1/1 [==============================] - 0s 24ms/step\n",
            "1/1 [==============================] - 0s 24ms/step\n",
            "1/1 [==============================] - 0s 24ms/step\n",
            "1/1 [==============================] - 0s 24ms/step\n",
            "1/1 [==============================] - 0s 26ms/step\n",
            "1/1 [==============================] - 0s 23ms/step\n",
            "1/1 [==============================] - 0s 23ms/step\n",
            "예측 요약 :  not as good as other brands\n",
            "\n",
            "\n",
            "원문 : nice change regular mayo yummy lamb etc couple jars went part gift boxes well received \n",
            "실제 요약 : excellent \n",
            "1/1 [==============================] - 0s 39ms/step\n",
            "1/1 [==============================] - 0s 23ms/step\n",
            "1/1 [==============================] - 0s 22ms/step\n",
            "1/1 [==============================] - 0s 23ms/step\n",
            "예측 요약 :  great product\n",
            "\n",
            "\n",
            "원문 : stuff great good anything starbucks smooth rich full flavor satisfying warming cold day low cal though careful much drink one cup weight watcher points \n",
            "실제 요약 : great stuff \n",
            "1/1 [==============================] - 0s 39ms/step\n",
            "1/1 [==============================] - 0s 24ms/step\n",
            "1/1 [==============================] - 0s 23ms/step\n",
            "1/1 [==============================] - 0s 23ms/step\n",
            "예측 요약 :  great coffee\n",
            "\n",
            "\n",
            "원문 : good still good maxwell house vanilla like strong cup coffee \n",
            "실제 요약 : french vanilla coffee \n",
            "1/1 [==============================] - 0s 38ms/step\n",
            "1/1 [==============================] - 0s 22ms/step\n",
            "1/1 [==============================] - 0s 23ms/step\n",
            "1/1 [==============================] - 0s 23ms/step\n",
            "예측 요약 :  great coffee\n",
            "\n",
            "\n",
            "원문 : flavor starts bit grassy flat mouth takes first hoped bitterness would mellow little shelf time year cool dark place flavor consider foodie love strong flavors oil bitterness strong overpowers qualities tried variety premium olive oils california europe australia never experienced olive oil given number good reviews hope got bad batch \n",
            "실제 요약 : bitter \n",
            "1/1 [==============================] - 0s 39ms/step\n",
            "1/1 [==============================] - 0s 23ms/step\n",
            "1/1 [==============================] - 0s 28ms/step\n",
            "1/1 [==============================] - 0s 24ms/step\n",
            "1/1 [==============================] - 0s 24ms/step\n",
            "1/1 [==============================] - 0s 23ms/step\n",
            "1/1 [==============================] - 0s 22ms/step\n",
            "예측 요약 :  not as good as expected\n",
            "\n",
            "\n",
            "원문 : automatically amazon three different flavors variety two cats love three classic flavors buy highly recommend food health cat also two large male cats eat average cans day hopefully help figure much need cat reason get full finish full one sitting cover left overs eat dried eat covered allowed retain moisture \n",
            "실제 요약 : cat no longer needs because of this food \n",
            "1/1 [==============================] - 0s 38ms/step\n",
            "1/1 [==============================] - 0s 25ms/step\n",
            "1/1 [==============================] - 0s 24ms/step\n",
            "1/1 [==============================] - 0s 25ms/step\n",
            "1/1 [==============================] - 0s 23ms/step\n",
            "1/1 [==============================] - 0s 24ms/step\n",
            "예측 요약 :  my cats love it\n",
            "\n",
            "\n",
            "원문 : reviews amazon smelly received everything fine noodles come small packets liquid took three packets noodles create spaghetti meat sauce smell opening noodles unpleasant bad enough throw odor noodles reminded something slightly seafood smelling mixed spaghetti sauce odor noodles excellent substitute carb rich noodles similar texture consistency real thing definitely buying \n",
            "실제 요약 : miracle noodles quite \n",
            "1/1 [==============================] - 0s 38ms/step\n",
            "1/1 [==============================] - 0s 23ms/step\n",
            "1/1 [==============================] - 0s 23ms/step\n",
            "1/1 [==============================] - 0s 24ms/step\n",
            "예측 요약 :  not bad\n",
            "\n",
            "\n",
            "원문 : pretty substantial cookie decent amount fiber conveniently packaged work school calories per cookie diet food opinion gourmet treat dry soft cookie pleasant chocolate almond flavor decent choice school lunch th go snack unlikely satisfy cookie lover wanting treat \n",
            "실제 요약 : school lunch snack \n",
            "1/1 [==============================] - 0s 38ms/step\n",
            "1/1 [==============================] - 0s 24ms/step\n",
            "1/1 [==============================] - 0s 23ms/step\n",
            "1/1 [==============================] - 0s 23ms/step\n",
            "예측 요약 :  great cookie\n",
            "\n",
            "\n",
            "원문 : tried one glad bought company coming alternative typical soft drinks would describe sickeningly sweet syrup little carbonation added plenty carbonation essential soft drink makes refreshing plus sweetness said glad one regret wasted ounces perfectly good vodka trying make palatable \n",
            "실제 요약 : way sweet \n",
            "1/1 [==============================] - 0s 38ms/step\n",
            "1/1 [==============================] - 0s 27ms/step\n",
            "1/1 [==============================] - 0s 24ms/step\n",
            "1/1 [==============================] - 0s 27ms/step\n",
            "예측 요약 :  good stuff\n",
            "\n",
            "\n",
            "원문 : tea wins people whenever serve iced summer go gallons party sugar needed definately milk flavorful soda without calories chemicals bubbles supply dozen boxes flavor maybe pumpkin spices quite better \n",
            "실제 요약 : yum hot or cold it is gold \n",
            "1/1 [==============================] - 0s 37ms/step\n",
            "1/1 [==============================] - 0s 24ms/step\n",
            "1/1 [==============================] - 0s 23ms/step\n",
            "1/1 [==============================] - 0s 23ms/step\n",
            "예측 요약 :  great tea\n",
            "\n",
            "\n",
            "원문 : good idea one packet make cups coffee ekobrew filter cups open one packet put half put cup carousel everything else personally would rather pay pre made cups return used however good lot company get use really better lazy \n",
            "실제 요약 : good coffee \n",
            "1/1 [==============================] - 0s 39ms/step\n",
            "1/1 [==============================] - 0s 23ms/step\n",
            "1/1 [==============================] - 0s 24ms/step\n",
            "1/1 [==============================] - 0s 25ms/step\n",
            "1/1 [==============================] - 0s 25ms/step\n",
            "1/1 [==============================] - 0s 22ms/step\n",
            "1/1 [==============================] - 0s 23ms/step\n",
            "예측 요약 :  not as good as the\n",
            "\n",
            "\n",
            "원문 : love sushi always combination soy wasabi raw fish never would though wasabi would go well nuts almonds spectacular careful eat many know long market think brilliant also like lime chili habanero bbq wasabi soy favorite thank goodness almonds good even though lot kick three flavors low sodium \n",
            "실제 요약 : love these almonds wasabi soy \n",
            "1/1 [==============================] - 0s 39ms/step\n",
            "1/1 [==============================] - 0s 23ms/step\n",
            "1/1 [==============================] - 0s 24ms/step\n",
            "1/1 [==============================] - 0s 22ms/step\n",
            "예측 요약 :  great snack\n",
            "\n",
            "\n",
            "원문 : sooo good yummy filling natural could ask \n",
            "실제 요약 : healthy snack \n",
            "1/1 [==============================] - 0s 38ms/step\n",
            "1/1 [==============================] - 0s 23ms/step\n",
            "1/1 [==============================] - 0s 22ms/step\n",
            "예측 요약 :  yummy\n",
            "\n",
            "\n",
            "원문 : pets diet years dogs cats love food since months old younger cat sick brought home nervous putting diet well vet uses product recommended switch right away high quality food put speedy recovery everyone contact pets made comments beautiful fur \n",
            "실제 요약 : diet cat dog food is the best \n",
            "1/1 [==============================] - 0s 37ms/step\n",
            "1/1 [==============================] - 0s 23ms/step\n",
            "1/1 [==============================] - 0s 23ms/step\n",
            "1/1 [==============================] - 0s 23ms/step\n",
            "1/1 [==============================] - 0s 23ms/step\n",
            "예측 요약 :  great for cats\n",
            "\n",
            "\n",
            "원문 : coffee happy two separate pounds complete smell flavor disappointing sure long stretch beans roasted packaged sold price point expect consistency pike place strong full flavored coffee husband love morning get look forward making fresh pot pike mind paying three stars every time purchased pike place would rate stars without hesitation \n",
            "실제 요약 : when it is not so good it is \n",
            "1/1 [==============================] - 0s 38ms/step\n",
            "1/1 [==============================] - 0s 25ms/step\n",
            "1/1 [==============================] - 0s 24ms/step\n",
            "1/1 [==============================] - 0s 24ms/step\n",
            "1/1 [==============================] - 0s 25ms/step\n",
            "1/1 [==============================] - 0s 23ms/step\n",
            "1/1 [==============================] - 0s 24ms/step\n",
            "예측 요약 :  not as good as the\n",
            "\n",
            "\n",
            "원문 : always drink vanilla flavored coffee gotten know quite brands one good best \n",
            "실제 요약 : good value not as flavorful as some \n",
            "1/1 [==============================] - 0s 37ms/step\n",
            "1/1 [==============================] - 0s 23ms/step\n",
            "1/1 [==============================] - 0s 23ms/step\n",
            "1/1 [==============================] - 0s 22ms/step\n",
            "예측 요약 :  great coffee\n",
            "\n",
            "\n",
            "원문 : excellent sweet caramel back flavor good coffee flavor bitterness order one would recommend friend \n",
            "실제 요약 : excellent \n",
            "1/1 [==============================] - 0s 39ms/step\n",
            "1/1 [==============================] - 0s 23ms/step\n",
            "1/1 [==============================] - 0s 24ms/step\n",
            "1/1 [==============================] - 0s 23ms/step\n",
            "예측 요약 :  great coffee\n",
            "\n",
            "\n",
            "원문 : packs last long home found cookie wrappers everywhere saw box top shelf thought still eating one box boxes empty sitting nice neat ordered anymore make wait gone much fast guess break give leave empty boxes shelf ha ha \n",
            "실제 요약 : favorite cookies indeed \n",
            "1/1 [==============================] - 0s 39ms/step\n",
            "1/1 [==============================] - 0s 24ms/step\n",
            "1/1 [==============================] - 0s 24ms/step\n",
            "예측 요약 :  great\n",
            "\n",
            "\n",
            "원문 : wanted something different besides black pepper nice change pallet product price reasonable delivered timely manner fresh \n",
            "실제 요약 : delicious and fresh \n",
            "1/1 [==============================] - 0s 39ms/step\n",
            "1/1 [==============================] - 0s 23ms/step\n",
            "1/1 [==============================] - 0s 23ms/step\n",
            "1/1 [==============================] - 0s 22ms/step\n",
            "예측 요약 :  good product\n",
            "\n",
            "\n",
            "원문 : looking raw pumpkin seeds processed facility equipment dealing eggs etc right place shop want seeds without cross contamination also purchased sunflower seed kernels seller \n",
            "실제 요약 : raw pumpkin seeds \n",
            "1/1 [==============================] - 0s 37ms/step\n",
            "1/1 [==============================] - 0s 24ms/step\n",
            "1/1 [==============================] - 0s 24ms/step\n",
            "예측 요약 :  pumpkin\n",
            "\n",
            "\n",
            "원문 : makes wonderful baby food cake unable find plum baby food grocery stores purchased item said work \n",
            "실제 요약 : needed baby food for cake recipe \n",
            "1/1 [==============================] - 0s 39ms/step\n",
            "1/1 [==============================] - 0s 23ms/step\n",
            "1/1 [==============================] - 0s 22ms/step\n",
            "1/1 [==============================] - 0s 25ms/step\n",
            "예측 요약 :  baby food\n",
            "\n",
            "\n",
            "원문 : used coffee trying others seem go back nice cup morning coffee price good \n",
            "실제 요약 : very nice cup of morning coffee \n",
            "1/1 [==============================] - 0s 41ms/step\n",
            "1/1 [==============================] - 0s 23ms/step\n",
            "1/1 [==============================] - 0s 26ms/step\n",
            "1/1 [==============================] - 0s 24ms/step\n",
            "예측 요약 :  great coffee\n",
            "\n",
            "\n",
            "원문 : month old lab retriever hound mix wet stool long time addition thought much food drive would trick eating food switching wellness puppy food natural balance venison sweet potato normal healthy eagerly waits meals \n",
            "실제 요약 : the best of the best \n",
            "1/1 [==============================] - 0s 38ms/step\n",
            "1/1 [==============================] - 0s 22ms/step\n",
            "1/1 [==============================] - 0s 23ms/step\n",
            "1/1 [==============================] - 0s 23ms/step\n",
            "1/1 [==============================] - 0s 24ms/step\n",
            "1/1 [==============================] - 0s 23ms/step\n",
            "예측 요약 :  my dog loves it\n",
            "\n",
            "\n",
            "원문 : daughter eat fruits veggies pick eater mix regular chocolate milk least drinking good stuff comes superfood mix buying second time would recommend hard mix mix one scoop tiny bit whatever liquid using smooth pour rest liquid \n",
            "실제 요약 : mix it with \n",
            "1/1 [==============================] - 0s 38ms/step\n",
            "1/1 [==============================] - 0s 24ms/step\n",
            "1/1 [==============================] - 0s 23ms/step\n",
            "1/1 [==============================] - 0s 23ms/step\n",
            "1/1 [==============================] - 0s 26ms/step\n",
            "1/1 [==============================] - 0s 25ms/step\n",
            "예측 요약 :  great alternative to soda\n",
            "\n",
            "\n",
            "원문 : found bad keurig coffee version yet one included since receiving machine starbucks maybe twice since beginning january used go week husband loving gift starbucks enjoy \n",
            "실제 요약 : medium smooth \n",
            "1/1 [==============================] - 0s 39ms/step\n",
            "1/1 [==============================] - 0s 23ms/step\n",
            "1/1 [==============================] - 0s 25ms/step\n",
            "1/1 [==============================] - 0s 24ms/step\n",
            "예측 요약 :  great coffee\n",
            "\n",
            "\n",
            "원문 : wonderful product drinking since day got help low blood pressure excellent \n",
            "실제 요약 : excellent product \n",
            "1/1 [==============================] - 0s 40ms/step\n",
            "1/1 [==============================] - 0s 24ms/step\n",
            "1/1 [==============================] - 0s 22ms/step\n",
            "1/1 [==============================] - 0s 23ms/step\n",
            "예측 요약 :  great product\n",
            "\n",
            "\n",
            "원문 : nuts tasted fresh pleasant aroma opened canister canister convenient wide enough reach snack without rough plastic rim pepper flavor significant overpowering good balance however like salty snacks found little salty even risk flavor cashew like salty good like mildly salty steer clear cannot even imagine ones bottom canister would taste \n",
            "실제 요약 : very heavy on the salt \n",
            "1/1 [==============================] - 0s 39ms/step\n",
            "1/1 [==============================] - 0s 23ms/step\n",
            "1/1 [==============================] - 0s 24ms/step\n",
            "1/1 [==============================] - 0s 23ms/step\n",
            "1/1 [==============================] - 0s 23ms/step\n",
            "예측 요약 :  not too salty\n",
            "\n",
            "\n"
          ]
        }
      ]
    },
    {
      "cell_type": "markdown",
      "source": [
        "## 추출적 요약"
      ],
      "metadata": {
        "id": "f3kN52z4tGdd"
      }
    },
    {
      "cell_type": "code",
      "source": [
        "pip list | grep summa"
      ],
      "metadata": {
        "colab": {
          "base_uri": "https://localhost:8080/"
        },
        "id": "ClKqBPnHtH5A",
        "outputId": "f8897e52-7a93-4eb4-d812-238c885e412d"
      },
      "execution_count": null,
      "outputs": [
        {
          "output_type": "stream",
          "name": "stdout",
          "text": [
            "torchsummary                     1.5.1\n"
          ]
        }
      ]
    },
    {
      "cell_type": "code",
      "source": [
        "pip install summa"
      ],
      "metadata": {
        "colab": {
          "base_uri": "https://localhost:8080/"
        },
        "id": "933jqFxdLeZC",
        "outputId": "dead1e39-8bf2-4435-82f9-8aebe4611817"
      },
      "execution_count": null,
      "outputs": [
        {
          "output_type": "stream",
          "name": "stdout",
          "text": [
            "Collecting summa\n",
            "  Downloading summa-1.2.0.tar.gz (54 kB)\n",
            "\u001b[?25l     \u001b[90m━━━━━━━━━━━━━━━━━━━━━━━━━━━━━━━━━━━━━━━━\u001b[0m \u001b[32m0.0/54.9 kB\u001b[0m \u001b[31m?\u001b[0m eta \u001b[36m-:--:--\u001b[0m\r\u001b[2K     \u001b[90m━━━━━━━━━━━━━━━━━━━━━━━━━━━━━━━━━━━━━━━━\u001b[0m \u001b[32m54.9/54.9 kB\u001b[0m \u001b[31m1.4 MB/s\u001b[0m eta \u001b[36m0:00:00\u001b[0m\n",
            "\u001b[?25h  Preparing metadata (setup.py) ... \u001b[?25l\u001b[?25hdone\n",
            "Requirement already satisfied: scipy>=0.19 in /usr/local/lib/python3.10/dist-packages (from summa) (1.11.2)\n",
            "Requirement already satisfied: numpy<1.28.0,>=1.21.6 in /usr/local/lib/python3.10/dist-packages (from scipy>=0.19->summa) (1.23.5)\n",
            "Building wheels for collected packages: summa\n",
            "  Building wheel for summa (setup.py) ... \u001b[?25l\u001b[?25hdone\n",
            "  Created wheel for summa: filename=summa-1.2.0-py3-none-any.whl size=54389 sha256=141ba064d5c6c86aa7e72b3f8b899591b31c0d925825be3aa802b7ed40ea4975\n",
            "  Stored in directory: /root/.cache/pip/wheels/4a/ca/c5/4958614cfba88ed6ceb7cb5a849f9f89f9ac49971616bc919f\n",
            "Successfully built summa\n",
            "Installing collected packages: summa\n",
            "Successfully installed summa-1.2.0\n"
          ]
        }
      ]
    },
    {
      "cell_type": "code",
      "source": [
        "import requests\n",
        "from summa.summarizer import summarize\n",
        "\n",
        "text = requests.get('http://rare-technologies.com/the_matrix_synopsis.txt').text\n",
        "\n",
        "print(text[:1500])"
      ],
      "metadata": {
        "colab": {
          "base_uri": "https://localhost:8080/"
        },
        "id": "kfqVncC44oL8",
        "outputId": "1357e924-9f4f-4528-dc1f-142ed1ce93c2"
      },
      "execution_count": null,
      "outputs": [
        {
          "output_type": "stream",
          "name": "stdout",
          "text": [
            "The screen is filled with green, cascading code which gives way to the title, The Matrix.\r\n",
            "\r\n",
            "A phone rings and text appears on the screen: \"Call trans opt: received. 2-19-98 13:24:18 REC: Log>\" As a conversation takes place between Trinity (Carrie-Anne Moss) and Cypher (Joe Pantoliano), two free humans, a table of random green numbers are being scanned and individual numbers selected, creating a series of digits not unlike an ordinary phone number, as if a code is being deciphered or a call is being traced.\r\n",
            "\r\n",
            "Trinity discusses some unknown person. Cypher taunts Trinity, suggesting she enjoys watching him. Trinity counters that \"Morpheus (Laurence Fishburne) says he may be 'the One',\" just as the sound of a number being selected alerts Trinity that someone may be tracing their call. She ends the call.\r\n",
            "\r\n",
            "Armed policemen move down a darkened, decrepit hallway in the Heart O' the City Hotel, their flashlight beam bouncing just ahead of them. They come to room 303, kick down the door and find a woman dressed in black, facing away from them. It's Trinity. She brings her hands up from the laptop she's working on at their command.\r\n",
            "\r\n",
            "Outside the hotel a car drives up and three agents appear in neatly pressed black suits. They are Agent Smith (Hugo Weaving), Agent Brown (Paul Goddard), and Agent Jones (Robert Taylor). Agent Smith and the presiding police lieutenant argue. Agent Smith admonishes the policeman that they were given specific orders to contact the agents first, for their\n"
          ]
        }
      ]
    },
    {
      "cell_type": "markdown",
      "source": [
        "### summary 사용"
      ],
      "metadata": {
        "id": "yatix5FE4ssM"
      }
    },
    {
      "cell_type": "code",
      "source": [
        "print('Summary:')\n",
        "print(summarize(text, ratio=0.005))"
      ],
      "metadata": {
        "colab": {
          "base_uri": "https://localhost:8080/"
        },
        "id": "Jto_o9ed4sGd",
        "outputId": "15030564-131c-4ddf-ad56-a4162da66bfd"
      },
      "execution_count": null,
      "outputs": [
        {
          "output_type": "stream",
          "name": "stdout",
          "text": [
            "Summary:\n",
            "Morpheus, Trinity, Neo, Apoc, Switch, Mouse and Cypher are jacked into the Matrix.\n",
            "Trinity brings the helicopter down to the floor that Morpheus is on and Neo opens fire on the three Agents.\n"
          ]
        }
      ]
    },
    {
      "cell_type": "code",
      "source": [
        "print('Summary:')\n",
        "print(summarize(text, ratio=0.005, split=True))"
      ],
      "metadata": {
        "colab": {
          "base_uri": "https://localhost:8080/"
        },
        "id": "NRigA8-s4xqo",
        "outputId": "d508de27-e45c-43dd-f3c1-07debf412f7d"
      },
      "execution_count": null,
      "outputs": [
        {
          "output_type": "stream",
          "name": "stdout",
          "text": [
            "Summary:\n",
            "['Morpheus, Trinity, Neo, Apoc, Switch, Mouse and Cypher are jacked into the Matrix.', 'Trinity brings the helicopter down to the floor that Morpheus is on and Neo opens fire on the three Agents.']\n"
          ]
        }
      ]
    },
    {
      "cell_type": "code",
      "source": [
        "print('Summary:')\n",
        "print(summarize(text, words=50))"
      ],
      "metadata": {
        "colab": {
          "base_uri": "https://localhost:8080/"
        },
        "id": "KFvjbSUl4y69",
        "outputId": "f0eec1d3-2220-4446-9c15-a46b650e96a9"
      },
      "execution_count": null,
      "outputs": [
        {
          "output_type": "stream",
          "name": "stdout",
          "text": [
            "Summary:\n",
            "Trinity takes Neo to Morpheus.\n",
            "Morpheus, Trinity, Neo, Apoc, Switch, Mouse and Cypher are jacked into the Matrix.\n",
            "Trinity brings the helicopter down to the floor that Morpheus is on and Neo opens fire on the three Agents.\n"
          ]
        }
      ]
    }
  ]
}